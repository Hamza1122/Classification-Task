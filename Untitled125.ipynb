{
  "nbformat": 4,
  "nbformat_minor": 0,
  "metadata": {
    "colab": {
      "name": "Untitled125.ipynb",
      "provenance": [],
      "collapsed_sections": [],
      "authorship_tag": "ABX9TyNMyRhXbOVBqD9I/9ipJDhy",
      "include_colab_link": true
    },
    "kernelspec": {
      "name": "python3",
      "display_name": "Python 3"
    }
  },
  "cells": [
    {
      "cell_type": "markdown",
      "metadata": {
        "id": "view-in-github",
        "colab_type": "text"
      },
      "source": [
        "<a href=\"https://colab.research.google.com/github/Hamza1122/Classification-Task/blob/main/Untitled125.ipynb\" target=\"_parent\"><img src=\"https://colab.research.google.com/assets/colab-badge.svg\" alt=\"Open In Colab\"/></a>"
      ]
    },
    {
      "cell_type": "code",
      "metadata": {
        "id": "EP0SwS2UnE8H"
      },
      "source": [
        "import pandas as pd\n",
        "import numpy as np\n",
        "import matplotlib.pyplot as plt\n",
        "import seaborn as sns"
      ],
      "execution_count": 1,
      "outputs": []
    },
    {
      "cell_type": "code",
      "metadata": {
        "id": "lhLW0DUQn6mt"
      },
      "source": [
        "df=pd.read_csv('Assignment3-TrainingData.csv')"
      ],
      "execution_count": 2,
      "outputs": []
    },
    {
      "cell_type": "code",
      "metadata": {
        "id": "R7PzyNyjoK1w",
        "outputId": "55d98fe4-6be7-49ae-fb17-77e38532b41c",
        "colab": {
          "base_uri": "https://localhost:8080/",
          "height": 615
        }
      },
      "source": [
        "df.head(10)"
      ],
      "execution_count": 3,
      "outputs": [
        {
          "output_type": "execute_result",
          "data": {
            "text/html": [
              "<div>\n",
              "<style scoped>\n",
              "    .dataframe tbody tr th:only-of-type {\n",
              "        vertical-align: middle;\n",
              "    }\n",
              "\n",
              "    .dataframe tbody tr th {\n",
              "        vertical-align: top;\n",
              "    }\n",
              "\n",
              "    .dataframe thead th {\n",
              "        text-align: right;\n",
              "    }\n",
              "</style>\n",
              "<table border=\"1\" class=\"dataframe\">\n",
              "  <thead>\n",
              "    <tr style=\"text-align: right;\">\n",
              "      <th></th>\n",
              "      <th>row ID</th>\n",
              "      <th>BATHRM</th>\n",
              "      <th>HF_BATHRM</th>\n",
              "      <th>HEAT</th>\n",
              "      <th>HEAT_D</th>\n",
              "      <th>AC</th>\n",
              "      <th>NUM_UNITS</th>\n",
              "      <th>ROOMS</th>\n",
              "      <th>BEDRM</th>\n",
              "      <th>AYB</th>\n",
              "      <th>YR_RMDL</th>\n",
              "      <th>EYB</th>\n",
              "      <th>STORIES</th>\n",
              "      <th>SALEDATE</th>\n",
              "      <th>PRICE</th>\n",
              "      <th>SALE_NUM</th>\n",
              "      <th>GBA</th>\n",
              "      <th>BLDG_NUM</th>\n",
              "      <th>STYLE</th>\n",
              "      <th>STYLE_D</th>\n",
              "      <th>STRUCT</th>\n",
              "      <th>STRUCT_D</th>\n",
              "      <th>GRADE</th>\n",
              "      <th>GRADE_D</th>\n",
              "      <th>CNDTN</th>\n",
              "      <th>CNDTN_D</th>\n",
              "      <th>EXTWALL</th>\n",
              "      <th>EXTWALL_D</th>\n",
              "      <th>ROOF</th>\n",
              "      <th>ROOF_D</th>\n",
              "      <th>INTWALL</th>\n",
              "      <th>INTWALL_D</th>\n",
              "      <th>KITCHENS</th>\n",
              "      <th>FIREPLACES</th>\n",
              "      <th>USECODE</th>\n",
              "      <th>LANDAREA</th>\n",
              "      <th>GIS_LAST_MOD_DTTM</th>\n",
              "      <th>QUALIFIED</th>\n",
              "    </tr>\n",
              "  </thead>\n",
              "  <tbody>\n",
              "    <tr>\n",
              "      <th>0</th>\n",
              "      <td>Row0</td>\n",
              "      <td>3.0</td>\n",
              "      <td>1.0</td>\n",
              "      <td>7.0</td>\n",
              "      <td>Warm Cool</td>\n",
              "      <td>Y</td>\n",
              "      <td>2.0</td>\n",
              "      <td>11.0</td>\n",
              "      <td>5.0</td>\n",
              "      <td>1898.0</td>\n",
              "      <td>2007.0</td>\n",
              "      <td>1972</td>\n",
              "      <td>3.0</td>\n",
              "      <td>2000-08-17T00:00:00.000Z</td>\n",
              "      <td>0.0</td>\n",
              "      <td>1.0</td>\n",
              "      <td>2567.0</td>\n",
              "      <td>1.0</td>\n",
              "      <td>7.0</td>\n",
              "      <td>3 Story</td>\n",
              "      <td>7.0</td>\n",
              "      <td>Row Inside</td>\n",
              "      <td>6.0</td>\n",
              "      <td>Very Good</td>\n",
              "      <td>4.0</td>\n",
              "      <td>Good</td>\n",
              "      <td>14.0</td>\n",
              "      <td>Common Brick</td>\n",
              "      <td>2.0</td>\n",
              "      <td>Built Up</td>\n",
              "      <td>6.0</td>\n",
              "      <td>Hardwood</td>\n",
              "      <td>2.0</td>\n",
              "      <td>4.0</td>\n",
              "      <td>24.0</td>\n",
              "      <td>1680.0</td>\n",
              "      <td>2018-07-22T18:01:43.000Z</td>\n",
              "      <td>0.0</td>\n",
              "    </tr>\n",
              "    <tr>\n",
              "      <th>1</th>\n",
              "      <td>Row1</td>\n",
              "      <td>3.0</td>\n",
              "      <td>1.0</td>\n",
              "      <td>13.0</td>\n",
              "      <td>Hot Water Rad</td>\n",
              "      <td>Y</td>\n",
              "      <td>2.0</td>\n",
              "      <td>9.0</td>\n",
              "      <td>5.0</td>\n",
              "      <td>1910.0</td>\n",
              "      <td>2009.0</td>\n",
              "      <td>1984</td>\n",
              "      <td>3.0</td>\n",
              "      <td>2016-06-21T00:00:00.000Z</td>\n",
              "      <td>2100000.0</td>\n",
              "      <td>3.0</td>\n",
              "      <td>2522.0</td>\n",
              "      <td>1.0</td>\n",
              "      <td>7.0</td>\n",
              "      <td>3 Story</td>\n",
              "      <td>7.0</td>\n",
              "      <td>Row Inside</td>\n",
              "      <td>6.0</td>\n",
              "      <td>Very Good</td>\n",
              "      <td>5.0</td>\n",
              "      <td>Very Good</td>\n",
              "      <td>14.0</td>\n",
              "      <td>Common Brick</td>\n",
              "      <td>2.0</td>\n",
              "      <td>Built Up</td>\n",
              "      <td>6.0</td>\n",
              "      <td>Hardwood</td>\n",
              "      <td>2.0</td>\n",
              "      <td>4.0</td>\n",
              "      <td>24.0</td>\n",
              "      <td>1680.0</td>\n",
              "      <td>2018-07-22T18:01:43.000Z</td>\n",
              "      <td>1.0</td>\n",
              "    </tr>\n",
              "    <tr>\n",
              "      <th>2</th>\n",
              "      <td>Row2</td>\n",
              "      <td>2.0</td>\n",
              "      <td>1.0</td>\n",
              "      <td>7.0</td>\n",
              "      <td>Warm Cool</td>\n",
              "      <td>Y</td>\n",
              "      <td>1.0</td>\n",
              "      <td>11.0</td>\n",
              "      <td>3.0</td>\n",
              "      <td>1913.0</td>\n",
              "      <td>2012.0</td>\n",
              "      <td>1985</td>\n",
              "      <td>3.0</td>\n",
              "      <td>1900-01-01T00:00:00.000Z</td>\n",
              "      <td>NaN</td>\n",
              "      <td>1.0</td>\n",
              "      <td>5255.0</td>\n",
              "      <td>1.0</td>\n",
              "      <td>7.0</td>\n",
              "      <td>3 Story</td>\n",
              "      <td>8.0</td>\n",
              "      <td>Semi-Detached</td>\n",
              "      <td>6.0</td>\n",
              "      <td>Very Good</td>\n",
              "      <td>4.0</td>\n",
              "      <td>Good</td>\n",
              "      <td>14.0</td>\n",
              "      <td>Common Brick</td>\n",
              "      <td>13.0</td>\n",
              "      <td>Neopren</td>\n",
              "      <td>6.0</td>\n",
              "      <td>Hardwood</td>\n",
              "      <td>1.0</td>\n",
              "      <td>0.0</td>\n",
              "      <td>13.0</td>\n",
              "      <td>2032.0</td>\n",
              "      <td>2018-07-22T18:01:43.000Z</td>\n",
              "      <td>0.0</td>\n",
              "    </tr>\n",
              "    <tr>\n",
              "      <th>3</th>\n",
              "      <td>Row3</td>\n",
              "      <td>3.0</td>\n",
              "      <td>2.0</td>\n",
              "      <td>13.0</td>\n",
              "      <td>Hot Water Rad</td>\n",
              "      <td>Y</td>\n",
              "      <td>1.0</td>\n",
              "      <td>10.0</td>\n",
              "      <td>5.0</td>\n",
              "      <td>1913.0</td>\n",
              "      <td>NaN</td>\n",
              "      <td>1972</td>\n",
              "      <td>4.0</td>\n",
              "      <td>2010-02-26T00:00:00.000Z</td>\n",
              "      <td>1950000.0</td>\n",
              "      <td>1.0</td>\n",
              "      <td>5344.0</td>\n",
              "      <td>1.0</td>\n",
              "      <td>10.0</td>\n",
              "      <td>4 Story</td>\n",
              "      <td>7.0</td>\n",
              "      <td>Row Inside</td>\n",
              "      <td>6.0</td>\n",
              "      <td>Very Good</td>\n",
              "      <td>4.0</td>\n",
              "      <td>Good</td>\n",
              "      <td>14.0</td>\n",
              "      <td>Common Brick</td>\n",
              "      <td>2.0</td>\n",
              "      <td>Built Up</td>\n",
              "      <td>6.0</td>\n",
              "      <td>Hardwood</td>\n",
              "      <td>1.0</td>\n",
              "      <td>4.0</td>\n",
              "      <td>11.0</td>\n",
              "      <td>2196.0</td>\n",
              "      <td>2018-07-22T18:01:43.000Z</td>\n",
              "      <td>1.0</td>\n",
              "    </tr>\n",
              "    <tr>\n",
              "      <th>4</th>\n",
              "      <td>Row4</td>\n",
              "      <td>3.0</td>\n",
              "      <td>1.0</td>\n",
              "      <td>7.0</td>\n",
              "      <td>Warm Cool</td>\n",
              "      <td>Y</td>\n",
              "      <td>2.0</td>\n",
              "      <td>7.0</td>\n",
              "      <td>3.0</td>\n",
              "      <td>1908.0</td>\n",
              "      <td>2008.0</td>\n",
              "      <td>1967</td>\n",
              "      <td>2.0</td>\n",
              "      <td>2018-05-03T00:00:00.000Z</td>\n",
              "      <td>1430000.0</td>\n",
              "      <td>4.0</td>\n",
              "      <td>1488.0</td>\n",
              "      <td>1.0</td>\n",
              "      <td>4.0</td>\n",
              "      <td>2 Story</td>\n",
              "      <td>7.0</td>\n",
              "      <td>Row Inside</td>\n",
              "      <td>4.0</td>\n",
              "      <td>Above Average</td>\n",
              "      <td>5.0</td>\n",
              "      <td>Very Good</td>\n",
              "      <td>14.0</td>\n",
              "      <td>Common Brick</td>\n",
              "      <td>2.0</td>\n",
              "      <td>Built Up</td>\n",
              "      <td>6.0</td>\n",
              "      <td>Hardwood</td>\n",
              "      <td>2.0</td>\n",
              "      <td>1.0</td>\n",
              "      <td>24.0</td>\n",
              "      <td>1424.0</td>\n",
              "      <td>2018-07-22T18:01:43.000Z</td>\n",
              "      <td>1.0</td>\n",
              "    </tr>\n",
              "    <tr>\n",
              "      <th>5</th>\n",
              "      <td>Row5</td>\n",
              "      <td>3.0</td>\n",
              "      <td>0.0</td>\n",
              "      <td>1.0</td>\n",
              "      <td>Forced Air</td>\n",
              "      <td>N</td>\n",
              "      <td>3.0</td>\n",
              "      <td>12.0</td>\n",
              "      <td>5.0</td>\n",
              "      <td>1890.0</td>\n",
              "      <td>1950.0</td>\n",
              "      <td>1954</td>\n",
              "      <td>3.0</td>\n",
              "      <td>1900-01-01T00:00:00.000Z</td>\n",
              "      <td>NaN</td>\n",
              "      <td>1.0</td>\n",
              "      <td>2748.0</td>\n",
              "      <td>1.0</td>\n",
              "      <td>7.0</td>\n",
              "      <td>3 Story</td>\n",
              "      <td>7.0</td>\n",
              "      <td>Row Inside</td>\n",
              "      <td>6.0</td>\n",
              "      <td>Very Good</td>\n",
              "      <td>2.0</td>\n",
              "      <td>Fair</td>\n",
              "      <td>14.0</td>\n",
              "      <td>Common Brick</td>\n",
              "      <td>6.0</td>\n",
              "      <td>Metal- Sms</td>\n",
              "      <td>6.0</td>\n",
              "      <td>Hardwood</td>\n",
              "      <td>3.0</td>\n",
              "      <td>0.0</td>\n",
              "      <td>24.0</td>\n",
              "      <td>1360.0</td>\n",
              "      <td>2018-07-22T18:01:43.000Z</td>\n",
              "      <td>0.0</td>\n",
              "    </tr>\n",
              "    <tr>\n",
              "      <th>6</th>\n",
              "      <td>Row6</td>\n",
              "      <td>5.0</td>\n",
              "      <td>0.0</td>\n",
              "      <td>13.0</td>\n",
              "      <td>Hot Water Rad</td>\n",
              "      <td>Y</td>\n",
              "      <td>3.0</td>\n",
              "      <td>16.0</td>\n",
              "      <td>6.0</td>\n",
              "      <td>1905.0</td>\n",
              "      <td>NaN</td>\n",
              "      <td>1950</td>\n",
              "      <td>3.0</td>\n",
              "      <td>2009-03-12T00:00:00.000Z</td>\n",
              "      <td>0.0</td>\n",
              "      <td>1.0</td>\n",
              "      <td>3100.0</td>\n",
              "      <td>1.0</td>\n",
              "      <td>7.0</td>\n",
              "      <td>3 Story</td>\n",
              "      <td>7.0</td>\n",
              "      <td>Row Inside</td>\n",
              "      <td>5.0</td>\n",
              "      <td>Good Quality</td>\n",
              "      <td>3.0</td>\n",
              "      <td>Average</td>\n",
              "      <td>14.0</td>\n",
              "      <td>Common Brick</td>\n",
              "      <td>6.0</td>\n",
              "      <td>Metal- Sms</td>\n",
              "      <td>6.0</td>\n",
              "      <td>Hardwood</td>\n",
              "      <td>3.0</td>\n",
              "      <td>0.0</td>\n",
              "      <td>24.0</td>\n",
              "      <td>2023.0</td>\n",
              "      <td>2018-07-22T18:01:43.000Z</td>\n",
              "      <td>0.0</td>\n",
              "    </tr>\n",
              "    <tr>\n",
              "      <th>7</th>\n",
              "      <td>Row7</td>\n",
              "      <td>2.0</td>\n",
              "      <td>0.0</td>\n",
              "      <td>13.0</td>\n",
              "      <td>Hot Water Rad</td>\n",
              "      <td>N</td>\n",
              "      <td>2.0</td>\n",
              "      <td>9.0</td>\n",
              "      <td>5.0</td>\n",
              "      <td>1894.0</td>\n",
              "      <td>1979.0</td>\n",
              "      <td>1963</td>\n",
              "      <td>3.0</td>\n",
              "      <td>1900-01-01T00:00:00.000Z</td>\n",
              "      <td>NaN</td>\n",
              "      <td>1.0</td>\n",
              "      <td>3119.0</td>\n",
              "      <td>1.0</td>\n",
              "      <td>7.0</td>\n",
              "      <td>3 Story</td>\n",
              "      <td>7.0</td>\n",
              "      <td>Row Inside</td>\n",
              "      <td>6.0</td>\n",
              "      <td>Very Good</td>\n",
              "      <td>3.0</td>\n",
              "      <td>Average</td>\n",
              "      <td>20.0</td>\n",
              "      <td>Brick/Stone</td>\n",
              "      <td>6.0</td>\n",
              "      <td>Metal- Sms</td>\n",
              "      <td>6.0</td>\n",
              "      <td>Hardwood</td>\n",
              "      <td>2.0</td>\n",
              "      <td>5.0</td>\n",
              "      <td>24.0</td>\n",
              "      <td>1837.0</td>\n",
              "      <td>2018-07-22T18:01:43.000Z</td>\n",
              "      <td>0.0</td>\n",
              "    </tr>\n",
              "    <tr>\n",
              "      <th>8</th>\n",
              "      <td>Row8</td>\n",
              "      <td>3.0</td>\n",
              "      <td>1.0</td>\n",
              "      <td>7.0</td>\n",
              "      <td>Warm Cool</td>\n",
              "      <td>Y</td>\n",
              "      <td>2.0</td>\n",
              "      <td>5.0</td>\n",
              "      <td>3.0</td>\n",
              "      <td>1917.0</td>\n",
              "      <td>2000.0</td>\n",
              "      <td>1967</td>\n",
              "      <td>2.0</td>\n",
              "      <td>2011-09-30T00:00:00.000Z</td>\n",
              "      <td>1325000.0</td>\n",
              "      <td>1.0</td>\n",
              "      <td>2692.0</td>\n",
              "      <td>1.0</td>\n",
              "      <td>4.0</td>\n",
              "      <td>2 Story</td>\n",
              "      <td>7.0</td>\n",
              "      <td>Row Inside</td>\n",
              "      <td>4.0</td>\n",
              "      <td>Above Average</td>\n",
              "      <td>5.0</td>\n",
              "      <td>Very Good</td>\n",
              "      <td>5.0</td>\n",
              "      <td>Stucco</td>\n",
              "      <td>6.0</td>\n",
              "      <td>Metal- Sms</td>\n",
              "      <td>6.0</td>\n",
              "      <td>Hardwood</td>\n",
              "      <td>2.0</td>\n",
              "      <td>1.0</td>\n",
              "      <td>24.0</td>\n",
              "      <td>1815.0</td>\n",
              "      <td>2018-07-22T18:01:43.000Z</td>\n",
              "      <td>1.0</td>\n",
              "    </tr>\n",
              "    <tr>\n",
              "      <th>9</th>\n",
              "      <td>Row9</td>\n",
              "      <td>2.0</td>\n",
              "      <td>1.0</td>\n",
              "      <td>7.0</td>\n",
              "      <td>Warm Cool</td>\n",
              "      <td>Y</td>\n",
              "      <td>2.0</td>\n",
              "      <td>9.0</td>\n",
              "      <td>4.0</td>\n",
              "      <td>1908.0</td>\n",
              "      <td>1990.0</td>\n",
              "      <td>1947</td>\n",
              "      <td>2.0</td>\n",
              "      <td>1900-01-01T00:00:00.000Z</td>\n",
              "      <td>NaN</td>\n",
              "      <td>1.0</td>\n",
              "      <td>1662.0</td>\n",
              "      <td>1.0</td>\n",
              "      <td>4.0</td>\n",
              "      <td>2 Story</td>\n",
              "      <td>7.0</td>\n",
              "      <td>Row Inside</td>\n",
              "      <td>4.0</td>\n",
              "      <td>Above Average</td>\n",
              "      <td>3.0</td>\n",
              "      <td>Average</td>\n",
              "      <td>14.0</td>\n",
              "      <td>Common Brick</td>\n",
              "      <td>6.0</td>\n",
              "      <td>Metal- Sms</td>\n",
              "      <td>6.0</td>\n",
              "      <td>Hardwood</td>\n",
              "      <td>2.0</td>\n",
              "      <td>0.0</td>\n",
              "      <td>24.0</td>\n",
              "      <td>1445.0</td>\n",
              "      <td>2018-07-22T18:01:43.000Z</td>\n",
              "      <td>0.0</td>\n",
              "    </tr>\n",
              "  </tbody>\n",
              "</table>\n",
              "</div>"
            ],
            "text/plain": [
              "  row ID  BATHRM  HF_BATHRM  ...  LANDAREA         GIS_LAST_MOD_DTTM QUALIFIED\n",
              "0   Row0     3.0        1.0  ...    1680.0  2018-07-22T18:01:43.000Z       0.0\n",
              "1   Row1     3.0        1.0  ...    1680.0  2018-07-22T18:01:43.000Z       1.0\n",
              "2   Row2     2.0        1.0  ...    2032.0  2018-07-22T18:01:43.000Z       0.0\n",
              "3   Row3     3.0        2.0  ...    2196.0  2018-07-22T18:01:43.000Z       1.0\n",
              "4   Row4     3.0        1.0  ...    1424.0  2018-07-22T18:01:43.000Z       1.0\n",
              "5   Row5     3.0        0.0  ...    1360.0  2018-07-22T18:01:43.000Z       0.0\n",
              "6   Row6     5.0        0.0  ...    2023.0  2018-07-22T18:01:43.000Z       0.0\n",
              "7   Row7     2.0        0.0  ...    1837.0  2018-07-22T18:01:43.000Z       0.0\n",
              "8   Row8     3.0        1.0  ...    1815.0  2018-07-22T18:01:43.000Z       1.0\n",
              "9   Row9     2.0        1.0  ...    1445.0  2018-07-22T18:01:43.000Z       0.0\n",
              "\n",
              "[10 rows x 38 columns]"
            ]
          },
          "metadata": {
            "tags": []
          },
          "execution_count": 3
        }
      ]
    },
    {
      "cell_type": "code",
      "metadata": {
        "id": "vxx5YFgLoURe"
      },
      "source": [
        "df=df.drop(['SALEDATE','GIS_LAST_MOD_DTTM','row ID','AYB','YR_RMDL','BLDG_NUM','STRUCT','HEAT'],axis=1)"
      ],
      "execution_count": 4,
      "outputs": []
    },
    {
      "cell_type": "code",
      "metadata": {
        "id": "G7kUeibeo2K4",
        "outputId": "8819ff84-e809-46f8-e5fa-641168d75006",
        "colab": {
          "base_uri": "https://localhost:8080/",
          "height": 304
        }
      },
      "source": [
        "df.describe()"
      ],
      "execution_count": 5,
      "outputs": [
        {
          "output_type": "execute_result",
          "data": {
            "text/html": [
              "<div>\n",
              "<style scoped>\n",
              "    .dataframe tbody tr th:only-of-type {\n",
              "        vertical-align: middle;\n",
              "    }\n",
              "\n",
              "    .dataframe tbody tr th {\n",
              "        vertical-align: top;\n",
              "    }\n",
              "\n",
              "    .dataframe thead th {\n",
              "        text-align: right;\n",
              "    }\n",
              "</style>\n",
              "<table border=\"1\" class=\"dataframe\">\n",
              "  <thead>\n",
              "    <tr style=\"text-align: right;\">\n",
              "      <th></th>\n",
              "      <th>BATHRM</th>\n",
              "      <th>HF_BATHRM</th>\n",
              "      <th>NUM_UNITS</th>\n",
              "      <th>ROOMS</th>\n",
              "      <th>BEDRM</th>\n",
              "      <th>EYB</th>\n",
              "      <th>STORIES</th>\n",
              "      <th>PRICE</th>\n",
              "      <th>SALE_NUM</th>\n",
              "      <th>GBA</th>\n",
              "      <th>STYLE</th>\n",
              "      <th>GRADE</th>\n",
              "      <th>CNDTN</th>\n",
              "      <th>EXTWALL</th>\n",
              "      <th>ROOF</th>\n",
              "      <th>INTWALL</th>\n",
              "      <th>KITCHENS</th>\n",
              "      <th>FIREPLACES</th>\n",
              "      <th>USECODE</th>\n",
              "      <th>LANDAREA</th>\n",
              "      <th>QUALIFIED</th>\n",
              "    </tr>\n",
              "  </thead>\n",
              "  <tbody>\n",
              "    <tr>\n",
              "      <th>count</th>\n",
              "      <td>21997.000000</td>\n",
              "      <td>21996.000000</td>\n",
              "      <td>21997.000000</td>\n",
              "      <td>21990.000000</td>\n",
              "      <td>21995.000000</td>\n",
              "      <td>22002.000000</td>\n",
              "      <td>21984.000000</td>\n",
              "      <td>1.890100e+04</td>\n",
              "      <td>22001.000000</td>\n",
              "      <td>22001.000000</td>\n",
              "      <td>21996.000000</td>\n",
              "      <td>21996.000000</td>\n",
              "      <td>21996.000000</td>\n",
              "      <td>21996.000000</td>\n",
              "      <td>21996.000000</td>\n",
              "      <td>21996.000000</td>\n",
              "      <td>21996.000000</td>\n",
              "      <td>21996.00000</td>\n",
              "      <td>22001.000000</td>\n",
              "      <td>22001.000000</td>\n",
              "      <td>22001.000000</td>\n",
              "    </tr>\n",
              "    <tr>\n",
              "      <th>mean</th>\n",
              "      <td>2.287039</td>\n",
              "      <td>0.678032</td>\n",
              "      <td>1.257171</td>\n",
              "      <td>7.549659</td>\n",
              "      <td>3.411184</td>\n",
              "      <td>1969.471730</td>\n",
              "      <td>2.253032</td>\n",
              "      <td>5.631556e+05</td>\n",
              "      <td>1.672242</td>\n",
              "      <td>1902.775737</td>\n",
              "      <td>4.631797</td>\n",
              "      <td>5.077696</td>\n",
              "      <td>3.656574</td>\n",
              "      <td>13.578605</td>\n",
              "      <td>5.004955</td>\n",
              "      <td>6.059965</td>\n",
              "      <td>1.283370</td>\n",
              "      <td>0.96713</td>\n",
              "      <td>13.774147</td>\n",
              "      <td>2952.517386</td>\n",
              "      <td>0.495296</td>\n",
              "    </tr>\n",
              "    <tr>\n",
              "      <th>std</th>\n",
              "      <td>1.126433</td>\n",
              "      <td>0.601424</td>\n",
              "      <td>0.585334</td>\n",
              "      <td>2.340838</td>\n",
              "      <td>1.221813</td>\n",
              "      <td>30.541499</td>\n",
              "      <td>6.116511</td>\n",
              "      <td>7.020618e+05</td>\n",
              "      <td>1.324516</td>\n",
              "      <td>946.929511</td>\n",
              "      <td>1.380785</td>\n",
              "      <td>1.533771</td>\n",
              "      <td>0.733561</td>\n",
              "      <td>3.281622</td>\n",
              "      <td>3.455853</td>\n",
              "      <td>1.947129</td>\n",
              "      <td>0.597668</td>\n",
              "      <td>1.06943</td>\n",
              "      <td>4.958577</td>\n",
              "      <td>5418.523508</td>\n",
              "      <td>0.499989</td>\n",
              "    </tr>\n",
              "    <tr>\n",
              "      <th>min</th>\n",
              "      <td>0.000000</td>\n",
              "      <td>0.000000</td>\n",
              "      <td>0.000000</td>\n",
              "      <td>0.000000</td>\n",
              "      <td>0.000000</td>\n",
              "      <td>0.000000</td>\n",
              "      <td>0.000000</td>\n",
              "      <td>0.000000e+00</td>\n",
              "      <td>1.000000</td>\n",
              "      <td>0.000000</td>\n",
              "      <td>0.000000</td>\n",
              "      <td>0.000000</td>\n",
              "      <td>0.000000</td>\n",
              "      <td>0.000000</td>\n",
              "      <td>0.000000</td>\n",
              "      <td>0.000000</td>\n",
              "      <td>0.000000</td>\n",
              "      <td>0.00000</td>\n",
              "      <td>0.000000</td>\n",
              "      <td>255.000000</td>\n",
              "      <td>0.000000</td>\n",
              "    </tr>\n",
              "    <tr>\n",
              "      <th>25%</th>\n",
              "      <td>1.000000</td>\n",
              "      <td>0.000000</td>\n",
              "      <td>1.000000</td>\n",
              "      <td>6.000000</td>\n",
              "      <td>3.000000</td>\n",
              "      <td>1960.000000</td>\n",
              "      <td>2.000000</td>\n",
              "      <td>0.000000e+00</td>\n",
              "      <td>1.000000</td>\n",
              "      <td>1324.000000</td>\n",
              "      <td>4.000000</td>\n",
              "      <td>4.000000</td>\n",
              "      <td>3.000000</td>\n",
              "      <td>14.000000</td>\n",
              "      <td>2.000000</td>\n",
              "      <td>6.000000</td>\n",
              "      <td>1.000000</td>\n",
              "      <td>0.00000</td>\n",
              "      <td>11.000000</td>\n",
              "      <td>1200.000000</td>\n",
              "      <td>0.000000</td>\n",
              "    </tr>\n",
              "    <tr>\n",
              "      <th>50%</th>\n",
              "      <td>2.000000</td>\n",
              "      <td>1.000000</td>\n",
              "      <td>1.000000</td>\n",
              "      <td>7.000000</td>\n",
              "      <td>3.000000</td>\n",
              "      <td>1967.000000</td>\n",
              "      <td>2.000000</td>\n",
              "      <td>4.610000e+05</td>\n",
              "      <td>1.000000</td>\n",
              "      <td>1638.000000</td>\n",
              "      <td>4.000000</td>\n",
              "      <td>5.000000</td>\n",
              "      <td>4.000000</td>\n",
              "      <td>14.000000</td>\n",
              "      <td>6.000000</td>\n",
              "      <td>6.000000</td>\n",
              "      <td>1.000000</td>\n",
              "      <td>1.00000</td>\n",
              "      <td>11.000000</td>\n",
              "      <td>1673.000000</td>\n",
              "      <td>0.000000</td>\n",
              "    </tr>\n",
              "    <tr>\n",
              "      <th>75%</th>\n",
              "      <td>3.000000</td>\n",
              "      <td>1.000000</td>\n",
              "      <td>1.000000</td>\n",
              "      <td>9.000000</td>\n",
              "      <td>4.000000</td>\n",
              "      <td>1976.000000</td>\n",
              "      <td>2.000000</td>\n",
              "      <td>8.380000e+05</td>\n",
              "      <td>2.000000</td>\n",
              "      <td>2214.000000</td>\n",
              "      <td>4.000000</td>\n",
              "      <td>6.000000</td>\n",
              "      <td>4.000000</td>\n",
              "      <td>14.000000</td>\n",
              "      <td>6.000000</td>\n",
              "      <td>6.000000</td>\n",
              "      <td>1.000000</td>\n",
              "      <td>1.00000</td>\n",
              "      <td>12.000000</td>\n",
              "      <td>3000.000000</td>\n",
              "      <td>1.000000</td>\n",
              "    </tr>\n",
              "    <tr>\n",
              "      <th>max</th>\n",
              "      <td>11.000000</td>\n",
              "      <td>5.000000</td>\n",
              "      <td>6.000000</td>\n",
              "      <td>32.000000</td>\n",
              "      <td>53.000000</td>\n",
              "      <td>2018.000000</td>\n",
              "      <td>826.000000</td>\n",
              "      <td>2.396029e+07</td>\n",
              "      <td>12.000000</td>\n",
              "      <td>20948.000000</td>\n",
              "      <td>14.000000</td>\n",
              "      <td>12.000000</td>\n",
              "      <td>6.000000</td>\n",
              "      <td>24.000000</td>\n",
              "      <td>15.000000</td>\n",
              "      <td>11.000000</td>\n",
              "      <td>6.000000</td>\n",
              "      <td>12.00000</td>\n",
              "      <td>81.000000</td>\n",
              "      <td>498734.000000</td>\n",
              "      <td>1.000000</td>\n",
              "    </tr>\n",
              "  </tbody>\n",
              "</table>\n",
              "</div>"
            ],
            "text/plain": [
              "             BATHRM     HF_BATHRM  ...       LANDAREA     QUALIFIED\n",
              "count  21997.000000  21996.000000  ...   22001.000000  22001.000000\n",
              "mean       2.287039      0.678032  ...    2952.517386      0.495296\n",
              "std        1.126433      0.601424  ...    5418.523508      0.499989\n",
              "min        0.000000      0.000000  ...     255.000000      0.000000\n",
              "25%        1.000000      0.000000  ...    1200.000000      0.000000\n",
              "50%        2.000000      1.000000  ...    1673.000000      0.000000\n",
              "75%        3.000000      1.000000  ...    3000.000000      1.000000\n",
              "max       11.000000      5.000000  ...  498734.000000      1.000000\n",
              "\n",
              "[8 rows x 21 columns]"
            ]
          },
          "metadata": {
            "tags": []
          },
          "execution_count": 5
        }
      ]
    },
    {
      "cell_type": "code",
      "metadata": {
        "id": "cQ3HLlzgo5TX",
        "outputId": "2c1849b1-1847-49f0-f202-dc8119956481",
        "colab": {
          "base_uri": "https://localhost:8080/",
          "height": 689
        }
      },
      "source": [
        "df.corr()"
      ],
      "execution_count": 6,
      "outputs": [
        {
          "output_type": "execute_result",
          "data": {
            "text/html": [
              "<div>\n",
              "<style scoped>\n",
              "    .dataframe tbody tr th:only-of-type {\n",
              "        vertical-align: middle;\n",
              "    }\n",
              "\n",
              "    .dataframe tbody tr th {\n",
              "        vertical-align: top;\n",
              "    }\n",
              "\n",
              "    .dataframe thead th {\n",
              "        text-align: right;\n",
              "    }\n",
              "</style>\n",
              "<table border=\"1\" class=\"dataframe\">\n",
              "  <thead>\n",
              "    <tr style=\"text-align: right;\">\n",
              "      <th></th>\n",
              "      <th>BATHRM</th>\n",
              "      <th>HF_BATHRM</th>\n",
              "      <th>NUM_UNITS</th>\n",
              "      <th>ROOMS</th>\n",
              "      <th>BEDRM</th>\n",
              "      <th>EYB</th>\n",
              "      <th>STORIES</th>\n",
              "      <th>PRICE</th>\n",
              "      <th>SALE_NUM</th>\n",
              "      <th>GBA</th>\n",
              "      <th>STYLE</th>\n",
              "      <th>GRADE</th>\n",
              "      <th>CNDTN</th>\n",
              "      <th>EXTWALL</th>\n",
              "      <th>ROOF</th>\n",
              "      <th>INTWALL</th>\n",
              "      <th>KITCHENS</th>\n",
              "      <th>FIREPLACES</th>\n",
              "      <th>USECODE</th>\n",
              "      <th>LANDAREA</th>\n",
              "      <th>QUALIFIED</th>\n",
              "    </tr>\n",
              "  </thead>\n",
              "  <tbody>\n",
              "    <tr>\n",
              "      <th>BATHRM</th>\n",
              "      <td>1.000000</td>\n",
              "      <td>0.190610</td>\n",
              "      <td>0.303266</td>\n",
              "      <td>0.662668</td>\n",
              "      <td>0.615458</td>\n",
              "      <td>0.483703</td>\n",
              "      <td>0.019241</td>\n",
              "      <td>0.393538</td>\n",
              "      <td>0.041627</td>\n",
              "      <td>0.714434</td>\n",
              "      <td>0.357008</td>\n",
              "      <td>0.484237</td>\n",
              "      <td>0.334421</td>\n",
              "      <td>0.041267</td>\n",
              "      <td>0.063087</td>\n",
              "      <td>0.119862</td>\n",
              "      <td>0.337460</td>\n",
              "      <td>0.416037</td>\n",
              "      <td>0.262053</td>\n",
              "      <td>0.319594</td>\n",
              "      <td>0.086518</td>\n",
              "    </tr>\n",
              "    <tr>\n",
              "      <th>HF_BATHRM</th>\n",
              "      <td>0.190610</td>\n",
              "      <td>1.000000</td>\n",
              "      <td>-0.139209</td>\n",
              "      <td>0.183419</td>\n",
              "      <td>0.167631</td>\n",
              "      <td>0.350520</td>\n",
              "      <td>0.030809</td>\n",
              "      <td>0.230767</td>\n",
              "      <td>0.035183</td>\n",
              "      <td>0.315988</td>\n",
              "      <td>0.168068</td>\n",
              "      <td>0.281199</td>\n",
              "      <td>0.260840</td>\n",
              "      <td>0.002677</td>\n",
              "      <td>0.058490</td>\n",
              "      <td>0.072473</td>\n",
              "      <td>-0.121706</td>\n",
              "      <td>0.295943</td>\n",
              "      <td>-0.071025</td>\n",
              "      <td>0.178074</td>\n",
              "      <td>0.094045</td>\n",
              "    </tr>\n",
              "    <tr>\n",
              "      <th>NUM_UNITS</th>\n",
              "      <td>0.303266</td>\n",
              "      <td>-0.139209</td>\n",
              "      <td>1.000000</td>\n",
              "      <td>0.404691</td>\n",
              "      <td>0.258228</td>\n",
              "      <td>-0.087592</td>\n",
              "      <td>0.010397</td>\n",
              "      <td>-0.024655</td>\n",
              "      <td>-0.019804</td>\n",
              "      <td>0.147618</td>\n",
              "      <td>0.171790</td>\n",
              "      <td>-0.069557</td>\n",
              "      <td>-0.065461</td>\n",
              "      <td>0.074032</td>\n",
              "      <td>-0.058819</td>\n",
              "      <td>-0.014649</td>\n",
              "      <td>0.938427</td>\n",
              "      <td>0.009801</td>\n",
              "      <td>0.817570</td>\n",
              "      <td>-0.085841</td>\n",
              "      <td>-0.040898</td>\n",
              "    </tr>\n",
              "    <tr>\n",
              "      <th>ROOMS</th>\n",
              "      <td>0.662668</td>\n",
              "      <td>0.183419</td>\n",
              "      <td>0.404691</td>\n",
              "      <td>1.000000</td>\n",
              "      <td>0.680522</td>\n",
              "      <td>0.286101</td>\n",
              "      <td>0.021009</td>\n",
              "      <td>0.262611</td>\n",
              "      <td>-0.027572</td>\n",
              "      <td>0.681428</td>\n",
              "      <td>0.342552</td>\n",
              "      <td>0.371096</td>\n",
              "      <td>0.182488</td>\n",
              "      <td>0.048170</td>\n",
              "      <td>0.092168</td>\n",
              "      <td>0.067887</td>\n",
              "      <td>0.419399</td>\n",
              "      <td>0.321732</td>\n",
              "      <td>0.321577</td>\n",
              "      <td>0.283781</td>\n",
              "      <td>-0.030259</td>\n",
              "    </tr>\n",
              "    <tr>\n",
              "      <th>BEDRM</th>\n",
              "      <td>0.615458</td>\n",
              "      <td>0.167631</td>\n",
              "      <td>0.258228</td>\n",
              "      <td>0.680522</td>\n",
              "      <td>1.000000</td>\n",
              "      <td>0.252095</td>\n",
              "      <td>0.019000</td>\n",
              "      <td>0.266958</td>\n",
              "      <td>-0.020845</td>\n",
              "      <td>0.622730</td>\n",
              "      <td>0.313165</td>\n",
              "      <td>0.356494</td>\n",
              "      <td>0.156522</td>\n",
              "      <td>0.044239</td>\n",
              "      <td>0.070124</td>\n",
              "      <td>0.059831</td>\n",
              "      <td>0.281695</td>\n",
              "      <td>0.284931</td>\n",
              "      <td>0.232238</td>\n",
              "      <td>0.344129</td>\n",
              "      <td>-0.017012</td>\n",
              "    </tr>\n",
              "    <tr>\n",
              "      <th>EYB</th>\n",
              "      <td>0.483703</td>\n",
              "      <td>0.350520</td>\n",
              "      <td>-0.087592</td>\n",
              "      <td>0.286101</td>\n",
              "      <td>0.252095</td>\n",
              "      <td>1.000000</td>\n",
              "      <td>0.029072</td>\n",
              "      <td>0.181616</td>\n",
              "      <td>0.062988</td>\n",
              "      <td>0.237299</td>\n",
              "      <td>0.319734</td>\n",
              "      <td>0.550716</td>\n",
              "      <td>0.558842</td>\n",
              "      <td>0.004966</td>\n",
              "      <td>-0.029110</td>\n",
              "      <td>0.196877</td>\n",
              "      <td>-0.061306</td>\n",
              "      <td>0.324594</td>\n",
              "      <td>-0.019040</td>\n",
              "      <td>0.085163</td>\n",
              "      <td>0.111628</td>\n",
              "    </tr>\n",
              "    <tr>\n",
              "      <th>STORIES</th>\n",
              "      <td>0.019241</td>\n",
              "      <td>0.030809</td>\n",
              "      <td>0.010397</td>\n",
              "      <td>0.021009</td>\n",
              "      <td>0.019000</td>\n",
              "      <td>0.029072</td>\n",
              "      <td>1.000000</td>\n",
              "      <td>0.030312</td>\n",
              "      <td>0.019141</td>\n",
              "      <td>0.026454</td>\n",
              "      <td>0.090062</td>\n",
              "      <td>0.030114</td>\n",
              "      <td>0.023337</td>\n",
              "      <td>0.007386</td>\n",
              "      <td>0.002218</td>\n",
              "      <td>-0.006421</td>\n",
              "      <td>0.013453</td>\n",
              "      <td>0.017685</td>\n",
              "      <td>0.008607</td>\n",
              "      <td>-0.004595</td>\n",
              "      <td>0.006387</td>\n",
              "    </tr>\n",
              "    <tr>\n",
              "      <th>PRICE</th>\n",
              "      <td>0.393538</td>\n",
              "      <td>0.230767</td>\n",
              "      <td>-0.024655</td>\n",
              "      <td>0.262611</td>\n",
              "      <td>0.266958</td>\n",
              "      <td>0.181616</td>\n",
              "      <td>0.030312</td>\n",
              "      <td>1.000000</td>\n",
              "      <td>0.183535</td>\n",
              "      <td>0.395903</td>\n",
              "      <td>0.174453</td>\n",
              "      <td>0.360168</td>\n",
              "      <td>0.348230</td>\n",
              "      <td>-0.013456</td>\n",
              "      <td>0.063896</td>\n",
              "      <td>0.045617</td>\n",
              "      <td>0.028241</td>\n",
              "      <td>0.312841</td>\n",
              "      <td>-0.004122</td>\n",
              "      <td>0.311103</td>\n",
              "      <td>0.494910</td>\n",
              "    </tr>\n",
              "    <tr>\n",
              "      <th>SALE_NUM</th>\n",
              "      <td>0.041627</td>\n",
              "      <td>0.035183</td>\n",
              "      <td>-0.019804</td>\n",
              "      <td>-0.027572</td>\n",
              "      <td>-0.020845</td>\n",
              "      <td>0.062988</td>\n",
              "      <td>0.019141</td>\n",
              "      <td>0.183535</td>\n",
              "      <td>1.000000</td>\n",
              "      <td>-0.049360</td>\n",
              "      <td>0.001485</td>\n",
              "      <td>-0.022112</td>\n",
              "      <td>0.211921</td>\n",
              "      <td>0.002264</td>\n",
              "      <td>-0.009259</td>\n",
              "      <td>0.038183</td>\n",
              "      <td>-0.004998</td>\n",
              "      <td>0.013388</td>\n",
              "      <td>-0.018165</td>\n",
              "      <td>-0.041554</td>\n",
              "      <td>0.167240</td>\n",
              "    </tr>\n",
              "    <tr>\n",
              "      <th>GBA</th>\n",
              "      <td>0.714434</td>\n",
              "      <td>0.315988</td>\n",
              "      <td>0.147618</td>\n",
              "      <td>0.681428</td>\n",
              "      <td>0.622730</td>\n",
              "      <td>0.237299</td>\n",
              "      <td>0.026454</td>\n",
              "      <td>0.395903</td>\n",
              "      <td>-0.049360</td>\n",
              "      <td>1.000000</td>\n",
              "      <td>0.404755</td>\n",
              "      <td>0.541884</td>\n",
              "      <td>0.248298</td>\n",
              "      <td>0.005112</td>\n",
              "      <td>0.083701</td>\n",
              "      <td>0.070228</td>\n",
              "      <td>0.171550</td>\n",
              "      <td>0.477922</td>\n",
              "      <td>0.123570</td>\n",
              "      <td>0.471558</td>\n",
              "      <td>-0.038436</td>\n",
              "    </tr>\n",
              "    <tr>\n",
              "      <th>STYLE</th>\n",
              "      <td>0.357008</td>\n",
              "      <td>0.168068</td>\n",
              "      <td>0.171790</td>\n",
              "      <td>0.342552</td>\n",
              "      <td>0.313165</td>\n",
              "      <td>0.319734</td>\n",
              "      <td>0.090062</td>\n",
              "      <td>0.174453</td>\n",
              "      <td>0.001485</td>\n",
              "      <td>0.404755</td>\n",
              "      <td>1.000000</td>\n",
              "      <td>0.316271</td>\n",
              "      <td>0.179796</td>\n",
              "      <td>0.082428</td>\n",
              "      <td>0.000297</td>\n",
              "      <td>0.046532</td>\n",
              "      <td>0.174257</td>\n",
              "      <td>0.250279</td>\n",
              "      <td>0.157393</td>\n",
              "      <td>0.012250</td>\n",
              "      <td>0.005067</td>\n",
              "    </tr>\n",
              "    <tr>\n",
              "      <th>GRADE</th>\n",
              "      <td>0.484237</td>\n",
              "      <td>0.281199</td>\n",
              "      <td>-0.069557</td>\n",
              "      <td>0.371096</td>\n",
              "      <td>0.356494</td>\n",
              "      <td>0.550716</td>\n",
              "      <td>0.030114</td>\n",
              "      <td>0.360168</td>\n",
              "      <td>-0.022112</td>\n",
              "      <td>0.541884</td>\n",
              "      <td>0.316271</td>\n",
              "      <td>1.000000</td>\n",
              "      <td>0.239421</td>\n",
              "      <td>0.012178</td>\n",
              "      <td>0.141019</td>\n",
              "      <td>0.055316</td>\n",
              "      <td>-0.036765</td>\n",
              "      <td>0.448289</td>\n",
              "      <td>-0.059077</td>\n",
              "      <td>0.334112</td>\n",
              "      <td>0.007910</td>\n",
              "    </tr>\n",
              "    <tr>\n",
              "      <th>CNDTN</th>\n",
              "      <td>0.334421</td>\n",
              "      <td>0.260840</td>\n",
              "      <td>-0.065461</td>\n",
              "      <td>0.182488</td>\n",
              "      <td>0.156522</td>\n",
              "      <td>0.558842</td>\n",
              "      <td>0.023337</td>\n",
              "      <td>0.348230</td>\n",
              "      <td>0.211921</td>\n",
              "      <td>0.248298</td>\n",
              "      <td>0.179796</td>\n",
              "      <td>0.239421</td>\n",
              "      <td>1.000000</td>\n",
              "      <td>0.001148</td>\n",
              "      <td>0.055568</td>\n",
              "      <td>0.145688</td>\n",
              "      <td>-0.043909</td>\n",
              "      <td>0.182424</td>\n",
              "      <td>-0.032698</td>\n",
              "      <td>0.100831</td>\n",
              "      <td>0.274814</td>\n",
              "    </tr>\n",
              "    <tr>\n",
              "      <th>EXTWALL</th>\n",
              "      <td>0.041267</td>\n",
              "      <td>0.002677</td>\n",
              "      <td>0.074032</td>\n",
              "      <td>0.048170</td>\n",
              "      <td>0.044239</td>\n",
              "      <td>0.004966</td>\n",
              "      <td>0.007386</td>\n",
              "      <td>-0.013456</td>\n",
              "      <td>0.002264</td>\n",
              "      <td>0.005112</td>\n",
              "      <td>0.082428</td>\n",
              "      <td>0.012178</td>\n",
              "      <td>0.001148</td>\n",
              "      <td>1.000000</td>\n",
              "      <td>0.122161</td>\n",
              "      <td>0.024611</td>\n",
              "      <td>0.074075</td>\n",
              "      <td>0.004383</td>\n",
              "      <td>0.055513</td>\n",
              "      <td>-0.022778</td>\n",
              "      <td>0.016418</td>\n",
              "    </tr>\n",
              "    <tr>\n",
              "      <th>ROOF</th>\n",
              "      <td>0.063087</td>\n",
              "      <td>0.058490</td>\n",
              "      <td>-0.058819</td>\n",
              "      <td>0.092168</td>\n",
              "      <td>0.070124</td>\n",
              "      <td>-0.029110</td>\n",
              "      <td>0.002218</td>\n",
              "      <td>0.063896</td>\n",
              "      <td>-0.009259</td>\n",
              "      <td>0.083701</td>\n",
              "      <td>0.000297</td>\n",
              "      <td>0.141019</td>\n",
              "      <td>0.055568</td>\n",
              "      <td>0.122161</td>\n",
              "      <td>1.000000</td>\n",
              "      <td>-0.117250</td>\n",
              "      <td>-0.056216</td>\n",
              "      <td>0.094620</td>\n",
              "      <td>-0.049598</td>\n",
              "      <td>0.128676</td>\n",
              "      <td>-0.002342</td>\n",
              "    </tr>\n",
              "    <tr>\n",
              "      <th>INTWALL</th>\n",
              "      <td>0.119862</td>\n",
              "      <td>0.072473</td>\n",
              "      <td>-0.014649</td>\n",
              "      <td>0.067887</td>\n",
              "      <td>0.059831</td>\n",
              "      <td>0.196877</td>\n",
              "      <td>-0.006421</td>\n",
              "      <td>0.045617</td>\n",
              "      <td>0.038183</td>\n",
              "      <td>0.070228</td>\n",
              "      <td>0.046532</td>\n",
              "      <td>0.055316</td>\n",
              "      <td>0.145688</td>\n",
              "      <td>0.024611</td>\n",
              "      <td>-0.117250</td>\n",
              "      <td>1.000000</td>\n",
              "      <td>-0.009289</td>\n",
              "      <td>0.033151</td>\n",
              "      <td>-0.019686</td>\n",
              "      <td>0.031063</td>\n",
              "      <td>0.073862</td>\n",
              "    </tr>\n",
              "    <tr>\n",
              "      <th>KITCHENS</th>\n",
              "      <td>0.337460</td>\n",
              "      <td>-0.121706</td>\n",
              "      <td>0.938427</td>\n",
              "      <td>0.419399</td>\n",
              "      <td>0.281695</td>\n",
              "      <td>-0.061306</td>\n",
              "      <td>0.013453</td>\n",
              "      <td>0.028241</td>\n",
              "      <td>-0.004998</td>\n",
              "      <td>0.171550</td>\n",
              "      <td>0.174257</td>\n",
              "      <td>-0.036765</td>\n",
              "      <td>-0.043909</td>\n",
              "      <td>0.074075</td>\n",
              "      <td>-0.056216</td>\n",
              "      <td>-0.009289</td>\n",
              "      <td>1.000000</td>\n",
              "      <td>0.036624</td>\n",
              "      <td>0.778087</td>\n",
              "      <td>-0.075371</td>\n",
              "      <td>-0.019413</td>\n",
              "    </tr>\n",
              "    <tr>\n",
              "      <th>FIREPLACES</th>\n",
              "      <td>0.416037</td>\n",
              "      <td>0.295943</td>\n",
              "      <td>0.009801</td>\n",
              "      <td>0.321732</td>\n",
              "      <td>0.284931</td>\n",
              "      <td>0.324594</td>\n",
              "      <td>0.017685</td>\n",
              "      <td>0.312841</td>\n",
              "      <td>0.013388</td>\n",
              "      <td>0.477922</td>\n",
              "      <td>0.250279</td>\n",
              "      <td>0.448289</td>\n",
              "      <td>0.182424</td>\n",
              "      <td>0.004383</td>\n",
              "      <td>0.094620</td>\n",
              "      <td>0.033151</td>\n",
              "      <td>0.036624</td>\n",
              "      <td>1.000000</td>\n",
              "      <td>0.062669</td>\n",
              "      <td>0.243096</td>\n",
              "      <td>0.056131</td>\n",
              "    </tr>\n",
              "    <tr>\n",
              "      <th>USECODE</th>\n",
              "      <td>0.262053</td>\n",
              "      <td>-0.071025</td>\n",
              "      <td>0.817570</td>\n",
              "      <td>0.321577</td>\n",
              "      <td>0.232238</td>\n",
              "      <td>-0.019040</td>\n",
              "      <td>0.008607</td>\n",
              "      <td>-0.004122</td>\n",
              "      <td>-0.018165</td>\n",
              "      <td>0.123570</td>\n",
              "      <td>0.157393</td>\n",
              "      <td>-0.059077</td>\n",
              "      <td>-0.032698</td>\n",
              "      <td>0.055513</td>\n",
              "      <td>-0.049598</td>\n",
              "      <td>-0.019686</td>\n",
              "      <td>0.778087</td>\n",
              "      <td>0.062669</td>\n",
              "      <td>1.000000</td>\n",
              "      <td>-0.073733</td>\n",
              "      <td>-0.021962</td>\n",
              "    </tr>\n",
              "    <tr>\n",
              "      <th>LANDAREA</th>\n",
              "      <td>0.319594</td>\n",
              "      <td>0.178074</td>\n",
              "      <td>-0.085841</td>\n",
              "      <td>0.283781</td>\n",
              "      <td>0.344129</td>\n",
              "      <td>0.085163</td>\n",
              "      <td>-0.004595</td>\n",
              "      <td>0.311103</td>\n",
              "      <td>-0.041554</td>\n",
              "      <td>0.471558</td>\n",
              "      <td>0.012250</td>\n",
              "      <td>0.334112</td>\n",
              "      <td>0.100831</td>\n",
              "      <td>-0.022778</td>\n",
              "      <td>0.128676</td>\n",
              "      <td>0.031063</td>\n",
              "      <td>-0.075371</td>\n",
              "      <td>0.243096</td>\n",
              "      <td>-0.073733</td>\n",
              "      <td>1.000000</td>\n",
              "      <td>-0.039438</td>\n",
              "    </tr>\n",
              "    <tr>\n",
              "      <th>QUALIFIED</th>\n",
              "      <td>0.086518</td>\n",
              "      <td>0.094045</td>\n",
              "      <td>-0.040898</td>\n",
              "      <td>-0.030259</td>\n",
              "      <td>-0.017012</td>\n",
              "      <td>0.111628</td>\n",
              "      <td>0.006387</td>\n",
              "      <td>0.494910</td>\n",
              "      <td>0.167240</td>\n",
              "      <td>-0.038436</td>\n",
              "      <td>0.005067</td>\n",
              "      <td>0.007910</td>\n",
              "      <td>0.274814</td>\n",
              "      <td>0.016418</td>\n",
              "      <td>-0.002342</td>\n",
              "      <td>0.073862</td>\n",
              "      <td>-0.019413</td>\n",
              "      <td>0.056131</td>\n",
              "      <td>-0.021962</td>\n",
              "      <td>-0.039438</td>\n",
              "      <td>1.000000</td>\n",
              "    </tr>\n",
              "  </tbody>\n",
              "</table>\n",
              "</div>"
            ],
            "text/plain": [
              "              BATHRM  HF_BATHRM  NUM_UNITS  ...   USECODE  LANDAREA  QUALIFIED\n",
              "BATHRM      1.000000   0.190610   0.303266  ...  0.262053  0.319594   0.086518\n",
              "HF_BATHRM   0.190610   1.000000  -0.139209  ... -0.071025  0.178074   0.094045\n",
              "NUM_UNITS   0.303266  -0.139209   1.000000  ...  0.817570 -0.085841  -0.040898\n",
              "ROOMS       0.662668   0.183419   0.404691  ...  0.321577  0.283781  -0.030259\n",
              "BEDRM       0.615458   0.167631   0.258228  ...  0.232238  0.344129  -0.017012\n",
              "EYB         0.483703   0.350520  -0.087592  ... -0.019040  0.085163   0.111628\n",
              "STORIES     0.019241   0.030809   0.010397  ...  0.008607 -0.004595   0.006387\n",
              "PRICE       0.393538   0.230767  -0.024655  ... -0.004122  0.311103   0.494910\n",
              "SALE_NUM    0.041627   0.035183  -0.019804  ... -0.018165 -0.041554   0.167240\n",
              "GBA         0.714434   0.315988   0.147618  ...  0.123570  0.471558  -0.038436\n",
              "STYLE       0.357008   0.168068   0.171790  ...  0.157393  0.012250   0.005067\n",
              "GRADE       0.484237   0.281199  -0.069557  ... -0.059077  0.334112   0.007910\n",
              "CNDTN       0.334421   0.260840  -0.065461  ... -0.032698  0.100831   0.274814\n",
              "EXTWALL     0.041267   0.002677   0.074032  ...  0.055513 -0.022778   0.016418\n",
              "ROOF        0.063087   0.058490  -0.058819  ... -0.049598  0.128676  -0.002342\n",
              "INTWALL     0.119862   0.072473  -0.014649  ... -0.019686  0.031063   0.073862\n",
              "KITCHENS    0.337460  -0.121706   0.938427  ...  0.778087 -0.075371  -0.019413\n",
              "FIREPLACES  0.416037   0.295943   0.009801  ...  0.062669  0.243096   0.056131\n",
              "USECODE     0.262053  -0.071025   0.817570  ...  1.000000 -0.073733  -0.021962\n",
              "LANDAREA    0.319594   0.178074  -0.085841  ... -0.073733  1.000000  -0.039438\n",
              "QUALIFIED   0.086518   0.094045  -0.040898  ... -0.021962 -0.039438   1.000000\n",
              "\n",
              "[21 rows x 21 columns]"
            ]
          },
          "metadata": {
            "tags": []
          },
          "execution_count": 6
        }
      ]
    },
    {
      "cell_type": "code",
      "metadata": {
        "id": "nn3XbBtPo_Z4",
        "outputId": "44cf509e-ec16-4dbb-aa23-3bc470670d01",
        "colab": {
          "base_uri": "https://localhost:8080/",
          "height": 114
        }
      },
      "source": [
        "df.head(1)"
      ],
      "execution_count": 7,
      "outputs": [
        {
          "output_type": "execute_result",
          "data": {
            "text/html": [
              "<div>\n",
              "<style scoped>\n",
              "    .dataframe tbody tr th:only-of-type {\n",
              "        vertical-align: middle;\n",
              "    }\n",
              "\n",
              "    .dataframe tbody tr th {\n",
              "        vertical-align: top;\n",
              "    }\n",
              "\n",
              "    .dataframe thead th {\n",
              "        text-align: right;\n",
              "    }\n",
              "</style>\n",
              "<table border=\"1\" class=\"dataframe\">\n",
              "  <thead>\n",
              "    <tr style=\"text-align: right;\">\n",
              "      <th></th>\n",
              "      <th>BATHRM</th>\n",
              "      <th>HF_BATHRM</th>\n",
              "      <th>HEAT_D</th>\n",
              "      <th>AC</th>\n",
              "      <th>NUM_UNITS</th>\n",
              "      <th>ROOMS</th>\n",
              "      <th>BEDRM</th>\n",
              "      <th>EYB</th>\n",
              "      <th>STORIES</th>\n",
              "      <th>PRICE</th>\n",
              "      <th>SALE_NUM</th>\n",
              "      <th>GBA</th>\n",
              "      <th>STYLE</th>\n",
              "      <th>STYLE_D</th>\n",
              "      <th>STRUCT_D</th>\n",
              "      <th>GRADE</th>\n",
              "      <th>GRADE_D</th>\n",
              "      <th>CNDTN</th>\n",
              "      <th>CNDTN_D</th>\n",
              "      <th>EXTWALL</th>\n",
              "      <th>EXTWALL_D</th>\n",
              "      <th>ROOF</th>\n",
              "      <th>ROOF_D</th>\n",
              "      <th>INTWALL</th>\n",
              "      <th>INTWALL_D</th>\n",
              "      <th>KITCHENS</th>\n",
              "      <th>FIREPLACES</th>\n",
              "      <th>USECODE</th>\n",
              "      <th>LANDAREA</th>\n",
              "      <th>QUALIFIED</th>\n",
              "    </tr>\n",
              "  </thead>\n",
              "  <tbody>\n",
              "    <tr>\n",
              "      <th>0</th>\n",
              "      <td>3.0</td>\n",
              "      <td>1.0</td>\n",
              "      <td>Warm Cool</td>\n",
              "      <td>Y</td>\n",
              "      <td>2.0</td>\n",
              "      <td>11.0</td>\n",
              "      <td>5.0</td>\n",
              "      <td>1972</td>\n",
              "      <td>3.0</td>\n",
              "      <td>0.0</td>\n",
              "      <td>1.0</td>\n",
              "      <td>2567.0</td>\n",
              "      <td>7.0</td>\n",
              "      <td>3 Story</td>\n",
              "      <td>Row Inside</td>\n",
              "      <td>6.0</td>\n",
              "      <td>Very Good</td>\n",
              "      <td>4.0</td>\n",
              "      <td>Good</td>\n",
              "      <td>14.0</td>\n",
              "      <td>Common Brick</td>\n",
              "      <td>2.0</td>\n",
              "      <td>Built Up</td>\n",
              "      <td>6.0</td>\n",
              "      <td>Hardwood</td>\n",
              "      <td>2.0</td>\n",
              "      <td>4.0</td>\n",
              "      <td>24.0</td>\n",
              "      <td>1680.0</td>\n",
              "      <td>0.0</td>\n",
              "    </tr>\n",
              "  </tbody>\n",
              "</table>\n",
              "</div>"
            ],
            "text/plain": [
              "   BATHRM  HF_BATHRM     HEAT_D AC  ...  FIREPLACES  USECODE  LANDAREA  QUALIFIED\n",
              "0     3.0        1.0  Warm Cool  Y  ...         4.0     24.0    1680.0        0.0\n",
              "\n",
              "[1 rows x 30 columns]"
            ]
          },
          "metadata": {
            "tags": []
          },
          "execution_count": 7
        }
      ]
    },
    {
      "cell_type": "code",
      "metadata": {
        "id": "VKOBWLfYp-At",
        "outputId": "2841b2b8-8e1f-4d35-c69b-244c2a5cb240",
        "colab": {
          "base_uri": "https://localhost:8080/",
          "height": 235
        }
      },
      "source": [
        "temp=df.groupby([\"ROOF_D\",\"GBA\"])[\"PRICE\"].max()  \n",
        "temp"
      ],
      "execution_count": 8,
      "outputs": [
        {
          "output_type": "execute_result",
          "data": {
            "text/plain": [
              "ROOF_D       GBA   \n",
              "Built Up     252.0      245000.0\n",
              "             371.0           0.0\n",
              "             407.0      378000.0\n",
              "             495.0      228000.0\n",
              "             500.0      389900.0\n",
              "                         ...    \n",
              "Typical      3448.0          NaN\n",
              "             3520.0          NaN\n",
              "             5073.0          0.0\n",
              "Water Proof  1440.0     705000.0\n",
              "Wood- FS     3036.0    1415000.0\n",
              "Name: PRICE, Length: 7617, dtype: float64"
            ]
          },
          "metadata": {
            "tags": []
          },
          "execution_count": 8
        }
      ]
    },
    {
      "cell_type": "code",
      "metadata": {
        "id": "Q3jKOAevqlxf",
        "outputId": "626be3b9-c852-4062-c4fb-408e937722e1",
        "colab": {
          "base_uri": "https://localhost:8080/",
          "height": 235
        }
      },
      "source": [
        "temp=df.groupby([\"HEAT_D\",\"ROOMS\"])[\"PRICE\"].max()  \n",
        "temp"
      ],
      "execution_count": 9,
      "outputs": [
        {
          "output_type": "execute_result",
          "data": {
            "text/plain": [
              "HEAT_D          ROOMS\n",
              "Air Exchng      0.0       120000.0\n",
              "                6.0       330000.0\n",
              "                7.0      1015000.0\n",
              "                9.0            0.0\n",
              "Air-Oil         6.0      1170000.0\n",
              "                           ...    \n",
              "Water Base Brd  9.0      1600000.0\n",
              "                10.0     1995000.0\n",
              "                11.0     1312500.0\n",
              "                12.0     1720000.0\n",
              "                13.0     1080000.0\n",
              "Name: PRICE, Length: 148, dtype: float64"
            ]
          },
          "metadata": {
            "tags": []
          },
          "execution_count": 9
        }
      ]
    },
    {
      "cell_type": "code",
      "metadata": {
        "id": "VPz6AvaGrLQx",
        "outputId": "b08a9238-c87b-40d3-9bd6-009233602504",
        "colab": {
          "base_uri": "https://localhost:8080/",
          "height": 235
        }
      },
      "source": [
        "temp=df.groupby([\"ROOF_D\",\"HEAT_D\"])[\"KITCHENS\"].max()    \n",
        "temp\n"
      ],
      "execution_count": 10,
      "outputs": [
        {
          "output_type": "execute_result",
          "data": {
            "text/plain": [
              "ROOF_D       HEAT_D        \n",
              "Built Up     Air Exchng        1.0\n",
              "             Elec Base Brd     3.0\n",
              "             Electric Rad      3.0\n",
              "             Evp Cool          2.0\n",
              "             Forced Air        4.0\n",
              "                              ... \n",
              "Typical      No Data           0.0\n",
              "             Warm Cool         2.0\n",
              "             Water Base Brd    1.0\n",
              "Water Proof  Hot Water Rad     1.0\n",
              "Wood- FS     Warm Cool         2.0\n",
              "Name: KITCHENS, Length: 86, dtype: float64"
            ]
          },
          "metadata": {
            "tags": []
          },
          "execution_count": 10
        }
      ]
    },
    {
      "cell_type": "code",
      "metadata": {
        "id": "RU0dRytEsb2W",
        "outputId": "55512ec4-220a-48ab-b285-b6519ed88647",
        "colab": {
          "base_uri": "https://localhost:8080/",
          "height": 485
        }
      },
      "source": [
        "temp=df.groupby([\"ROOF_D\",\"HEAT_D\",\"BEDRM\"])[\"PRICE\",\"AC\"].max()    \n",
        "temp\n"
      ],
      "execution_count": 11,
      "outputs": [
        {
          "output_type": "stream",
          "text": [
            "/usr/local/lib/python3.6/dist-packages/ipykernel_launcher.py:1: FutureWarning: Indexing with multiple keys (implicitly converted to a tuple of keys) will be deprecated, use a list instead.\n",
            "  \"\"\"Entry point for launching an IPython kernel.\n"
          ],
          "name": "stderr"
        },
        {
          "output_type": "execute_result",
          "data": {
            "text/html": [
              "<div>\n",
              "<style scoped>\n",
              "    .dataframe tbody tr th:only-of-type {\n",
              "        vertical-align: middle;\n",
              "    }\n",
              "\n",
              "    .dataframe tbody tr th {\n",
              "        vertical-align: top;\n",
              "    }\n",
              "\n",
              "    .dataframe thead th {\n",
              "        text-align: right;\n",
              "    }\n",
              "</style>\n",
              "<table border=\"1\" class=\"dataframe\">\n",
              "  <thead>\n",
              "    <tr style=\"text-align: right;\">\n",
              "      <th></th>\n",
              "      <th></th>\n",
              "      <th></th>\n",
              "      <th>PRICE</th>\n",
              "      <th>AC</th>\n",
              "    </tr>\n",
              "    <tr>\n",
              "      <th>ROOF_D</th>\n",
              "      <th>HEAT_D</th>\n",
              "      <th>BEDRM</th>\n",
              "      <th></th>\n",
              "      <th></th>\n",
              "    </tr>\n",
              "  </thead>\n",
              "  <tbody>\n",
              "    <tr>\n",
              "      <th rowspan=\"5\" valign=\"top\">Built Up</th>\n",
              "      <th rowspan=\"3\" valign=\"top\">Air Exchng</th>\n",
              "      <th>2.0</th>\n",
              "      <td>330000.0</td>\n",
              "      <td>Y</td>\n",
              "    </tr>\n",
              "    <tr>\n",
              "      <th>3.0</th>\n",
              "      <td>45000.0</td>\n",
              "      <td>N</td>\n",
              "    </tr>\n",
              "    <tr>\n",
              "      <th>4.0</th>\n",
              "      <td>0.0</td>\n",
              "      <td>N</td>\n",
              "    </tr>\n",
              "    <tr>\n",
              "      <th rowspan=\"2\" valign=\"top\">Elec Base Brd</th>\n",
              "      <th>0.0</th>\n",
              "      <td>245000.0</td>\n",
              "      <td>Y</td>\n",
              "    </tr>\n",
              "    <tr>\n",
              "      <th>1.0</th>\n",
              "      <td>345000.0</td>\n",
              "      <td>N</td>\n",
              "    </tr>\n",
              "    <tr>\n",
              "      <th>...</th>\n",
              "      <th>...</th>\n",
              "      <th>...</th>\n",
              "      <td>...</td>\n",
              "      <td>...</td>\n",
              "    </tr>\n",
              "    <tr>\n",
              "      <th rowspan=\"3\" valign=\"top\">Typical</th>\n",
              "      <th rowspan=\"3\" valign=\"top\">Warm Cool</th>\n",
              "      <th>3.0</th>\n",
              "      <td>NaN</td>\n",
              "      <td>Y</td>\n",
              "    </tr>\n",
              "    <tr>\n",
              "      <th>4.0</th>\n",
              "      <td>1700000.0</td>\n",
              "      <td>Y</td>\n",
              "    </tr>\n",
              "    <tr>\n",
              "      <th>5.0</th>\n",
              "      <td>0.0</td>\n",
              "      <td>Y</td>\n",
              "    </tr>\n",
              "    <tr>\n",
              "      <th>Water Proof</th>\n",
              "      <th>Hot Water Rad</th>\n",
              "      <th>3.0</th>\n",
              "      <td>705000.0</td>\n",
              "      <td>Y</td>\n",
              "    </tr>\n",
              "    <tr>\n",
              "      <th>Wood- FS</th>\n",
              "      <th>Warm Cool</th>\n",
              "      <th>5.0</th>\n",
              "      <td>1415000.0</td>\n",
              "      <td>Y</td>\n",
              "    </tr>\n",
              "  </tbody>\n",
              "</table>\n",
              "<p>382 rows × 2 columns</p>\n",
              "</div>"
            ],
            "text/plain": [
              "                                     PRICE AC\n",
              "ROOF_D      HEAT_D        BEDRM              \n",
              "Built Up    Air Exchng    2.0     330000.0  Y\n",
              "                          3.0      45000.0  N\n",
              "                          4.0          0.0  N\n",
              "            Elec Base Brd 0.0     245000.0  Y\n",
              "                          1.0     345000.0  N\n",
              "...                                    ... ..\n",
              "Typical     Warm Cool     3.0          NaN  Y\n",
              "                          4.0    1700000.0  Y\n",
              "                          5.0          0.0  Y\n",
              "Water Proof Hot Water Rad 3.0     705000.0  Y\n",
              "Wood- FS    Warm Cool     5.0    1415000.0  Y\n",
              "\n",
              "[382 rows x 2 columns]"
            ]
          },
          "metadata": {
            "tags": []
          },
          "execution_count": 11
        }
      ]
    },
    {
      "cell_type": "code",
      "metadata": {
        "id": "MsChoNcRtCHa",
        "outputId": "7dc37666-1c28-434e-8fdc-365e2aa4008d",
        "colab": {
          "base_uri": "https://localhost:8080/",
          "height": 485
        }
      },
      "source": [
        "temp=df.groupby([\"ROOF_D\",\"EXTWALL_D\",\"STYLE_D\",\"BEDRM\"])[\"PRICE\",\"AC\"].max()    \n",
        "temp"
      ],
      "execution_count": 12,
      "outputs": [
        {
          "output_type": "stream",
          "text": [
            "/usr/local/lib/python3.6/dist-packages/ipykernel_launcher.py:1: FutureWarning: Indexing with multiple keys (implicitly converted to a tuple of keys) will be deprecated, use a list instead.\n",
            "  \"\"\"Entry point for launching an IPython kernel.\n"
          ],
          "name": "stderr"
        },
        {
          "output_type": "execute_result",
          "data": {
            "text/html": [
              "<div>\n",
              "<style scoped>\n",
              "    .dataframe tbody tr th:only-of-type {\n",
              "        vertical-align: middle;\n",
              "    }\n",
              "\n",
              "    .dataframe tbody tr th {\n",
              "        vertical-align: top;\n",
              "    }\n",
              "\n",
              "    .dataframe thead th {\n",
              "        text-align: right;\n",
              "    }\n",
              "</style>\n",
              "<table border=\"1\" class=\"dataframe\">\n",
              "  <thead>\n",
              "    <tr style=\"text-align: right;\">\n",
              "      <th></th>\n",
              "      <th></th>\n",
              "      <th></th>\n",
              "      <th></th>\n",
              "      <th>PRICE</th>\n",
              "      <th>AC</th>\n",
              "    </tr>\n",
              "    <tr>\n",
              "      <th>ROOF_D</th>\n",
              "      <th>EXTWALL_D</th>\n",
              "      <th>STYLE_D</th>\n",
              "      <th>BEDRM</th>\n",
              "      <th></th>\n",
              "      <th></th>\n",
              "    </tr>\n",
              "  </thead>\n",
              "  <tbody>\n",
              "    <tr>\n",
              "      <th rowspan=\"5\" valign=\"top\">Built Up</th>\n",
              "      <th rowspan=\"3\" valign=\"top\">Aluminum</th>\n",
              "      <th rowspan=\"3\" valign=\"top\">2 Story</th>\n",
              "      <th>2.0</th>\n",
              "      <td>949999.0</td>\n",
              "      <td>Y</td>\n",
              "    </tr>\n",
              "    <tr>\n",
              "      <th>3.0</th>\n",
              "      <td>595000.0</td>\n",
              "      <td>Y</td>\n",
              "    </tr>\n",
              "    <tr>\n",
              "      <th>4.0</th>\n",
              "      <td>0.0</td>\n",
              "      <td>Y</td>\n",
              "    </tr>\n",
              "    <tr>\n",
              "      <th rowspan=\"2\" valign=\"top\">Brick Veneer</th>\n",
              "      <th rowspan=\"2\" valign=\"top\">2 Story</th>\n",
              "      <th>1.0</th>\n",
              "      <td>0.0</td>\n",
              "      <td>Y</td>\n",
              "    </tr>\n",
              "    <tr>\n",
              "      <th>2.0</th>\n",
              "      <td>899000.0</td>\n",
              "      <td>Y</td>\n",
              "    </tr>\n",
              "    <tr>\n",
              "      <th>...</th>\n",
              "      <th>...</th>\n",
              "      <th>...</th>\n",
              "      <th>...</th>\n",
              "      <td>...</td>\n",
              "      <td>...</td>\n",
              "    </tr>\n",
              "    <tr>\n",
              "      <th rowspan=\"3\" valign=\"top\">Typical</th>\n",
              "      <th rowspan=\"2\" valign=\"top\">Stucco</th>\n",
              "      <th rowspan=\"2\" valign=\"top\">2 Story</th>\n",
              "      <th>3.0</th>\n",
              "      <td>NaN</td>\n",
              "      <td>Y</td>\n",
              "    </tr>\n",
              "    <tr>\n",
              "      <th>5.0</th>\n",
              "      <td>0.0</td>\n",
              "      <td>Y</td>\n",
              "    </tr>\n",
              "    <tr>\n",
              "      <th>Wood Siding</th>\n",
              "      <th>2 Story</th>\n",
              "      <th>2.0</th>\n",
              "      <td>450000.0</td>\n",
              "      <td>0</td>\n",
              "    </tr>\n",
              "    <tr>\n",
              "      <th>Water Proof</th>\n",
              "      <th>Common Brick</th>\n",
              "      <th>2 Story</th>\n",
              "      <th>3.0</th>\n",
              "      <td>705000.0</td>\n",
              "      <td>Y</td>\n",
              "    </tr>\n",
              "    <tr>\n",
              "      <th>Wood- FS</th>\n",
              "      <th>Stone</th>\n",
              "      <th>2 Story</th>\n",
              "      <th>5.0</th>\n",
              "      <td>1415000.0</td>\n",
              "      <td>Y</td>\n",
              "    </tr>\n",
              "  </tbody>\n",
              "</table>\n",
              "<p>1174 rows × 2 columns</p>\n",
              "</div>"
            ],
            "text/plain": [
              "                                            PRICE AC\n",
              "ROOF_D      EXTWALL_D    STYLE_D BEDRM              \n",
              "Built Up    Aluminum     2 Story 2.0     949999.0  Y\n",
              "                                 3.0     595000.0  Y\n",
              "                                 4.0          0.0  Y\n",
              "            Brick Veneer 2 Story 1.0          0.0  Y\n",
              "                                 2.0     899000.0  Y\n",
              "...                                           ... ..\n",
              "Typical     Stucco       2 Story 3.0          NaN  Y\n",
              "                                 5.0          0.0  Y\n",
              "            Wood Siding  2 Story 2.0     450000.0  0\n",
              "Water Proof Common Brick 2 Story 3.0     705000.0  Y\n",
              "Wood- FS    Stone        2 Story 5.0    1415000.0  Y\n",
              "\n",
              "[1174 rows x 2 columns]"
            ]
          },
          "metadata": {
            "tags": []
          },
          "execution_count": 12
        }
      ]
    },
    {
      "cell_type": "code",
      "metadata": {
        "id": "AOvImTdyt0Gp",
        "outputId": "1430bd76-6242-4d4c-88e2-d772cfd54220",
        "colab": {
          "base_uri": "https://localhost:8080/",
          "height": 446
        }
      },
      "source": [
        "plt.figure(figsize = (10, 7))  \n",
        "df[['BATHRM','HF_BATHRM','NUM_UNITS']].boxplot() "
      ],
      "execution_count": 13,
      "outputs": [
        {
          "output_type": "execute_result",
          "data": {
            "text/plain": [
              "<matplotlib.axes._subplots.AxesSubplot at 0x7fed8ab22ef0>"
            ]
          },
          "metadata": {
            "tags": []
          },
          "execution_count": 13
        },
        {
          "output_type": "display_data",
          "data": {
            "image/png": "[encoded data removed]",
            "text/plain": [
              "<Figure size 720x504 with 1 Axes>"
            ]
          },
          "metadata": {
            "tags": [],
            "needs_background": "light"
          }
        }
      ]
    },
    {
      "cell_type": "code",
      "metadata": {
        "id": "1-szwPep9vLt",
        "outputId": "c476fe4a-3d6d-43d1-94be-8ada00033cdb",
        "colab": {
          "base_uri": "https://localhost:8080/",
          "height": 293
        }
      },
      "source": [
        "df[['PRICE']].boxplot()"
      ],
      "execution_count": 14,
      "outputs": [
        {
          "output_type": "execute_result",
          "data": {
            "text/plain": [
              "<matplotlib.axes._subplots.AxesSubplot at 0x7fed8ab22b70>"
            ]
          },
          "metadata": {
            "tags": []
          },
          "execution_count": 14
        },
        {
          "output_type": "display_data",
          "data": {
            "image/png": "[encoded data removed]",
            "text/plain": [
              "<Figure size 432x288 with 1 Axes>"
            ]
          },
          "metadata": {
            "tags": [],
            "needs_background": "light"
          }
        }
      ]
    },
    {
      "cell_type": "code",
      "metadata": {
        "id": "xBiT3nGWxR5-",
        "outputId": "cc8d74ac-5b41-4603-879c-d6f09c134c8f",
        "colab": {
          "base_uri": "https://localhost:8080/",
          "height": 282
        }
      },
      "source": [
        "df[['BEDRM','KITCHENS','STORIES']].boxplot() "
      ],
      "execution_count": 15,
      "outputs": [
        {
          "output_type": "execute_result",
          "data": {
            "text/plain": [
              "<matplotlib.axes._subplots.AxesSubplot at 0x7fed8a504080>"
            ]
          },
          "metadata": {
            "tags": []
          },
          "execution_count": 15
        },
        {
          "output_type": "display_data",
          "data": {
            "image/png": "[encoded data removed]",
            "text/plain": [
              "<Figure size 432x288 with 1 Axes>"
            ]
          },
          "metadata": {
            "tags": [],
            "needs_background": "light"
          }
        }
      ]
    },
    {
      "cell_type": "code",
      "metadata": {
        "id": "Fki7PnX_x82P",
        "outputId": "b3fff8b8-9359-4b56-fe53-a27680877b5b",
        "colab": {
          "base_uri": "https://localhost:8080/",
          "height": 282
        }
      },
      "source": [
        "df[['GBA','STYLE']].boxplot() "
      ],
      "execution_count": 16,
      "outputs": [
        {
          "output_type": "execute_result",
          "data": {
            "text/plain": [
              "<matplotlib.axes._subplots.AxesSubplot at 0x7fed8a496978>"
            ]
          },
          "metadata": {
            "tags": []
          },
          "execution_count": 16
        },
        {
          "output_type": "display_data",
          "data": {
            "image/png": "[encoded data removed]",
            "text/plain": [
              "<Figure size 432x288 with 1 Axes>"
            ]
          },
          "metadata": {
            "tags": [],
            "needs_background": "light"
          }
        }
      ]
    },
    {
      "cell_type": "code",
      "metadata": {
        "id": "8XtsB30Ty4a9"
      },
      "source": [
        "mean =df['BATHRM'].mean()\n",
        "std = df['BATHRM'].std()\n",
        "#price_mean =df['PRICE'].mean()\n",
        "#price_std = df['PRICE'].std()\n"
      ],
      "execution_count": 17,
      "outputs": []
    },
    {
      "cell_type": "code",
      "metadata": {
        "id": "7Pv_FXjNz3fu",
        "outputId": "7fa1104e-a5c1-4a59-bf65-1d216c525eb1",
        "colab": {
          "base_uri": "https://localhost:8080/",
          "height": 84
        }
      },
      "source": [
        "Q1=df['PRICE'].quantile(0.25)\n",
        "Q3=df['PRICE'].quantile(0.75)\n",
        "IQR=Q3-Q1\n",
        "print(Q1)\n",
        "print(Q3)\n",
        "print(IQR)\n",
        "Lower_Whisker = Q1-1.5 * IQR\n",
        "Upper_Whisker =Q3 + 1.5 * IQR\n",
        "print(Lower_Whisker, Upper_Whisker)\n",
        "df = df[df['PRICE']< Upper_Whisker]"
      ],
      "execution_count": 18,
      "outputs": [
        {
          "output_type": "stream",
          "text": [
            "0.0\n",
            "838000.0\n",
            "838000.0\n",
            "-1257000.0 2095000.0\n"
          ],
          "name": "stdout"
        }
      ]
    },
    {
      "cell_type": "code",
      "metadata": {
        "id": "nhoe8thv9k4V",
        "outputId": "99f19d80-eeed-4e9c-ef32-c16ef7cb33a9",
        "colab": {
          "base_uri": "https://localhost:8080/",
          "height": 293
        }
      },
      "source": [
        "df[['PRICE']].boxplot()"
      ],
      "execution_count": 19,
      "outputs": [
        {
          "output_type": "execute_result",
          "data": {
            "text/plain": [
              "<matplotlib.axes._subplots.AxesSubplot at 0x7fed8ab9c518>"
            ]
          },
          "metadata": {
            "tags": []
          },
          "execution_count": 19
        },
        {
          "output_type": "display_data",
          "data": {
            "image/png": "[encoded data removed]",
            "text/plain": [
              "<Figure size 432x288 with 1 Axes>"
            ]
          },
          "metadata": {
            "tags": [],
            "needs_background": "light"
          }
        }
      ]
    },
    {
      "cell_type": "code",
      "metadata": {
        "id": "3FPUhauX0W21"
      },
      "source": [
        "final_list = [x for x in df['BATHRM'] if (x > mean - 1 * std)]\n",
        "final_list = [x for x in final_list if (x < mean + 1 * std)]\n"
      ],
      "execution_count": 20,
      "outputs": []
    },
    {
      "cell_type": "code",
      "metadata": {
        "id": "ctahid9w7nuF"
      },
      "source": [
        "\n",
        "#price_list = [x for x in df['PRICE'] if (x > mean - 1 * std)]\n",
        "#price_list = [x for x in price_list if (x < mean + 1 * std)]\n"
      ],
      "execution_count": 21,
      "outputs": []
    },
    {
      "cell_type": "code",
      "metadata": {
        "id": "GKzlXiuu0dOT"
      },
      "source": [
        "from pandas import DataFrame\n",
        "df['BATHRM'] = DataFrame(final_list,columns=['BATHRM'])\n",
        "#df['PRICE'] = DataFrame(final_list,columns=['PRICE'])\n"
      ],
      "execution_count": 22,
      "outputs": []
    },
    {
      "cell_type": "code",
      "metadata": {
        "id": "-IBXQvF70l4O",
        "outputId": "e468b6f4-b632-4108-ba29-3080310b6bab",
        "colab": {
          "base_uri": "https://localhost:8080/",
          "height": 282
        }
      },
      "source": [
        "df[['BATHRM']].boxplot() "
      ],
      "execution_count": 23,
      "outputs": [
        {
          "output_type": "execute_result",
          "data": {
            "text/plain": [
              "<matplotlib.axes._subplots.AxesSubplot at 0x7fed890f3128>"
            ]
          },
          "metadata": {
            "tags": []
          },
          "execution_count": 23
        },
        {
          "output_type": "display_data",
          "data": {
            "image/png": "[encoded data removed]",
            "text/plain": [
              "<Figure size 432x288 with 1 Axes>"
            ]
          },
          "metadata": {
            "tags": [],
            "needs_background": "light"
          }
        }
      ]
    },
    {
      "cell_type": "code",
      "metadata": {
        "id": "174XwXOR7-d_",
        "outputId": "6bfe1ad3-6332-4c1b-cfbe-ad1168714f28",
        "colab": {
          "base_uri": "https://localhost:8080/",
          "height": 293
        }
      },
      "source": [
        "df[['PRICE']].boxplot() "
      ],
      "execution_count": 24,
      "outputs": [
        {
          "output_type": "execute_result",
          "data": {
            "text/plain": [
              "<matplotlib.axes._subplots.AxesSubplot at 0x7fed8913ba58>"
            ]
          },
          "metadata": {
            "tags": []
          },
          "execution_count": 24
        },
        {
          "output_type": "display_data",
          "data": {
            "image/png": "[encoded data removed]",
            "text/plain": [
              "<Figure size 432x288 with 1 Axes>"
            ]
          },
          "metadata": {
            "tags": [],
            "needs_background": "light"
          }
        }
      ]
    },
    {
      "cell_type": "code",
      "metadata": {
        "id": "yRIv2gxl1E3z",
        "outputId": "31ffeb3d-5532-4e73-e010-711431bef03a",
        "colab": {
          "base_uri": "https://localhost:8080/",
          "height": 538
        }
      },
      "source": [
        "df.dtypes"
      ],
      "execution_count": 25,
      "outputs": [
        {
          "output_type": "execute_result",
          "data": {
            "text/plain": [
              "BATHRM        float64\n",
              "HF_BATHRM     float64\n",
              "HEAT_D         object\n",
              "AC             object\n",
              "NUM_UNITS     float64\n",
              "ROOMS         float64\n",
              "BEDRM         float64\n",
              "EYB             int64\n",
              "STORIES       float64\n",
              "PRICE         float64\n",
              "SALE_NUM      float64\n",
              "GBA           float64\n",
              "STYLE         float64\n",
              "STYLE_D        object\n",
              "STRUCT_D       object\n",
              "GRADE         float64\n",
              "GRADE_D        object\n",
              "CNDTN         float64\n",
              "CNDTN_D        object\n",
              "EXTWALL       float64\n",
              "EXTWALL_D      object\n",
              "ROOF          float64\n",
              "ROOF_D         object\n",
              "INTWALL       float64\n",
              "INTWALL_D      object\n",
              "KITCHENS      float64\n",
              "FIREPLACES    float64\n",
              "USECODE       float64\n",
              "LANDAREA      float64\n",
              "QUALIFIED     float64\n",
              "dtype: object"
            ]
          },
          "metadata": {
            "tags": []
          },
          "execution_count": 25
        }
      ]
    },
    {
      "cell_type": "code",
      "metadata": {
        "id": "u9XJwkWFlCHn"
      },
      "source": [
        "#df.isnull().sum()\n",
        "\n",
        "data=['BATHRM','HF_BATHRM','NUM_UNITS','ROOMS','BEDRM','STORIES','PRICE','SALE_NUM','GBA','STYLE','GRADE','CNDTN','EXTWALL',\n",
        "      'ROOF','INTWALL','KITCHENS','FIREPLACES','USECODE','LANDAREA','QUALIFIED']\n",
        "\n",
        "for null_values in data:\n",
        "  df[null_values].fillna(df[null_values].mean(), inplace=True)"
      ],
      "execution_count": 26,
      "outputs": []
    },
    {
      "cell_type": "code",
      "metadata": {
        "id": "Ybu2Aahaovqf",
        "outputId": "7a8a9ad9-2756-4022-e30c-3d46b40f46d4",
        "colab": {
          "base_uri": "https://localhost:8080/",
          "height": 538
        }
      },
      "source": [
        "df.isnull().sum()"
      ],
      "execution_count": 27,
      "outputs": [
        {
          "output_type": "execute_result",
          "data": {
            "text/plain": [
              "BATHRM        0\n",
              "HF_BATHRM     0\n",
              "HEAT_D        5\n",
              "AC            5\n",
              "NUM_UNITS     0\n",
              "ROOMS         0\n",
              "BEDRM         0\n",
              "EYB           0\n",
              "STORIES       0\n",
              "PRICE         0\n",
              "SALE_NUM      0\n",
              "GBA           0\n",
              "STYLE         0\n",
              "STYLE_D       6\n",
              "STRUCT_D      6\n",
              "GRADE         0\n",
              "GRADE_D       6\n",
              "CNDTN         0\n",
              "CNDTN_D       6\n",
              "EXTWALL       0\n",
              "EXTWALL_D     6\n",
              "ROOF          0\n",
              "ROOF_D        6\n",
              "INTWALL       0\n",
              "INTWALL_D     6\n",
              "KITCHENS      0\n",
              "FIREPLACES    0\n",
              "USECODE       0\n",
              "LANDAREA      0\n",
              "QUALIFIED     0\n",
              "dtype: int64"
            ]
          },
          "metadata": {
            "tags": []
          },
          "execution_count": 27
        }
      ]
    },
    {
      "cell_type": "code",
      "metadata": {
        "id": "YJ-dkL4AlhQi"
      },
      "source": [
        "df = df.apply(lambda x: x.fillna(x.value_counts().index[0]))"
      ],
      "execution_count": 28,
      "outputs": []
    },
    {
      "cell_type": "code",
      "metadata": {
        "id": "Guvz_dCXll7A"
      },
      "source": [
        "from sklearn import preprocessing\n",
        "le = preprocessing.LabelEncoder()\n",
        "label_strings=['HEAT_D','AC','STYLE_D','STRUCT_D','GRADE_D','CNDTN_D','EXTWALL_D','ROOF_D','INTWALL_D']\n",
        "\n",
        "for values in label_strings:\n",
        "  df[values]=le.fit_transform(df[values])\n",
        "\n",
        "\n",
        "#df=le.fit()\n",
        "\n"
      ],
      "execution_count": 29,
      "outputs": []
    },
    {
      "cell_type": "code",
      "metadata": {
        "id": "DX02g08Jl_CI"
      },
      "source": [
        "Y=df['QUALIFIED'].astype(int)\n",
        "X=df.drop(['QUALIFIED'],axis=1)"
      ],
      "execution_count": 30,
      "outputs": []
    },
    {
      "cell_type": "code",
      "metadata": {
        "id": "eBGxkLMjddHD"
      },
      "source": [
        "from sklearn.datasets import load_iris\n",
        "from sklearn import preprocessing\n",
        "#X = preprocessing.normalize(X)"
      ],
      "execution_count": 31,
      "outputs": []
    },
    {
      "cell_type": "code",
      "metadata": {
        "id": "QrknI1grm5zp"
      },
      "source": [
        "import numpy as np\n",
        "from sklearn.model_selection import train_test_split\n",
        "X_train, X_test, y_train, y_test = train_test_split(X, Y, test_size=0.33, random_state=42)"
      ],
      "execution_count": 32,
      "outputs": []
    },
    {
      "cell_type": "code",
      "metadata": {
        "id": "EixopkjL--us",
        "outputId": "18191c48-6167-4d7e-bbc2-cbb01ba959bb",
        "colab": {
          "base_uri": "https://localhost:8080/",
          "height": 50
        }
      },
      "source": [
        "print(X_train.shape)\n",
        "print(X_test.shape)\n"
      ],
      "execution_count": 33,
      "outputs": [
        {
          "output_type": "stream",
          "text": [
            "(12354, 29)\n",
            "(6085, 29)\n"
          ],
          "name": "stdout"
        }
      ]
    },
    {
      "cell_type": "code",
      "metadata": {
        "id": "_sOENw7s_A5a",
        "outputId": "99f4f4cb-c1b5-4b3b-f9dd-0763cdc67510",
        "colab": {
          "base_uri": "https://localhost:8080/",
          "height": 422
        }
      },
      "source": [
        "X_train"
      ],
      "execution_count": 34,
      "outputs": [
        {
          "output_type": "execute_result",
          "data": {
            "text/html": [
              "<div>\n",
              "<style scoped>\n",
              "    .dataframe tbody tr th:only-of-type {\n",
              "        vertical-align: middle;\n",
              "    }\n",
              "\n",
              "    .dataframe tbody tr th {\n",
              "        vertical-align: top;\n",
              "    }\n",
              "\n",
              "    .dataframe thead th {\n",
              "        text-align: right;\n",
              "    }\n",
              "</style>\n",
              "<table border=\"1\" class=\"dataframe\">\n",
              "  <thead>\n",
              "    <tr style=\"text-align: right;\">\n",
              "      <th></th>\n",
              "      <th>BATHRM</th>\n",
              "      <th>HF_BATHRM</th>\n",
              "      <th>HEAT_D</th>\n",
              "      <th>AC</th>\n",
              "      <th>NUM_UNITS</th>\n",
              "      <th>ROOMS</th>\n",
              "      <th>BEDRM</th>\n",
              "      <th>EYB</th>\n",
              "      <th>STORIES</th>\n",
              "      <th>PRICE</th>\n",
              "      <th>SALE_NUM</th>\n",
              "      <th>GBA</th>\n",
              "      <th>STYLE</th>\n",
              "      <th>STYLE_D</th>\n",
              "      <th>STRUCT_D</th>\n",
              "      <th>GRADE</th>\n",
              "      <th>GRADE_D</th>\n",
              "      <th>CNDTN</th>\n",
              "      <th>CNDTN_D</th>\n",
              "      <th>EXTWALL</th>\n",
              "      <th>EXTWALL_D</th>\n",
              "      <th>ROOF</th>\n",
              "      <th>ROOF_D</th>\n",
              "      <th>INTWALL</th>\n",
              "      <th>INTWALL_D</th>\n",
              "      <th>KITCHENS</th>\n",
              "      <th>FIREPLACES</th>\n",
              "      <th>USECODE</th>\n",
              "      <th>LANDAREA</th>\n",
              "    </tr>\n",
              "  </thead>\n",
              "  <tbody>\n",
              "    <tr>\n",
              "      <th>2235</th>\n",
              "      <td>3.000000</td>\n",
              "      <td>0.0</td>\n",
              "      <td>7</td>\n",
              "      <td>1</td>\n",
              "      <td>1.0</td>\n",
              "      <td>6.0</td>\n",
              "      <td>2.0</td>\n",
              "      <td>1957</td>\n",
              "      <td>2.0</td>\n",
              "      <td>640000.0</td>\n",
              "      <td>3.0</td>\n",
              "      <td>1124.0</td>\n",
              "      <td>4.0</td>\n",
              "      <td>3</td>\n",
              "      <td>3</td>\n",
              "      <td>4.0</td>\n",
              "      <td>0</td>\n",
              "      <td>3.0</td>\n",
              "      <td>0</td>\n",
              "      <td>14.0</td>\n",
              "      <td>5</td>\n",
              "      <td>2.0</td>\n",
              "      <td>0</td>\n",
              "      <td>6.0</td>\n",
              "      <td>3</td>\n",
              "      <td>1.0</td>\n",
              "      <td>1.0</td>\n",
              "      <td>11.0</td>\n",
              "      <td>856.0</td>\n",
              "    </tr>\n",
              "    <tr>\n",
              "      <th>10059</th>\n",
              "      <td>2.000000</td>\n",
              "      <td>1.0</td>\n",
              "      <td>7</td>\n",
              "      <td>2</td>\n",
              "      <td>1.0</td>\n",
              "      <td>6.0</td>\n",
              "      <td>3.0</td>\n",
              "      <td>1967</td>\n",
              "      <td>2.0</td>\n",
              "      <td>517000.0</td>\n",
              "      <td>1.0</td>\n",
              "      <td>1400.0</td>\n",
              "      <td>4.0</td>\n",
              "      <td>3</td>\n",
              "      <td>3</td>\n",
              "      <td>4.0</td>\n",
              "      <td>0</td>\n",
              "      <td>4.0</td>\n",
              "      <td>4</td>\n",
              "      <td>14.0</td>\n",
              "      <td>5</td>\n",
              "      <td>6.0</td>\n",
              "      <td>8</td>\n",
              "      <td>6.0</td>\n",
              "      <td>3</td>\n",
              "      <td>1.0</td>\n",
              "      <td>0.0</td>\n",
              "      <td>11.0</td>\n",
              "      <td>1957.0</td>\n",
              "    </tr>\n",
              "    <tr>\n",
              "      <th>12699</th>\n",
              "      <td>2.398261</td>\n",
              "      <td>0.0</td>\n",
              "      <td>7</td>\n",
              "      <td>1</td>\n",
              "      <td>1.0</td>\n",
              "      <td>4.0</td>\n",
              "      <td>2.0</td>\n",
              "      <td>1954</td>\n",
              "      <td>2.0</td>\n",
              "      <td>0.0</td>\n",
              "      <td>1.0</td>\n",
              "      <td>840.0</td>\n",
              "      <td>4.0</td>\n",
              "      <td>3</td>\n",
              "      <td>3</td>\n",
              "      <td>3.0</td>\n",
              "      <td>1</td>\n",
              "      <td>3.0</td>\n",
              "      <td>0</td>\n",
              "      <td>14.0</td>\n",
              "      <td>5</td>\n",
              "      <td>2.0</td>\n",
              "      <td>0</td>\n",
              "      <td>3.0</td>\n",
              "      <td>11</td>\n",
              "      <td>1.0</td>\n",
              "      <td>0.0</td>\n",
              "      <td>11.0</td>\n",
              "      <td>1358.0</td>\n",
              "    </tr>\n",
              "    <tr>\n",
              "      <th>12964</th>\n",
              "      <td>2.398261</td>\n",
              "      <td>1.0</td>\n",
              "      <td>7</td>\n",
              "      <td>2</td>\n",
              "      <td>1.0</td>\n",
              "      <td>7.0</td>\n",
              "      <td>3.0</td>\n",
              "      <td>1967</td>\n",
              "      <td>2.0</td>\n",
              "      <td>589000.0</td>\n",
              "      <td>1.0</td>\n",
              "      <td>1338.0</td>\n",
              "      <td>4.0</td>\n",
              "      <td>3</td>\n",
              "      <td>3</td>\n",
              "      <td>4.0</td>\n",
              "      <td>0</td>\n",
              "      <td>4.0</td>\n",
              "      <td>4</td>\n",
              "      <td>14.0</td>\n",
              "      <td>5</td>\n",
              "      <td>2.0</td>\n",
              "      <td>0</td>\n",
              "      <td>6.0</td>\n",
              "      <td>3</td>\n",
              "      <td>1.0</td>\n",
              "      <td>2.0</td>\n",
              "      <td>11.0</td>\n",
              "      <td>1127.0</td>\n",
              "    </tr>\n",
              "    <tr>\n",
              "      <th>19244</th>\n",
              "      <td>2.398261</td>\n",
              "      <td>2.0</td>\n",
              "      <td>12</td>\n",
              "      <td>2</td>\n",
              "      <td>1.0</td>\n",
              "      <td>10.0</td>\n",
              "      <td>5.0</td>\n",
              "      <td>1972</td>\n",
              "      <td>2.5</td>\n",
              "      <td>1195000.0</td>\n",
              "      <td>1.0</td>\n",
              "      <td>3402.0</td>\n",
              "      <td>6.0</td>\n",
              "      <td>4</td>\n",
              "      <td>5</td>\n",
              "      <td>6.0</td>\n",
              "      <td>12</td>\n",
              "      <td>4.0</td>\n",
              "      <td>4</td>\n",
              "      <td>14.0</td>\n",
              "      <td>5</td>\n",
              "      <td>1.0</td>\n",
              "      <td>2</td>\n",
              "      <td>6.0</td>\n",
              "      <td>3</td>\n",
              "      <td>1.0</td>\n",
              "      <td>1.0</td>\n",
              "      <td>12.0</td>\n",
              "      <td>7348.0</td>\n",
              "    </tr>\n",
              "    <tr>\n",
              "      <th>...</th>\n",
              "      <td>...</td>\n",
              "      <td>...</td>\n",
              "      <td>...</td>\n",
              "      <td>...</td>\n",
              "      <td>...</td>\n",
              "      <td>...</td>\n",
              "      <td>...</td>\n",
              "      <td>...</td>\n",
              "      <td>...</td>\n",
              "      <td>...</td>\n",
              "      <td>...</td>\n",
              "      <td>...</td>\n",
              "      <td>...</td>\n",
              "      <td>...</td>\n",
              "      <td>...</td>\n",
              "      <td>...</td>\n",
              "      <td>...</td>\n",
              "      <td>...</td>\n",
              "      <td>...</td>\n",
              "      <td>...</td>\n",
              "      <td>...</td>\n",
              "      <td>...</td>\n",
              "      <td>...</td>\n",
              "      <td>...</td>\n",
              "      <td>...</td>\n",
              "      <td>...</td>\n",
              "      <td>...</td>\n",
              "      <td>...</td>\n",
              "      <td>...</td>\n",
              "    </tr>\n",
              "    <tr>\n",
              "      <th>13043</th>\n",
              "      <td>2.398261</td>\n",
              "      <td>0.0</td>\n",
              "      <td>7</td>\n",
              "      <td>1</td>\n",
              "      <td>1.0</td>\n",
              "      <td>9.0</td>\n",
              "      <td>3.0</td>\n",
              "      <td>1970</td>\n",
              "      <td>2.0</td>\n",
              "      <td>0.0</td>\n",
              "      <td>1.0</td>\n",
              "      <td>2344.0</td>\n",
              "      <td>4.0</td>\n",
              "      <td>3</td>\n",
              "      <td>2</td>\n",
              "      <td>7.0</td>\n",
              "      <td>2</td>\n",
              "      <td>3.0</td>\n",
              "      <td>0</td>\n",
              "      <td>14.0</td>\n",
              "      <td>5</td>\n",
              "      <td>6.0</td>\n",
              "      <td>8</td>\n",
              "      <td>6.0</td>\n",
              "      <td>3</td>\n",
              "      <td>1.0</td>\n",
              "      <td>3.0</td>\n",
              "      <td>11.0</td>\n",
              "      <td>2993.0</td>\n",
              "    </tr>\n",
              "    <tr>\n",
              "      <th>13913</th>\n",
              "      <td>2.398261</td>\n",
              "      <td>0.0</td>\n",
              "      <td>7</td>\n",
              "      <td>1</td>\n",
              "      <td>2.0</td>\n",
              "      <td>6.0</td>\n",
              "      <td>2.0</td>\n",
              "      <td>1974</td>\n",
              "      <td>3.0</td>\n",
              "      <td>0.0</td>\n",
              "      <td>1.0</td>\n",
              "      <td>2206.0</td>\n",
              "      <td>7.0</td>\n",
              "      <td>6</td>\n",
              "      <td>3</td>\n",
              "      <td>8.0</td>\n",
              "      <td>11</td>\n",
              "      <td>3.0</td>\n",
              "      <td>0</td>\n",
              "      <td>6.0</td>\n",
              "      <td>20</td>\n",
              "      <td>2.0</td>\n",
              "      <td>0</td>\n",
              "      <td>6.0</td>\n",
              "      <td>3</td>\n",
              "      <td>2.0</td>\n",
              "      <td>1.0</td>\n",
              "      <td>24.0</td>\n",
              "      <td>2040.0</td>\n",
              "    </tr>\n",
              "    <tr>\n",
              "      <th>6129</th>\n",
              "      <td>2.000000</td>\n",
              "      <td>1.0</td>\n",
              "      <td>5</td>\n",
              "      <td>2</td>\n",
              "      <td>2.0</td>\n",
              "      <td>6.0</td>\n",
              "      <td>3.0</td>\n",
              "      <td>1982</td>\n",
              "      <td>2.0</td>\n",
              "      <td>0.0</td>\n",
              "      <td>1.0</td>\n",
              "      <td>1070.0</td>\n",
              "      <td>4.0</td>\n",
              "      <td>3</td>\n",
              "      <td>2</td>\n",
              "      <td>5.0</td>\n",
              "      <td>8</td>\n",
              "      <td>4.0</td>\n",
              "      <td>4</td>\n",
              "      <td>14.0</td>\n",
              "      <td>5</td>\n",
              "      <td>6.0</td>\n",
              "      <td>8</td>\n",
              "      <td>6.0</td>\n",
              "      <td>3</td>\n",
              "      <td>2.0</td>\n",
              "      <td>1.0</td>\n",
              "      <td>24.0</td>\n",
              "      <td>594.0</td>\n",
              "    </tr>\n",
              "    <tr>\n",
              "      <th>994</th>\n",
              "      <td>3.000000</td>\n",
              "      <td>0.0</td>\n",
              "      <td>12</td>\n",
              "      <td>2</td>\n",
              "      <td>3.0</td>\n",
              "      <td>13.0</td>\n",
              "      <td>5.0</td>\n",
              "      <td>1990</td>\n",
              "      <td>3.0</td>\n",
              "      <td>0.0</td>\n",
              "      <td>1.0</td>\n",
              "      <td>2680.0</td>\n",
              "      <td>7.0</td>\n",
              "      <td>6</td>\n",
              "      <td>1</td>\n",
              "      <td>4.0</td>\n",
              "      <td>0</td>\n",
              "      <td>3.0</td>\n",
              "      <td>0</td>\n",
              "      <td>14.0</td>\n",
              "      <td>5</td>\n",
              "      <td>6.0</td>\n",
              "      <td>8</td>\n",
              "      <td>6.0</td>\n",
              "      <td>3</td>\n",
              "      <td>3.0</td>\n",
              "      <td>3.0</td>\n",
              "      <td>24.0</td>\n",
              "      <td>2400.0</td>\n",
              "    </tr>\n",
              "    <tr>\n",
              "      <th>18740</th>\n",
              "      <td>2.398261</td>\n",
              "      <td>1.0</td>\n",
              "      <td>12</td>\n",
              "      <td>2</td>\n",
              "      <td>1.0</td>\n",
              "      <td>7.0</td>\n",
              "      <td>4.0</td>\n",
              "      <td>1981</td>\n",
              "      <td>2.0</td>\n",
              "      <td>250000.0</td>\n",
              "      <td>1.0</td>\n",
              "      <td>2156.0</td>\n",
              "      <td>4.0</td>\n",
              "      <td>3</td>\n",
              "      <td>5</td>\n",
              "      <td>6.0</td>\n",
              "      <td>12</td>\n",
              "      <td>4.0</td>\n",
              "      <td>4</td>\n",
              "      <td>6.0</td>\n",
              "      <td>20</td>\n",
              "      <td>1.0</td>\n",
              "      <td>2</td>\n",
              "      <td>6.0</td>\n",
              "      <td>3</td>\n",
              "      <td>1.0</td>\n",
              "      <td>1.0</td>\n",
              "      <td>12.0</td>\n",
              "      <td>7750.0</td>\n",
              "    </tr>\n",
              "  </tbody>\n",
              "</table>\n",
              "<p>12354 rows × 29 columns</p>\n",
              "</div>"
            ],
            "text/plain": [
              "         BATHRM  HF_BATHRM  HEAT_D  AC  ...  KITCHENS  FIREPLACES  USECODE  LANDAREA\n",
              "2235   3.000000        0.0       7   1  ...       1.0         1.0     11.0     856.0\n",
              "10059  2.000000        1.0       7   2  ...       1.0         0.0     11.0    1957.0\n",
              "12699  2.398261        0.0       7   1  ...       1.0         0.0     11.0    1358.0\n",
              "12964  2.398261        1.0       7   2  ...       1.0         2.0     11.0    1127.0\n",
              "19244  2.398261        2.0      12   2  ...       1.0         1.0     12.0    7348.0\n",
              "...         ...        ...     ...  ..  ...       ...         ...      ...       ...\n",
              "13043  2.398261        0.0       7   1  ...       1.0         3.0     11.0    2993.0\n",
              "13913  2.398261        0.0       7   1  ...       2.0         1.0     24.0    2040.0\n",
              "6129   2.000000        1.0       5   2  ...       2.0         1.0     24.0     594.0\n",
              "994    3.000000        0.0      12   2  ...       3.0         3.0     24.0    2400.0\n",
              "18740  2.398261        1.0      12   2  ...       1.0         1.0     12.0    7750.0\n",
              "\n",
              "[12354 rows x 29 columns]"
            ]
          },
          "metadata": {
            "tags": []
          },
          "execution_count": 34
        }
      ]
    },
    {
      "cell_type": "code",
      "metadata": {
        "id": "PynhwhSm_m7z"
      },
      "source": [
        "from sklearn.naive_bayes import GaussianNB\n",
        "gnb = GaussianNB()\n",
        "gnb=gnb.fit(X_train, y_train)\n"
      ],
      "execution_count": 35,
      "outputs": []
    },
    {
      "cell_type": "code",
      "metadata": {
        "id": "Os5K8UXQBUev"
      },
      "source": [
        "y_pred=gnb.predict(X_test)"
      ],
      "execution_count": 36,
      "outputs": []
    },
    {
      "cell_type": "code",
      "metadata": {
        "id": "b2z86uheB_WD",
        "outputId": "970ae006-7628-4d47-d8ba-359a9673f325",
        "colab": {
          "base_uri": "https://localhost:8080/",
          "height": 34
        }
      },
      "source": [
        "from sklearn.metrics import accuracy_score\n",
        "accuracy_score(y_test, y_pred)\n"
      ],
      "execution_count": 37,
      "outputs": [
        {
          "output_type": "execute_result",
          "data": {
            "text/plain": [
              "0.8718159408381265"
            ]
          },
          "metadata": {
            "tags": []
          },
          "execution_count": 37
        }
      ]
    },
    {
      "cell_type": "code",
      "metadata": {
        "id": "CGW945ZvCDu3"
      },
      "source": [
        "from sklearn.ensemble import RandomForestClassifier\n",
        "from sklearn.datasets import make_classification\n",
        "from sklearn import preprocessing\n",
        "\n",
        "#classifier = RandomForestClassifier(n_estimators=20, random_state=0)\n",
        "#classifier.fit(X_train, y_train)\n",
        "#y_pred = classifier.predict(X_test)"
      ],
      "execution_count": 38,
      "outputs": []
    },
    {
      "cell_type": "code",
      "metadata": {
        "id": "u7GXbH--DPmy",
        "outputId": "db8c777a-4672-4a2b-82c7-eef4f9bd406c",
        "colab": {
          "base_uri": "https://localhost:8080/",
          "height": 34
        }
      },
      "source": [
        "accuracy_score(y_test, y_pred)\n"
      ],
      "execution_count": 39,
      "outputs": [
        {
          "output_type": "execute_result",
          "data": {
            "text/plain": [
              "0.8944946589975349"
            ]
          },
          "metadata": {
            "tags": []
          },
          "execution_count": 39
        }
      ]
    },
    {
      "cell_type": "code",
      "metadata": {
        "id": "Rw3wq94Keq3s",
        "outputId": "76889841-b8da-41f4-ea9e-66aacba33c02",
        "colab": {
          "base_uri": "https://localhost:8080/",
          "height": 34
        }
      },
      "source": [
        "from sklearn.neighbors import KNeighborsClassifier\n",
        "neigh = KNeighborsClassifier(n_neighbors=3)\n",
        "neigh.fit(X_train, y_train)\n",
        "y_pred=neigh.predict(X_test)\n",
        "accuracy_score(y_test, y_pred)\n"
      ],
      "execution_count": 40,
      "outputs": [
        {
          "output_type": "execute_result",
          "data": {
            "text/plain": [
              "0.8752670501232539"
            ]
          },
          "metadata": {
            "tags": []
          },
          "execution_count": 40
        }
      ]
    },
    {
      "cell_type": "code",
      "metadata": {
        "id": "zimvQyDZfdAJ",
        "outputId": "47ff0dc1-8f1a-4ad8-951d-dd4501455bfa",
        "colab": {
          "base_uri": "https://localhost:8080/",
          "height": 34
        }
      },
      "source": [
        "from sklearn.pipeline import make_pipeline\n",
        "from sklearn.preprocessing import StandardScaler\n",
        "from sklearn.svm import SVC\n",
        "clf = SVC(kernel='rbf')\n",
        "clf.fit(X_train, y_train)\n",
        "y_pred=clf.predict(X_test)\n",
        "accuracy_score(y_test, y_pred)\n",
        "\n",
        "\n"
      ],
      "execution_count": 41,
      "outputs": [
        {
          "output_type": "execute_result",
          "data": {
            "text/plain": [
              "0.8997534921939194"
            ]
          },
          "metadata": {
            "tags": []
          },
          "execution_count": 41
        }
      ]
    },
    {
      "cell_type": "code",
      "metadata": {
        "id": "KdbXd2ZMgKsR",
        "outputId": "974d7eb6-9f62-4016-c717-5b8d6c1a9c78",
        "colab": {
          "base_uri": "https://localhost:8080/",
          "height": 50
        }
      },
      "source": [
        "from sklearn.datasets import load_iris\n",
        "from sklearn.linear_model import LogisticRegression\n",
        "clf = LogisticRegression(random_state=0).fit(X_train, y_train)\n",
        "y_pred=clf.predict(X_test)\n",
        "print(clf.score(X_train,y_train))\n",
        "accuracy_score(y_test, y_pred)\n"
      ],
      "execution_count": 42,
      "outputs": [
        {
          "output_type": "stream",
          "text": [
            "0.8524364578274243\n"
          ],
          "name": "stdout"
        },
        {
          "output_type": "execute_result",
          "data": {
            "text/plain": [
              "0.8621199671322926"
            ]
          },
          "metadata": {
            "tags": []
          },
          "execution_count": 42
        }
      ]
    },
    {
      "cell_type": "code",
      "metadata": {
        "id": "Fc0u-fSfjmHD",
        "outputId": "0489c42f-b4f7-496c-a6a1-1cfb55ce724a",
        "colab": {
          "base_uri": "https://localhost:8080/",
          "height": 386
        }
      },
      "source": [
        "from sklearn.model_selection import GridSearchCV\n",
        "rfc=RandomForestClassifier(random_state=42)\n",
        "\n",
        "param_grid = { \n",
        "    'n_estimators': [200, 500],\n",
        "    'max_features': ['auto', 'sqrt', 'log2'],\n",
        "    'max_depth' : [4,5,6,7,8],\n",
        "    'criterion' :['gini', 'entropy']\n",
        "}\n",
        "CV_rfc = GridSearchCV(estimator=rfc, param_grid=param_grid, cv= 5)\n",
        "CV_rfc.fit(X_train, y_train)"
      ],
      "execution_count": 43,
      "outputs": [
        {
          "output_type": "execute_result",
          "data": {
            "text/plain": [
              "GridSearchCV(cv=5, error_score=nan,\n",
              "             estimator=RandomForestClassifier(bootstrap=True, ccp_alpha=0.0,\n",
              "                                              class_weight=None,\n",
              "                                              criterion='gini', max_depth=None,\n",
              "                                              max_features='auto',\n",
              "                                              max_leaf_nodes=None,\n",
              "                                              max_samples=None,\n",
              "                                              min_impurity_decrease=0.0,\n",
              "                                              min_impurity_split=None,\n",
              "                                              min_samples_leaf=1,\n",
              "                                              min_samples_split=2,\n",
              "                                              min_weight_fraction_leaf=0.0,\n",
              "                                              n_estimators=100, n_jobs=None,\n",
              "                                              oob_score=False, random_state=42,\n",
              "                                              verbose=0, warm_start=False),\n",
              "             iid='deprecated', n_jobs=None,\n",
              "             param_grid={'criterion': ['gini', 'entropy'],\n",
              "                         'max_depth': [4, 5, 6, 7, 8],\n",
              "                         'max_features': ['auto', 'sqrt', 'log2'],\n",
              "                         'n_estimators': [200, 500]},\n",
              "             pre_dispatch='2*n_jobs', refit=True, return_train_score=False,\n",
              "             scoring=None, verbose=0)"
            ]
          },
          "metadata": {
            "tags": []
          },
          "execution_count": 43
        }
      ]
    },
    {
      "cell_type": "code",
      "metadata": {
        "id": "ptNmOglbklWV",
        "outputId": "a4476103-880f-48a7-b8ba-7693f774ceea",
        "colab": {
          "base_uri": "https://localhost:8080/",
          "height": 84
        }
      },
      "source": [
        "CV_rfc.best_params_"
      ],
      "execution_count": 44,
      "outputs": [
        {
          "output_type": "execute_result",
          "data": {
            "text/plain": [
              "{'criterion': 'entropy',\n",
              " 'max_depth': 8,\n",
              " 'max_features': 'log2',\n",
              " 'n_estimators': 500}"
            ]
          },
          "metadata": {
            "tags": []
          },
          "execution_count": 44
        }
      ]
    },
    {
      "cell_type": "code",
      "metadata": {
        "id": "Izp1cJkekzrQ"
      },
      "source": [
        "rfc1=RandomForestClassifier(random_state=42, max_features='log2', n_estimators=500, max_depth=8, criterion='entropy')"
      ],
      "execution_count": 48,
      "outputs": []
    },
    {
      "cell_type": "code",
      "metadata": {
        "id": "Zjvr79BMk0lQ"
      },
      "source": [
        "rfc1.fit(X_train, y_train)\n",
        "pred=rfc1.predict(X_test)"
      ],
      "execution_count": 49,
      "outputs": []
    },
    {
      "cell_type": "code",
      "metadata": {
        "id": "-y4AD2_VlCb4",
        "outputId": "4a8df559-4fe6-4065-ff4a-8663214896c1",
        "colab": {
          "base_uri": "https://localhost:8080/",
          "height": 34
        }
      },
      "source": [
        "accuracy_score(y_test,pred)\n"
      ],
      "execution_count": 50,
      "outputs": [
        {
          "output_type": "execute_result",
          "data": {
            "text/plain": [
              "0.9007395234182416"
            ]
          },
          "metadata": {
            "tags": []
          },
          "execution_count": 50
        }
      ]
    },
    {
      "cell_type": "code",
      "metadata": {
        "id": "DL3TEW6RDXxD"
      },
      "source": [
        "def display(filename):\n",
        "  test_data=pd.read_csv(filename)\n",
        "  test_data=drop(test_data)\n",
        "  test_data=outliers(test_data)\n",
        "  test_data=null_values(test_data)\n",
        "  test_data=categorical(test_data)\n",
        "  test_data=transform(test_data)\n",
        "  return test_data\n",
        "\n",
        "def drop(test_data):\n",
        "  test_data=test_data.drop(['SALEDATE','GIS_LAST_MOD_DTTM','row ID','AYB','YR_RMDL','BLDG_NUM','STRUCT','HEAT'],axis=1) \n",
        "  return test_data \n",
        "\n",
        "def outliers(test_data):\n",
        "  Q1=test_data['PRICE'].quantile(0.25)\n",
        "  Q3=test_data['PRICE'].quantile(0.75)\n",
        "  IQR=Q3-Q1\n",
        "  Lower_Whisker = Q1-1.5 * IQR\n",
        "  Upper_Whisker =Q3 + 1.5 * IQR\n",
        "  test_data = test_data[test_data['PRICE']< Upper_Whisker]  \n",
        "  return test_data\n",
        "  \n",
        "\n",
        "def null_values(test_data):\n",
        "  data=['BATHRM','HF_BATHRM','NUM_UNITS','ROOMS','BEDRM','STORIES','PRICE','SALE_NUM','GBA','STYLE','GRADE','CNDTN','EXTWALL',\n",
        "      'ROOF','INTWALL','KITCHENS','FIREPLACES','USECODE','LANDAREA']\n",
        "\n",
        "  for null_values in data:\n",
        "    test_data[null_values].fillna(test_data[null_values].mean(), inplace=True)  \n",
        "\n",
        "  return test_data\n",
        "\n",
        "\n",
        "def categorical(test_data):\n",
        "  test_data = test_data.apply(lambda x: x.fillna(x.value_counts().index[0]))\n",
        "  return test_data\n",
        "\n",
        "\n",
        "def transform(test_data):\n",
        "  le = preprocessing.LabelEncoder()\n",
        "  label_strings=['HEAT_D','AC','STYLE_D','STRUCT_D','GRADE_D','CNDTN_D','EXTWALL_D','ROOF_D','INTWALL_D']\n",
        "  for values in label_strings:\n",
        "    test_data[values]=le.fit_transform(test_data[values])\n",
        "\n",
        "  return test_data  \n",
        "      "
      ],
      "execution_count": null,
      "outputs": []
    },
    {
      "cell_type": "code",
      "metadata": {
        "id": "zxWNLVg8EhI5"
      },
      "source": [
        "def dataset(filename):\n",
        "  if filename=='Assignment3-UnknownData.csv':\n",
        "    test_data=display(filename)\n",
        "    return test_data\n",
        "     "
      ],
      "execution_count": null,
      "outputs": []
    },
    {
      "cell_type": "code",
      "metadata": {
        "id": "ey4rMf73W8Qn"
      },
      "source": [
        "test_data=dataset('Assignment3-UnknownData.csv')"
      ],
      "execution_count": null,
      "outputs": []
    },
    {
      "cell_type": "code",
      "metadata": {
        "id": "WDuZacmdXQaK"
      },
      "source": [
        "test_predict=classifier.predict(test_data)"
      ],
      "execution_count": null,
      "outputs": []
    },
    {
      "cell_type": "code",
      "metadata": {
        "id": "puphmTR1ekpj"
      },
      "source": [
        "test_predict"
      ],
      "execution_count": null,
      "outputs": []
    }
  ]
}