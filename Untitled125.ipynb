{
  "nbformat": 4,
  "nbformat_minor": 0,
  "metadata": {
    "colab": {
      "name": "Untitled125.ipynb",
      "provenance": [],
      "collapsed_sections": [],
      "authorship_tag": "ABX9TyP+J0Ry0rdt8N0c6g0tIQsx",
      "include_colab_link": true
    },
    "kernelspec": {
      "name": "python3",
      "display_name": "Python 3"
    }
  },
  "cells": [
    {
      "cell_type": "markdown",
      "metadata": {
        "id": "view-in-github",
        "colab_type": "text"
      },
      "source": [
        "<a href=\"https://colab.research.google.com/github/Hamza1122/Classification-Task/blob/main/Untitled125.ipynb\" target=\"_parent\"><img src=\"https://colab.research.google.com/assets/colab-badge.svg\" alt=\"Open In Colab\"/></a>"
      ]
    },
    {
      "cell_type": "code",
      "metadata": {
        "id": "EP0SwS2UnE8H"
      },
      "source": [
        "import pandas as pd\n",
        "import numpy as np\n",
        "import matplotlib.pyplot as plt\n",
        "import seaborn as sns"
      ],
      "execution_count": 1,
      "outputs": []
    },
    {
      "cell_type": "code",
      "metadata": {
        "id": "lhLW0DUQn6mt",
        "outputId": "5b233f6f-bdce-4b0d-a526-3c400a0c404a",
        "colab": {
          "base_uri": "https://localhost:8080/"
        }
      },
      "source": [
        "df=pd.read_csv('Assignment3-TrainingData.csv')\n",
        "df.shape"
      ],
      "execution_count": 2,
      "outputs": [
        {
          "output_type": "execute_result",
          "data": {
            "text/plain": [
              "(75007, 38)"
            ]
          },
          "metadata": {
            "tags": []
          },
          "execution_count": 2
        }
      ]
    },
    {
      "cell_type": "code",
      "metadata": {
        "id": "R7PzyNyjoK1w",
        "outputId": "05607b9f-373e-4ed7-f60f-c0cedc9f3eb6",
        "colab": {
          "base_uri": "https://localhost:8080/",
          "height": 615
        }
      },
      "source": [
        "df.head(10)"
      ],
      "execution_count": 3,
      "outputs": [
        {
          "output_type": "execute_result",
          "data": {
            "text/html": [
              "<div>\n",
              "<style scoped>\n",
              "    .dataframe tbody tr th:only-of-type {\n",
              "        vertical-align: middle;\n",
              "    }\n",
              "\n",
              "    .dataframe tbody tr th {\n",
              "        vertical-align: top;\n",
              "    }\n",
              "\n",
              "    .dataframe thead th {\n",
              "        text-align: right;\n",
              "    }\n",
              "</style>\n",
              "<table border=\"1\" class=\"dataframe\">\n",
              "  <thead>\n",
              "    <tr style=\"text-align: right;\">\n",
              "      <th></th>\n",
              "      <th>row ID</th>\n",
              "      <th>BATHRM</th>\n",
              "      <th>HF_BATHRM</th>\n",
              "      <th>HEAT</th>\n",
              "      <th>HEAT_D</th>\n",
              "      <th>AC</th>\n",
              "      <th>NUM_UNITS</th>\n",
              "      <th>ROOMS</th>\n",
              "      <th>BEDRM</th>\n",
              "      <th>AYB</th>\n",
              "      <th>YR_RMDL</th>\n",
              "      <th>EYB</th>\n",
              "      <th>STORIES</th>\n",
              "      <th>SALEDATE</th>\n",
              "      <th>PRICE</th>\n",
              "      <th>SALE_NUM</th>\n",
              "      <th>GBA</th>\n",
              "      <th>BLDG_NUM</th>\n",
              "      <th>STYLE</th>\n",
              "      <th>STYLE_D</th>\n",
              "      <th>STRUCT</th>\n",
              "      <th>STRUCT_D</th>\n",
              "      <th>GRADE</th>\n",
              "      <th>GRADE_D</th>\n",
              "      <th>CNDTN</th>\n",
              "      <th>CNDTN_D</th>\n",
              "      <th>EXTWALL</th>\n",
              "      <th>EXTWALL_D</th>\n",
              "      <th>ROOF</th>\n",
              "      <th>ROOF_D</th>\n",
              "      <th>INTWALL</th>\n",
              "      <th>INTWALL_D</th>\n",
              "      <th>KITCHENS</th>\n",
              "      <th>FIREPLACES</th>\n",
              "      <th>USECODE</th>\n",
              "      <th>LANDAREA</th>\n",
              "      <th>GIS_LAST_MOD_DTTM</th>\n",
              "      <th>QUALIFIED</th>\n",
              "    </tr>\n",
              "  </thead>\n",
              "  <tbody>\n",
              "    <tr>\n",
              "      <th>0</th>\n",
              "      <td>Row0</td>\n",
              "      <td>3.0</td>\n",
              "      <td>1.0</td>\n",
              "      <td>7.0</td>\n",
              "      <td>Warm Cool</td>\n",
              "      <td>Y</td>\n",
              "      <td>2.0</td>\n",
              "      <td>11.0</td>\n",
              "      <td>5.0</td>\n",
              "      <td>1898.0</td>\n",
              "      <td>2007.0</td>\n",
              "      <td>1972</td>\n",
              "      <td>3.0</td>\n",
              "      <td>2000-08-17T00:00:00.000Z</td>\n",
              "      <td>0.0</td>\n",
              "      <td>1</td>\n",
              "      <td>2567</td>\n",
              "      <td>1</td>\n",
              "      <td>7.0</td>\n",
              "      <td>3 Story</td>\n",
              "      <td>7.0</td>\n",
              "      <td>Row Inside</td>\n",
              "      <td>6.0</td>\n",
              "      <td>Very Good</td>\n",
              "      <td>4.0</td>\n",
              "      <td>Good</td>\n",
              "      <td>14.0</td>\n",
              "      <td>Common Brick</td>\n",
              "      <td>2.0</td>\n",
              "      <td>Built Up</td>\n",
              "      <td>6.0</td>\n",
              "      <td>Hardwood</td>\n",
              "      <td>2.0</td>\n",
              "      <td>4.0</td>\n",
              "      <td>24</td>\n",
              "      <td>1680</td>\n",
              "      <td>2018-07-22T18:01:43.000Z</td>\n",
              "      <td>0</td>\n",
              "    </tr>\n",
              "    <tr>\n",
              "      <th>1</th>\n",
              "      <td>Row1</td>\n",
              "      <td>3.0</td>\n",
              "      <td>1.0</td>\n",
              "      <td>13.0</td>\n",
              "      <td>Hot Water Rad</td>\n",
              "      <td>Y</td>\n",
              "      <td>2.0</td>\n",
              "      <td>9.0</td>\n",
              "      <td>5.0</td>\n",
              "      <td>1910.0</td>\n",
              "      <td>2009.0</td>\n",
              "      <td>1984</td>\n",
              "      <td>3.0</td>\n",
              "      <td>2016-06-21T00:00:00.000Z</td>\n",
              "      <td>2100000.0</td>\n",
              "      <td>3</td>\n",
              "      <td>2522</td>\n",
              "      <td>1</td>\n",
              "      <td>7.0</td>\n",
              "      <td>3 Story</td>\n",
              "      <td>7.0</td>\n",
              "      <td>Row Inside</td>\n",
              "      <td>6.0</td>\n",
              "      <td>Very Good</td>\n",
              "      <td>5.0</td>\n",
              "      <td>Very Good</td>\n",
              "      <td>14.0</td>\n",
              "      <td>Common Brick</td>\n",
              "      <td>2.0</td>\n",
              "      <td>Built Up</td>\n",
              "      <td>6.0</td>\n",
              "      <td>Hardwood</td>\n",
              "      <td>2.0</td>\n",
              "      <td>4.0</td>\n",
              "      <td>24</td>\n",
              "      <td>1680</td>\n",
              "      <td>2018-07-22T18:01:43.000Z</td>\n",
              "      <td>1</td>\n",
              "    </tr>\n",
              "    <tr>\n",
              "      <th>2</th>\n",
              "      <td>Row2</td>\n",
              "      <td>2.0</td>\n",
              "      <td>1.0</td>\n",
              "      <td>7.0</td>\n",
              "      <td>Warm Cool</td>\n",
              "      <td>Y</td>\n",
              "      <td>1.0</td>\n",
              "      <td>11.0</td>\n",
              "      <td>3.0</td>\n",
              "      <td>1913.0</td>\n",
              "      <td>2012.0</td>\n",
              "      <td>1985</td>\n",
              "      <td>3.0</td>\n",
              "      <td>1900-01-01T00:00:00.000Z</td>\n",
              "      <td>NaN</td>\n",
              "      <td>1</td>\n",
              "      <td>5255</td>\n",
              "      <td>1</td>\n",
              "      <td>7.0</td>\n",
              "      <td>3 Story</td>\n",
              "      <td>8.0</td>\n",
              "      <td>Semi-Detached</td>\n",
              "      <td>6.0</td>\n",
              "      <td>Very Good</td>\n",
              "      <td>4.0</td>\n",
              "      <td>Good</td>\n",
              "      <td>14.0</td>\n",
              "      <td>Common Brick</td>\n",
              "      <td>13.0</td>\n",
              "      <td>Neopren</td>\n",
              "      <td>6.0</td>\n",
              "      <td>Hardwood</td>\n",
              "      <td>1.0</td>\n",
              "      <td>0.0</td>\n",
              "      <td>13</td>\n",
              "      <td>2032</td>\n",
              "      <td>2018-07-22T18:01:43.000Z</td>\n",
              "      <td>0</td>\n",
              "    </tr>\n",
              "    <tr>\n",
              "      <th>3</th>\n",
              "      <td>Row3</td>\n",
              "      <td>3.0</td>\n",
              "      <td>2.0</td>\n",
              "      <td>13.0</td>\n",
              "      <td>Hot Water Rad</td>\n",
              "      <td>Y</td>\n",
              "      <td>1.0</td>\n",
              "      <td>10.0</td>\n",
              "      <td>5.0</td>\n",
              "      <td>1913.0</td>\n",
              "      <td>NaN</td>\n",
              "      <td>1972</td>\n",
              "      <td>4.0</td>\n",
              "      <td>2010-02-26T00:00:00.000Z</td>\n",
              "      <td>1950000.0</td>\n",
              "      <td>1</td>\n",
              "      <td>5344</td>\n",
              "      <td>1</td>\n",
              "      <td>10.0</td>\n",
              "      <td>4 Story</td>\n",
              "      <td>7.0</td>\n",
              "      <td>Row Inside</td>\n",
              "      <td>6.0</td>\n",
              "      <td>Very Good</td>\n",
              "      <td>4.0</td>\n",
              "      <td>Good</td>\n",
              "      <td>14.0</td>\n",
              "      <td>Common Brick</td>\n",
              "      <td>2.0</td>\n",
              "      <td>Built Up</td>\n",
              "      <td>6.0</td>\n",
              "      <td>Hardwood</td>\n",
              "      <td>1.0</td>\n",
              "      <td>4.0</td>\n",
              "      <td>11</td>\n",
              "      <td>2196</td>\n",
              "      <td>2018-07-22T18:01:43.000Z</td>\n",
              "      <td>1</td>\n",
              "    </tr>\n",
              "    <tr>\n",
              "      <th>4</th>\n",
              "      <td>Row4</td>\n",
              "      <td>3.0</td>\n",
              "      <td>1.0</td>\n",
              "      <td>7.0</td>\n",
              "      <td>Warm Cool</td>\n",
              "      <td>Y</td>\n",
              "      <td>2.0</td>\n",
              "      <td>7.0</td>\n",
              "      <td>3.0</td>\n",
              "      <td>1908.0</td>\n",
              "      <td>2008.0</td>\n",
              "      <td>1967</td>\n",
              "      <td>2.0</td>\n",
              "      <td>2018-05-03T00:00:00.000Z</td>\n",
              "      <td>1430000.0</td>\n",
              "      <td>4</td>\n",
              "      <td>1488</td>\n",
              "      <td>1</td>\n",
              "      <td>4.0</td>\n",
              "      <td>2 Story</td>\n",
              "      <td>7.0</td>\n",
              "      <td>Row Inside</td>\n",
              "      <td>4.0</td>\n",
              "      <td>Above Average</td>\n",
              "      <td>5.0</td>\n",
              "      <td>Very Good</td>\n",
              "      <td>14.0</td>\n",
              "      <td>Common Brick</td>\n",
              "      <td>2.0</td>\n",
              "      <td>Built Up</td>\n",
              "      <td>6.0</td>\n",
              "      <td>Hardwood</td>\n",
              "      <td>2.0</td>\n",
              "      <td>1.0</td>\n",
              "      <td>24</td>\n",
              "      <td>1424</td>\n",
              "      <td>2018-07-22T18:01:43.000Z</td>\n",
              "      <td>1</td>\n",
              "    </tr>\n",
              "    <tr>\n",
              "      <th>5</th>\n",
              "      <td>Row5</td>\n",
              "      <td>3.0</td>\n",
              "      <td>0.0</td>\n",
              "      <td>1.0</td>\n",
              "      <td>Forced Air</td>\n",
              "      <td>N</td>\n",
              "      <td>3.0</td>\n",
              "      <td>12.0</td>\n",
              "      <td>5.0</td>\n",
              "      <td>1890.0</td>\n",
              "      <td>1950.0</td>\n",
              "      <td>1954</td>\n",
              "      <td>3.0</td>\n",
              "      <td>1900-01-01T00:00:00.000Z</td>\n",
              "      <td>NaN</td>\n",
              "      <td>1</td>\n",
              "      <td>2748</td>\n",
              "      <td>1</td>\n",
              "      <td>7.0</td>\n",
              "      <td>3 Story</td>\n",
              "      <td>7.0</td>\n",
              "      <td>Row Inside</td>\n",
              "      <td>6.0</td>\n",
              "      <td>Very Good</td>\n",
              "      <td>2.0</td>\n",
              "      <td>Fair</td>\n",
              "      <td>14.0</td>\n",
              "      <td>Common Brick</td>\n",
              "      <td>6.0</td>\n",
              "      <td>Metal- Sms</td>\n",
              "      <td>6.0</td>\n",
              "      <td>Hardwood</td>\n",
              "      <td>3.0</td>\n",
              "      <td>0.0</td>\n",
              "      <td>24</td>\n",
              "      <td>1360</td>\n",
              "      <td>2018-07-22T18:01:43.000Z</td>\n",
              "      <td>0</td>\n",
              "    </tr>\n",
              "    <tr>\n",
              "      <th>6</th>\n",
              "      <td>Row6</td>\n",
              "      <td>5.0</td>\n",
              "      <td>0.0</td>\n",
              "      <td>13.0</td>\n",
              "      <td>Hot Water Rad</td>\n",
              "      <td>Y</td>\n",
              "      <td>3.0</td>\n",
              "      <td>16.0</td>\n",
              "      <td>6.0</td>\n",
              "      <td>1905.0</td>\n",
              "      <td>NaN</td>\n",
              "      <td>1950</td>\n",
              "      <td>3.0</td>\n",
              "      <td>2009-03-12T00:00:00.000Z</td>\n",
              "      <td>0.0</td>\n",
              "      <td>1</td>\n",
              "      <td>3100</td>\n",
              "      <td>1</td>\n",
              "      <td>7.0</td>\n",
              "      <td>3 Story</td>\n",
              "      <td>7.0</td>\n",
              "      <td>Row Inside</td>\n",
              "      <td>5.0</td>\n",
              "      <td>Good Quality</td>\n",
              "      <td>3.0</td>\n",
              "      <td>Average</td>\n",
              "      <td>14.0</td>\n",
              "      <td>Common Brick</td>\n",
              "      <td>6.0</td>\n",
              "      <td>Metal- Sms</td>\n",
              "      <td>6.0</td>\n",
              "      <td>Hardwood</td>\n",
              "      <td>3.0</td>\n",
              "      <td>0.0</td>\n",
              "      <td>24</td>\n",
              "      <td>2023</td>\n",
              "      <td>2018-07-22T18:01:43.000Z</td>\n",
              "      <td>0</td>\n",
              "    </tr>\n",
              "    <tr>\n",
              "      <th>7</th>\n",
              "      <td>Row7</td>\n",
              "      <td>2.0</td>\n",
              "      <td>0.0</td>\n",
              "      <td>13.0</td>\n",
              "      <td>Hot Water Rad</td>\n",
              "      <td>N</td>\n",
              "      <td>2.0</td>\n",
              "      <td>9.0</td>\n",
              "      <td>5.0</td>\n",
              "      <td>1894.0</td>\n",
              "      <td>1979.0</td>\n",
              "      <td>1963</td>\n",
              "      <td>3.0</td>\n",
              "      <td>1900-01-01T00:00:00.000Z</td>\n",
              "      <td>NaN</td>\n",
              "      <td>1</td>\n",
              "      <td>3119</td>\n",
              "      <td>1</td>\n",
              "      <td>7.0</td>\n",
              "      <td>3 Story</td>\n",
              "      <td>7.0</td>\n",
              "      <td>Row Inside</td>\n",
              "      <td>6.0</td>\n",
              "      <td>Very Good</td>\n",
              "      <td>3.0</td>\n",
              "      <td>Average</td>\n",
              "      <td>20.0</td>\n",
              "      <td>Brick/Stone</td>\n",
              "      <td>6.0</td>\n",
              "      <td>Metal- Sms</td>\n",
              "      <td>6.0</td>\n",
              "      <td>Hardwood</td>\n",
              "      <td>2.0</td>\n",
              "      <td>5.0</td>\n",
              "      <td>24</td>\n",
              "      <td>1837</td>\n",
              "      <td>2018-07-22T18:01:43.000Z</td>\n",
              "      <td>0</td>\n",
              "    </tr>\n",
              "    <tr>\n",
              "      <th>8</th>\n",
              "      <td>Row8</td>\n",
              "      <td>3.0</td>\n",
              "      <td>1.0</td>\n",
              "      <td>7.0</td>\n",
              "      <td>Warm Cool</td>\n",
              "      <td>Y</td>\n",
              "      <td>2.0</td>\n",
              "      <td>5.0</td>\n",
              "      <td>3.0</td>\n",
              "      <td>1917.0</td>\n",
              "      <td>2000.0</td>\n",
              "      <td>1967</td>\n",
              "      <td>2.0</td>\n",
              "      <td>2011-09-30T00:00:00.000Z</td>\n",
              "      <td>1325000.0</td>\n",
              "      <td>1</td>\n",
              "      <td>2692</td>\n",
              "      <td>1</td>\n",
              "      <td>4.0</td>\n",
              "      <td>2 Story</td>\n",
              "      <td>7.0</td>\n",
              "      <td>Row Inside</td>\n",
              "      <td>4.0</td>\n",
              "      <td>Above Average</td>\n",
              "      <td>5.0</td>\n",
              "      <td>Very Good</td>\n",
              "      <td>5.0</td>\n",
              "      <td>Stucco</td>\n",
              "      <td>6.0</td>\n",
              "      <td>Metal- Sms</td>\n",
              "      <td>6.0</td>\n",
              "      <td>Hardwood</td>\n",
              "      <td>2.0</td>\n",
              "      <td>1.0</td>\n",
              "      <td>24</td>\n",
              "      <td>1815</td>\n",
              "      <td>2018-07-22T18:01:43.000Z</td>\n",
              "      <td>1</td>\n",
              "    </tr>\n",
              "    <tr>\n",
              "      <th>9</th>\n",
              "      <td>Row9</td>\n",
              "      <td>2.0</td>\n",
              "      <td>1.0</td>\n",
              "      <td>7.0</td>\n",
              "      <td>Warm Cool</td>\n",
              "      <td>Y</td>\n",
              "      <td>2.0</td>\n",
              "      <td>9.0</td>\n",
              "      <td>4.0</td>\n",
              "      <td>1908.0</td>\n",
              "      <td>1990.0</td>\n",
              "      <td>1947</td>\n",
              "      <td>2.0</td>\n",
              "      <td>1900-01-01T00:00:00.000Z</td>\n",
              "      <td>NaN</td>\n",
              "      <td>1</td>\n",
              "      <td>1662</td>\n",
              "      <td>1</td>\n",
              "      <td>4.0</td>\n",
              "      <td>2 Story</td>\n",
              "      <td>7.0</td>\n",
              "      <td>Row Inside</td>\n",
              "      <td>4.0</td>\n",
              "      <td>Above Average</td>\n",
              "      <td>3.0</td>\n",
              "      <td>Average</td>\n",
              "      <td>14.0</td>\n",
              "      <td>Common Brick</td>\n",
              "      <td>6.0</td>\n",
              "      <td>Metal- Sms</td>\n",
              "      <td>6.0</td>\n",
              "      <td>Hardwood</td>\n",
              "      <td>2.0</td>\n",
              "      <td>0.0</td>\n",
              "      <td>24</td>\n",
              "      <td>1445</td>\n",
              "      <td>2018-07-22T18:01:43.000Z</td>\n",
              "      <td>0</td>\n",
              "    </tr>\n",
              "  </tbody>\n",
              "</table>\n",
              "</div>"
            ],
            "text/plain": [
              "  row ID  BATHRM  HF_BATHRM  ...  LANDAREA         GIS_LAST_MOD_DTTM QUALIFIED\n",
              "0   Row0     3.0        1.0  ...      1680  2018-07-22T18:01:43.000Z         0\n",
              "1   Row1     3.0        1.0  ...      1680  2018-07-22T18:01:43.000Z         1\n",
              "2   Row2     2.0        1.0  ...      2032  2018-07-22T18:01:43.000Z         0\n",
              "3   Row3     3.0        2.0  ...      2196  2018-07-22T18:01:43.000Z         1\n",
              "4   Row4     3.0        1.0  ...      1424  2018-07-22T18:01:43.000Z         1\n",
              "5   Row5     3.0        0.0  ...      1360  2018-07-22T18:01:43.000Z         0\n",
              "6   Row6     5.0        0.0  ...      2023  2018-07-22T18:01:43.000Z         0\n",
              "7   Row7     2.0        0.0  ...      1837  2018-07-22T18:01:43.000Z         0\n",
              "8   Row8     3.0        1.0  ...      1815  2018-07-22T18:01:43.000Z         1\n",
              "9   Row9     2.0        1.0  ...      1445  2018-07-22T18:01:43.000Z         0\n",
              "\n",
              "[10 rows x 38 columns]"
            ]
          },
          "metadata": {
            "tags": []
          },
          "execution_count": 3
        }
      ]
    },
    {
      "cell_type": "code",
      "metadata": {
        "id": "xYYiTda-mGL6",
        "outputId": "84e539e1-078b-43ac-9224-99ab745d6911",
        "colab": {
          "base_uri": "https://localhost:8080/"
        }
      },
      "source": [
        "df.shape"
      ],
      "execution_count": 4,
      "outputs": [
        {
          "output_type": "execute_result",
          "data": {
            "text/plain": [
              "(75007, 38)"
            ]
          },
          "metadata": {
            "tags": []
          },
          "execution_count": 4
        }
      ]
    },
    {
      "cell_type": "code",
      "metadata": {
        "id": "vxx5YFgLoURe"
      },
      "source": [
        "df=df.drop(['SALEDATE','GIS_LAST_MOD_DTTM','row ID','AYB','YR_RMDL','BLDG_NUM','STRUCT','HEAT','EYB','GBA'],axis=1)"
      ],
      "execution_count": 5,
      "outputs": []
    },
    {
      "cell_type": "code",
      "metadata": {
        "id": "G7kUeibeo2K4",
        "outputId": "821cf71b-e45a-4331-f901-a7e3eaac7abe",
        "colab": {
          "base_uri": "https://localhost:8080/",
          "height": 304
        }
      },
      "source": [
        "df.describe()"
      ],
      "execution_count": 6,
      "outputs": [
        {
          "output_type": "execute_result",
          "data": {
            "text/html": [
              "<div>\n",
              "<style scoped>\n",
              "    .dataframe tbody tr th:only-of-type {\n",
              "        vertical-align: middle;\n",
              "    }\n",
              "\n",
              "    .dataframe tbody tr th {\n",
              "        vertical-align: top;\n",
              "    }\n",
              "\n",
              "    .dataframe thead th {\n",
              "        text-align: right;\n",
              "    }\n",
              "</style>\n",
              "<table border=\"1\" class=\"dataframe\">\n",
              "  <thead>\n",
              "    <tr style=\"text-align: right;\">\n",
              "      <th></th>\n",
              "      <th>BATHRM</th>\n",
              "      <th>HF_BATHRM</th>\n",
              "      <th>NUM_UNITS</th>\n",
              "      <th>ROOMS</th>\n",
              "      <th>BEDRM</th>\n",
              "      <th>STORIES</th>\n",
              "      <th>PRICE</th>\n",
              "      <th>SALE_NUM</th>\n",
              "      <th>STYLE</th>\n",
              "      <th>GRADE</th>\n",
              "      <th>CNDTN</th>\n",
              "      <th>EXTWALL</th>\n",
              "      <th>ROOF</th>\n",
              "      <th>INTWALL</th>\n",
              "      <th>KITCHENS</th>\n",
              "      <th>FIREPLACES</th>\n",
              "      <th>USECODE</th>\n",
              "      <th>LANDAREA</th>\n",
              "      <th>QUALIFIED</th>\n",
              "    </tr>\n",
              "  </thead>\n",
              "  <tbody>\n",
              "    <tr>\n",
              "      <th>count</th>\n",
              "      <td>74987.000000</td>\n",
              "      <td>74986.000000</td>\n",
              "      <td>74987.000000</td>\n",
              "      <td>74975.000000</td>\n",
              "      <td>74983.000000</td>\n",
              "      <td>74955.000000</td>\n",
              "      <td>6.150100e+04</td>\n",
              "      <td>75007.000000</td>\n",
              "      <td>74987.000000</td>\n",
              "      <td>74987.000000</td>\n",
              "      <td>74987.000000</td>\n",
              "      <td>74987.000000</td>\n",
              "      <td>74987.000000</td>\n",
              "      <td>74987.000000</td>\n",
              "      <td>74986.000000</td>\n",
              "      <td>74986.000000</td>\n",
              "      <td>75007.000000</td>\n",
              "      <td>75007.000000</td>\n",
              "      <td>75007.000000</td>\n",
              "    </tr>\n",
              "    <tr>\n",
              "      <th>mean</th>\n",
              "      <td>2.035660</td>\n",
              "      <td>0.608314</td>\n",
              "      <td>1.195967</td>\n",
              "      <td>7.357506</td>\n",
              "      <td>3.372991</td>\n",
              "      <td>2.096048</td>\n",
              "      <td>3.841263e+05</td>\n",
              "      <td>1.616129</td>\n",
              "      <td>4.345927</td>\n",
              "      <td>4.268593</td>\n",
              "      <td>3.526451</td>\n",
              "      <td>13.355608</td>\n",
              "      <td>3.992239</td>\n",
              "      <td>6.144772</td>\n",
              "      <td>1.217521</td>\n",
              "      <td>0.619782</td>\n",
              "      <td>13.121695</td>\n",
              "      <td>3419.138054</td>\n",
              "      <td>0.430920</td>\n",
              "    </tr>\n",
              "    <tr>\n",
              "      <th>std</th>\n",
              "      <td>1.067649</td>\n",
              "      <td>0.617160</td>\n",
              "      <td>0.593972</td>\n",
              "      <td>2.353929</td>\n",
              "      <td>1.169221</td>\n",
              "      <td>3.337171</td>\n",
              "      <td>5.777721e+05</td>\n",
              "      <td>1.277395</td>\n",
              "      <td>1.580766</td>\n",
              "      <td>1.369708</td>\n",
              "      <td>0.715611</td>\n",
              "      <td>3.938126</td>\n",
              "      <td>3.351630</td>\n",
              "      <td>1.960660</td>\n",
              "      <td>0.624872</td>\n",
              "      <td>0.889498</td>\n",
              "      <td>3.977688</td>\n",
              "      <td>5519.538116</td>\n",
              "      <td>0.495208</td>\n",
              "    </tr>\n",
              "    <tr>\n",
              "      <th>min</th>\n",
              "      <td>0.000000</td>\n",
              "      <td>0.000000</td>\n",
              "      <td>0.000000</td>\n",
              "      <td>0.000000</td>\n",
              "      <td>0.000000</td>\n",
              "      <td>0.000000</td>\n",
              "      <td>0.000000e+00</td>\n",
              "      <td>1.000000</td>\n",
              "      <td>0.000000</td>\n",
              "      <td>0.000000</td>\n",
              "      <td>0.000000</td>\n",
              "      <td>0.000000</td>\n",
              "      <td>0.000000</td>\n",
              "      <td>0.000000</td>\n",
              "      <td>0.000000</td>\n",
              "      <td>0.000000</td>\n",
              "      <td>0.000000</td>\n",
              "      <td>0.000000</td>\n",
              "      <td>0.000000</td>\n",
              "    </tr>\n",
              "    <tr>\n",
              "      <th>25%</th>\n",
              "      <td>1.000000</td>\n",
              "      <td>0.000000</td>\n",
              "      <td>1.000000</td>\n",
              "      <td>6.000000</td>\n",
              "      <td>3.000000</td>\n",
              "      <td>2.000000</td>\n",
              "      <td>0.000000e+00</td>\n",
              "      <td>1.000000</td>\n",
              "      <td>4.000000</td>\n",
              "      <td>3.000000</td>\n",
              "      <td>3.000000</td>\n",
              "      <td>14.000000</td>\n",
              "      <td>1.000000</td>\n",
              "      <td>6.000000</td>\n",
              "      <td>1.000000</td>\n",
              "      <td>0.000000</td>\n",
              "      <td>11.000000</td>\n",
              "      <td>1600.000000</td>\n",
              "      <td>0.000000</td>\n",
              "    </tr>\n",
              "    <tr>\n",
              "      <th>50%</th>\n",
              "      <td>2.000000</td>\n",
              "      <td>1.000000</td>\n",
              "      <td>1.000000</td>\n",
              "      <td>7.000000</td>\n",
              "      <td>3.000000</td>\n",
              "      <td>2.000000</td>\n",
              "      <td>2.380000e+05</td>\n",
              "      <td>1.000000</td>\n",
              "      <td>4.000000</td>\n",
              "      <td>4.000000</td>\n",
              "      <td>3.000000</td>\n",
              "      <td>14.000000</td>\n",
              "      <td>2.000000</td>\n",
              "      <td>6.000000</td>\n",
              "      <td>1.000000</td>\n",
              "      <td>0.000000</td>\n",
              "      <td>12.000000</td>\n",
              "      <td>2370.000000</td>\n",
              "      <td>0.000000</td>\n",
              "    </tr>\n",
              "    <tr>\n",
              "      <th>75%</th>\n",
              "      <td>3.000000</td>\n",
              "      <td>1.000000</td>\n",
              "      <td>1.000000</td>\n",
              "      <td>8.000000</td>\n",
              "      <td>4.000000</td>\n",
              "      <td>2.000000</td>\n",
              "      <td>5.800000e+05</td>\n",
              "      <td>1.000000</td>\n",
              "      <td>4.000000</td>\n",
              "      <td>5.000000</td>\n",
              "      <td>4.000000</td>\n",
              "      <td>14.000000</td>\n",
              "      <td>6.000000</td>\n",
              "      <td>6.000000</td>\n",
              "      <td>1.000000</td>\n",
              "      <td>1.000000</td>\n",
              "      <td>13.000000</td>\n",
              "      <td>4200.000000</td>\n",
              "      <td>1.000000</td>\n",
              "    </tr>\n",
              "    <tr>\n",
              "      <th>max</th>\n",
              "      <td>24.000000</td>\n",
              "      <td>11.000000</td>\n",
              "      <td>6.000000</td>\n",
              "      <td>101.000000</td>\n",
              "      <td>54.000000</td>\n",
              "      <td>826.000000</td>\n",
              "      <td>2.510000e+07</td>\n",
              "      <td>15.000000</td>\n",
              "      <td>99.000000</td>\n",
              "      <td>12.000000</td>\n",
              "      <td>6.000000</td>\n",
              "      <td>24.000000</td>\n",
              "      <td>15.000000</td>\n",
              "      <td>11.000000</td>\n",
              "      <td>44.000000</td>\n",
              "      <td>13.000000</td>\n",
              "      <td>81.000000</td>\n",
              "      <td>691817.000000</td>\n",
              "      <td>1.000000</td>\n",
              "    </tr>\n",
              "  </tbody>\n",
              "</table>\n",
              "</div>"
            ],
            "text/plain": [
              "             BATHRM     HF_BATHRM  ...       LANDAREA     QUALIFIED\n",
              "count  74987.000000  74986.000000  ...   75007.000000  75007.000000\n",
              "mean       2.035660      0.608314  ...    3419.138054      0.430920\n",
              "std        1.067649      0.617160  ...    5519.538116      0.495208\n",
              "min        0.000000      0.000000  ...       0.000000      0.000000\n",
              "25%        1.000000      0.000000  ...    1600.000000      0.000000\n",
              "50%        2.000000      1.000000  ...    2370.000000      0.000000\n",
              "75%        3.000000      1.000000  ...    4200.000000      1.000000\n",
              "max       24.000000     11.000000  ...  691817.000000      1.000000\n",
              "\n",
              "[8 rows x 19 columns]"
            ]
          },
          "metadata": {
            "tags": []
          },
          "execution_count": 6
        }
      ]
    },
    {
      "cell_type": "code",
      "metadata": {
        "id": "cQ3HLlzgo5TX",
        "outputId": "c2feb0d8-2ce6-4e82-cb66-02c91dbbe0cc",
        "colab": {
          "base_uri": "https://localhost:8080/",
          "height": 630
        }
      },
      "source": [
        "df.corr()"
      ],
      "execution_count": 7,
      "outputs": [
        {
          "output_type": "execute_result",
          "data": {
            "text/html": [
              "<div>\n",
              "<style scoped>\n",
              "    .dataframe tbody tr th:only-of-type {\n",
              "        vertical-align: middle;\n",
              "    }\n",
              "\n",
              "    .dataframe tbody tr th {\n",
              "        vertical-align: top;\n",
              "    }\n",
              "\n",
              "    .dataframe thead th {\n",
              "        text-align: right;\n",
              "    }\n",
              "</style>\n",
              "<table border=\"1\" class=\"dataframe\">\n",
              "  <thead>\n",
              "    <tr style=\"text-align: right;\">\n",
              "      <th></th>\n",
              "      <th>BATHRM</th>\n",
              "      <th>HF_BATHRM</th>\n",
              "      <th>NUM_UNITS</th>\n",
              "      <th>ROOMS</th>\n",
              "      <th>BEDRM</th>\n",
              "      <th>STORIES</th>\n",
              "      <th>PRICE</th>\n",
              "      <th>SALE_NUM</th>\n",
              "      <th>STYLE</th>\n",
              "      <th>GRADE</th>\n",
              "      <th>CNDTN</th>\n",
              "      <th>EXTWALL</th>\n",
              "      <th>ROOF</th>\n",
              "      <th>INTWALL</th>\n",
              "      <th>KITCHENS</th>\n",
              "      <th>FIREPLACES</th>\n",
              "      <th>USECODE</th>\n",
              "      <th>LANDAREA</th>\n",
              "      <th>QUALIFIED</th>\n",
              "    </tr>\n",
              "  </thead>\n",
              "  <tbody>\n",
              "    <tr>\n",
              "      <th>BATHRM</th>\n",
              "      <td>1.000000</td>\n",
              "      <td>0.133854</td>\n",
              "      <td>0.401933</td>\n",
              "      <td>0.639187</td>\n",
              "      <td>0.591457</td>\n",
              "      <td>0.036751</td>\n",
              "      <td>0.409774</td>\n",
              "      <td>0.110856</td>\n",
              "      <td>0.268636</td>\n",
              "      <td>0.481718</td>\n",
              "      <td>0.368440</td>\n",
              "      <td>0.038598</td>\n",
              "      <td>0.149227</td>\n",
              "      <td>0.094859</td>\n",
              "      <td>0.417169</td>\n",
              "      <td>0.396841</td>\n",
              "      <td>0.337570</td>\n",
              "      <td>0.243874</td>\n",
              "      <td>0.172837</td>\n",
              "    </tr>\n",
              "    <tr>\n",
              "      <th>HF_BATHRM</th>\n",
              "      <td>0.133854</td>\n",
              "      <td>1.000000</td>\n",
              "      <td>-0.148496</td>\n",
              "      <td>0.133625</td>\n",
              "      <td>0.151910</td>\n",
              "      <td>0.032086</td>\n",
              "      <td>0.209135</td>\n",
              "      <td>0.038322</td>\n",
              "      <td>0.156933</td>\n",
              "      <td>0.299643</td>\n",
              "      <td>0.275587</td>\n",
              "      <td>0.042003</td>\n",
              "      <td>0.094562</td>\n",
              "      <td>0.067505</td>\n",
              "      <td>-0.130218</td>\n",
              "      <td>0.268607</td>\n",
              "      <td>-0.088721</td>\n",
              "      <td>0.140253</td>\n",
              "      <td>0.103165</td>\n",
              "    </tr>\n",
              "    <tr>\n",
              "      <th>NUM_UNITS</th>\n",
              "      <td>0.401933</td>\n",
              "      <td>-0.148496</td>\n",
              "      <td>1.000000</td>\n",
              "      <td>0.509763</td>\n",
              "      <td>0.310772</td>\n",
              "      <td>0.016098</td>\n",
              "      <td>0.009233</td>\n",
              "      <td>0.012418</td>\n",
              "      <td>0.090611</td>\n",
              "      <td>-0.027030</td>\n",
              "      <td>-0.057202</td>\n",
              "      <td>0.052014</td>\n",
              "      <td>-0.017631</td>\n",
              "      <td>0.007507</td>\n",
              "      <td>0.922181</td>\n",
              "      <td>-0.029752</td>\n",
              "      <td>0.798941</td>\n",
              "      <td>-0.041283</td>\n",
              "      <td>-0.006023</td>\n",
              "    </tr>\n",
              "    <tr>\n",
              "      <th>ROOMS</th>\n",
              "      <td>0.639187</td>\n",
              "      <td>0.133625</td>\n",
              "      <td>0.509763</td>\n",
              "      <td>1.000000</td>\n",
              "      <td>0.650494</td>\n",
              "      <td>0.032851</td>\n",
              "      <td>0.245641</td>\n",
              "      <td>0.011938</td>\n",
              "      <td>0.237716</td>\n",
              "      <td>0.340703</td>\n",
              "      <td>0.148680</td>\n",
              "      <td>0.031834</td>\n",
              "      <td>0.142726</td>\n",
              "      <td>0.030074</td>\n",
              "      <td>0.505697</td>\n",
              "      <td>0.288145</td>\n",
              "      <td>0.374391</td>\n",
              "      <td>0.238464</td>\n",
              "      <td>0.019572</td>\n",
              "    </tr>\n",
              "    <tr>\n",
              "      <th>BEDRM</th>\n",
              "      <td>0.591457</td>\n",
              "      <td>0.151910</td>\n",
              "      <td>0.310772</td>\n",
              "      <td>0.650494</td>\n",
              "      <td>1.000000</td>\n",
              "      <td>0.033675</td>\n",
              "      <td>0.253135</td>\n",
              "      <td>0.029347</td>\n",
              "      <td>0.245772</td>\n",
              "      <td>0.347175</td>\n",
              "      <td>0.158620</td>\n",
              "      <td>0.002032</td>\n",
              "      <td>0.131225</td>\n",
              "      <td>0.046293</td>\n",
              "      <td>0.322496</td>\n",
              "      <td>0.281702</td>\n",
              "      <td>0.265185</td>\n",
              "      <td>0.227244</td>\n",
              "      <td>0.046003</td>\n",
              "    </tr>\n",
              "    <tr>\n",
              "      <th>STORIES</th>\n",
              "      <td>0.036751</td>\n",
              "      <td>0.032086</td>\n",
              "      <td>0.016098</td>\n",
              "      <td>0.032851</td>\n",
              "      <td>0.033675</td>\n",
              "      <td>1.000000</td>\n",
              "      <td>0.036913</td>\n",
              "      <td>0.013226</td>\n",
              "      <td>0.097289</td>\n",
              "      <td>0.054531</td>\n",
              "      <td>0.030482</td>\n",
              "      <td>0.009715</td>\n",
              "      <td>0.022255</td>\n",
              "      <td>0.000848</td>\n",
              "      <td>0.018141</td>\n",
              "      <td>0.029274</td>\n",
              "      <td>0.018003</td>\n",
              "      <td>-0.009319</td>\n",
              "      <td>0.012039</td>\n",
              "    </tr>\n",
              "    <tr>\n",
              "      <th>PRICE</th>\n",
              "      <td>0.409774</td>\n",
              "      <td>0.209135</td>\n",
              "      <td>0.009233</td>\n",
              "      <td>0.245641</td>\n",
              "      <td>0.253135</td>\n",
              "      <td>0.036913</td>\n",
              "      <td>1.000000</td>\n",
              "      <td>0.183398</td>\n",
              "      <td>0.163795</td>\n",
              "      <td>0.426897</td>\n",
              "      <td>0.330729</td>\n",
              "      <td>0.007887</td>\n",
              "      <td>0.147093</td>\n",
              "      <td>0.032794</td>\n",
              "      <td>0.048842</td>\n",
              "      <td>0.350061</td>\n",
              "      <td>0.033818</td>\n",
              "      <td>0.181367</td>\n",
              "      <td>0.439971</td>\n",
              "    </tr>\n",
              "    <tr>\n",
              "      <th>SALE_NUM</th>\n",
              "      <td>0.110856</td>\n",
              "      <td>0.038322</td>\n",
              "      <td>0.012418</td>\n",
              "      <td>0.011938</td>\n",
              "      <td>0.029347</td>\n",
              "      <td>0.013226</td>\n",
              "      <td>0.183398</td>\n",
              "      <td>1.000000</td>\n",
              "      <td>0.005490</td>\n",
              "      <td>-0.009799</td>\n",
              "      <td>0.226475</td>\n",
              "      <td>0.009996</td>\n",
              "      <td>-0.004336</td>\n",
              "      <td>0.047808</td>\n",
              "      <td>0.025709</td>\n",
              "      <td>-0.001267</td>\n",
              "      <td>0.012849</td>\n",
              "      <td>-0.033541</td>\n",
              "      <td>0.204554</td>\n",
              "    </tr>\n",
              "    <tr>\n",
              "      <th>STYLE</th>\n",
              "      <td>0.268636</td>\n",
              "      <td>0.156933</td>\n",
              "      <td>0.090611</td>\n",
              "      <td>0.237716</td>\n",
              "      <td>0.245772</td>\n",
              "      <td>0.097289</td>\n",
              "      <td>0.163795</td>\n",
              "      <td>0.005490</td>\n",
              "      <td>1.000000</td>\n",
              "      <td>0.319710</td>\n",
              "      <td>0.154705</td>\n",
              "      <td>0.064497</td>\n",
              "      <td>0.104978</td>\n",
              "      <td>0.047888</td>\n",
              "      <td>0.092083</td>\n",
              "      <td>0.196186</td>\n",
              "      <td>0.110315</td>\n",
              "      <td>-0.003757</td>\n",
              "      <td>0.048573</td>\n",
              "    </tr>\n",
              "    <tr>\n",
              "      <th>GRADE</th>\n",
              "      <td>0.481718</td>\n",
              "      <td>0.299643</td>\n",
              "      <td>-0.027030</td>\n",
              "      <td>0.340703</td>\n",
              "      <td>0.347175</td>\n",
              "      <td>0.054531</td>\n",
              "      <td>0.426897</td>\n",
              "      <td>-0.009799</td>\n",
              "      <td>0.319710</td>\n",
              "      <td>1.000000</td>\n",
              "      <td>0.289358</td>\n",
              "      <td>0.030354</td>\n",
              "      <td>0.298578</td>\n",
              "      <td>0.038863</td>\n",
              "      <td>-0.001232</td>\n",
              "      <td>0.572619</td>\n",
              "      <td>0.009726</td>\n",
              "      <td>0.246624</td>\n",
              "      <td>0.066232</td>\n",
              "    </tr>\n",
              "    <tr>\n",
              "      <th>CNDTN</th>\n",
              "      <td>0.368440</td>\n",
              "      <td>0.275587</td>\n",
              "      <td>-0.057202</td>\n",
              "      <td>0.148680</td>\n",
              "      <td>0.158620</td>\n",
              "      <td>0.030482</td>\n",
              "      <td>0.330729</td>\n",
              "      <td>0.226475</td>\n",
              "      <td>0.154705</td>\n",
              "      <td>0.289358</td>\n",
              "      <td>1.000000</td>\n",
              "      <td>0.014403</td>\n",
              "      <td>0.043833</td>\n",
              "      <td>0.150240</td>\n",
              "      <td>-0.034441</td>\n",
              "      <td>0.184962</td>\n",
              "      <td>-0.028913</td>\n",
              "      <td>0.078038</td>\n",
              "      <td>0.315442</td>\n",
              "    </tr>\n",
              "    <tr>\n",
              "      <th>EXTWALL</th>\n",
              "      <td>0.038598</td>\n",
              "      <td>0.042003</td>\n",
              "      <td>0.052014</td>\n",
              "      <td>0.031834</td>\n",
              "      <td>0.002032</td>\n",
              "      <td>0.009715</td>\n",
              "      <td>0.007887</td>\n",
              "      <td>0.009996</td>\n",
              "      <td>0.064497</td>\n",
              "      <td>0.030354</td>\n",
              "      <td>0.014403</td>\n",
              "      <td>1.000000</td>\n",
              "      <td>0.113710</td>\n",
              "      <td>0.051313</td>\n",
              "      <td>0.051228</td>\n",
              "      <td>0.009348</td>\n",
              "      <td>0.041152</td>\n",
              "      <td>-0.041496</td>\n",
              "      <td>0.037892</td>\n",
              "    </tr>\n",
              "    <tr>\n",
              "      <th>ROOF</th>\n",
              "      <td>0.149227</td>\n",
              "      <td>0.094562</td>\n",
              "      <td>-0.017631</td>\n",
              "      <td>0.142726</td>\n",
              "      <td>0.131225</td>\n",
              "      <td>0.022255</td>\n",
              "      <td>0.147093</td>\n",
              "      <td>-0.004336</td>\n",
              "      <td>0.104978</td>\n",
              "      <td>0.298578</td>\n",
              "      <td>0.043833</td>\n",
              "      <td>0.113710</td>\n",
              "      <td>1.000000</td>\n",
              "      <td>-0.103400</td>\n",
              "      <td>-0.008557</td>\n",
              "      <td>0.238833</td>\n",
              "      <td>-0.016670</td>\n",
              "      <td>0.082987</td>\n",
              "      <td>0.011914</td>\n",
              "    </tr>\n",
              "    <tr>\n",
              "      <th>INTWALL</th>\n",
              "      <td>0.094859</td>\n",
              "      <td>0.067505</td>\n",
              "      <td>0.007507</td>\n",
              "      <td>0.030074</td>\n",
              "      <td>0.046293</td>\n",
              "      <td>0.000848</td>\n",
              "      <td>0.032794</td>\n",
              "      <td>0.047808</td>\n",
              "      <td>0.047888</td>\n",
              "      <td>0.038863</td>\n",
              "      <td>0.150240</td>\n",
              "      <td>0.051313</td>\n",
              "      <td>-0.103400</td>\n",
              "      <td>1.000000</td>\n",
              "      <td>0.012448</td>\n",
              "      <td>0.001473</td>\n",
              "      <td>0.003694</td>\n",
              "      <td>0.005023</td>\n",
              "      <td>0.087542</td>\n",
              "    </tr>\n",
              "    <tr>\n",
              "      <th>KITCHENS</th>\n",
              "      <td>0.417169</td>\n",
              "      <td>-0.130218</td>\n",
              "      <td>0.922181</td>\n",
              "      <td>0.505697</td>\n",
              "      <td>0.322496</td>\n",
              "      <td>0.018141</td>\n",
              "      <td>0.048842</td>\n",
              "      <td>0.025709</td>\n",
              "      <td>0.092083</td>\n",
              "      <td>-0.001232</td>\n",
              "      <td>-0.034441</td>\n",
              "      <td>0.051228</td>\n",
              "      <td>-0.008557</td>\n",
              "      <td>0.012448</td>\n",
              "      <td>1.000000</td>\n",
              "      <td>-0.007496</td>\n",
              "      <td>0.742218</td>\n",
              "      <td>-0.027067</td>\n",
              "      <td>0.011366</td>\n",
              "    </tr>\n",
              "    <tr>\n",
              "      <th>FIREPLACES</th>\n",
              "      <td>0.396841</td>\n",
              "      <td>0.268607</td>\n",
              "      <td>-0.029752</td>\n",
              "      <td>0.288145</td>\n",
              "      <td>0.281702</td>\n",
              "      <td>0.029274</td>\n",
              "      <td>0.350061</td>\n",
              "      <td>-0.001267</td>\n",
              "      <td>0.196186</td>\n",
              "      <td>0.572619</td>\n",
              "      <td>0.184962</td>\n",
              "      <td>0.009348</td>\n",
              "      <td>0.238833</td>\n",
              "      <td>0.001473</td>\n",
              "      <td>-0.007496</td>\n",
              "      <td>1.000000</td>\n",
              "      <td>0.036575</td>\n",
              "      <td>0.260352</td>\n",
              "      <td>0.059206</td>\n",
              "    </tr>\n",
              "    <tr>\n",
              "      <th>USECODE</th>\n",
              "      <td>0.337570</td>\n",
              "      <td>-0.088721</td>\n",
              "      <td>0.798941</td>\n",
              "      <td>0.374391</td>\n",
              "      <td>0.265185</td>\n",
              "      <td>0.018003</td>\n",
              "      <td>0.033818</td>\n",
              "      <td>0.012849</td>\n",
              "      <td>0.110315</td>\n",
              "      <td>0.009726</td>\n",
              "      <td>-0.028913</td>\n",
              "      <td>0.041152</td>\n",
              "      <td>-0.016670</td>\n",
              "      <td>0.003694</td>\n",
              "      <td>0.742218</td>\n",
              "      <td>0.036575</td>\n",
              "      <td>1.000000</td>\n",
              "      <td>-0.038741</td>\n",
              "      <td>0.004850</td>\n",
              "    </tr>\n",
              "    <tr>\n",
              "      <th>LANDAREA</th>\n",
              "      <td>0.243874</td>\n",
              "      <td>0.140253</td>\n",
              "      <td>-0.041283</td>\n",
              "      <td>0.238464</td>\n",
              "      <td>0.227244</td>\n",
              "      <td>-0.009319</td>\n",
              "      <td>0.181367</td>\n",
              "      <td>-0.033541</td>\n",
              "      <td>-0.003757</td>\n",
              "      <td>0.246624</td>\n",
              "      <td>0.078038</td>\n",
              "      <td>-0.041496</td>\n",
              "      <td>0.082987</td>\n",
              "      <td>0.005023</td>\n",
              "      <td>-0.027067</td>\n",
              "      <td>0.260352</td>\n",
              "      <td>-0.038741</td>\n",
              "      <td>1.000000</td>\n",
              "      <td>-0.038713</td>\n",
              "    </tr>\n",
              "    <tr>\n",
              "      <th>QUALIFIED</th>\n",
              "      <td>0.172837</td>\n",
              "      <td>0.103165</td>\n",
              "      <td>-0.006023</td>\n",
              "      <td>0.019572</td>\n",
              "      <td>0.046003</td>\n",
              "      <td>0.012039</td>\n",
              "      <td>0.439971</td>\n",
              "      <td>0.204554</td>\n",
              "      <td>0.048573</td>\n",
              "      <td>0.066232</td>\n",
              "      <td>0.315442</td>\n",
              "      <td>0.037892</td>\n",
              "      <td>0.011914</td>\n",
              "      <td>0.087542</td>\n",
              "      <td>0.011366</td>\n",
              "      <td>0.059206</td>\n",
              "      <td>0.004850</td>\n",
              "      <td>-0.038713</td>\n",
              "      <td>1.000000</td>\n",
              "    </tr>\n",
              "  </tbody>\n",
              "</table>\n",
              "</div>"
            ],
            "text/plain": [
              "              BATHRM  HF_BATHRM  NUM_UNITS  ...   USECODE  LANDAREA  QUALIFIED\n",
              "BATHRM      1.000000   0.133854   0.401933  ...  0.337570  0.243874   0.172837\n",
              "HF_BATHRM   0.133854   1.000000  -0.148496  ... -0.088721  0.140253   0.103165\n",
              "NUM_UNITS   0.401933  -0.148496   1.000000  ...  0.798941 -0.041283  -0.006023\n",
              "ROOMS       0.639187   0.133625   0.509763  ...  0.374391  0.238464   0.019572\n",
              "BEDRM       0.591457   0.151910   0.310772  ...  0.265185  0.227244   0.046003\n",
              "STORIES     0.036751   0.032086   0.016098  ...  0.018003 -0.009319   0.012039\n",
              "PRICE       0.409774   0.209135   0.009233  ...  0.033818  0.181367   0.439971\n",
              "SALE_NUM    0.110856   0.038322   0.012418  ...  0.012849 -0.033541   0.204554\n",
              "STYLE       0.268636   0.156933   0.090611  ...  0.110315 -0.003757   0.048573\n",
              "GRADE       0.481718   0.299643  -0.027030  ...  0.009726  0.246624   0.066232\n",
              "CNDTN       0.368440   0.275587  -0.057202  ... -0.028913  0.078038   0.315442\n",
              "EXTWALL     0.038598   0.042003   0.052014  ...  0.041152 -0.041496   0.037892\n",
              "ROOF        0.149227   0.094562  -0.017631  ... -0.016670  0.082987   0.011914\n",
              "INTWALL     0.094859   0.067505   0.007507  ...  0.003694  0.005023   0.087542\n",
              "KITCHENS    0.417169  -0.130218   0.922181  ...  0.742218 -0.027067   0.011366\n",
              "FIREPLACES  0.396841   0.268607  -0.029752  ...  0.036575  0.260352   0.059206\n",
              "USECODE     0.337570  -0.088721   0.798941  ...  1.000000 -0.038741   0.004850\n",
              "LANDAREA    0.243874   0.140253  -0.041283  ... -0.038741  1.000000  -0.038713\n",
              "QUALIFIED   0.172837   0.103165  -0.006023  ...  0.004850 -0.038713   1.000000\n",
              "\n",
              "[19 rows x 19 columns]"
            ]
          },
          "metadata": {
            "tags": []
          },
          "execution_count": 7
        }
      ]
    },
    {
      "cell_type": "code",
      "metadata": {
        "id": "VKOBWLfYp-At"
      },
      "source": [
        "#temp=df.groupby([\"ROOF_D\",\"GBA\"])[\"PRICE\"].max()  \n",
        "#temp"
      ],
      "execution_count": 8,
      "outputs": []
    },
    {
      "cell_type": "code",
      "metadata": {
        "id": "Q3jKOAevqlxf",
        "outputId": "94886532-ed78-42cb-dce7-565523c22630",
        "colab": {
          "base_uri": "https://localhost:8080/"
        }
      },
      "source": [
        "temp=df.groupby([\"HEAT_D\",\"ROOMS\"])[\"PRICE\"].max()  \n",
        "temp"
      ],
      "execution_count": 9,
      "outputs": [
        {
          "output_type": "execute_result",
          "data": {
            "text/plain": [
              "HEAT_D          ROOMS\n",
              "Air Exchng      0.0       175000.0\n",
              "                4.0       109000.0\n",
              "                5.0        55000.0\n",
              "                6.0       330000.0\n",
              "                7.0      1015000.0\n",
              "                           ...    \n",
              "Water Base Brd  11.0     1312500.0\n",
              "                12.0     1720000.0\n",
              "                13.0     1080000.0\n",
              "                14.0      310000.0\n",
              "                16.0      367000.0\n",
              "Name: PRICE, Length: 206, dtype: float64"
            ]
          },
          "metadata": {
            "tags": []
          },
          "execution_count": 9
        }
      ]
    },
    {
      "cell_type": "code",
      "metadata": {
        "id": "VPz6AvaGrLQx",
        "outputId": "8347c9f2-7151-4788-da35-f6a774f0ceb2",
        "colab": {
          "base_uri": "https://localhost:8080/"
        }
      },
      "source": [
        "temp=df.groupby([\"ROOF_D\",\"HEAT_D\"])[\"KITCHENS\"].max()    \n",
        "temp\n"
      ],
      "execution_count": 10,
      "outputs": [
        {
          "output_type": "execute_result",
          "data": {
            "text/plain": [
              "ROOF_D       HEAT_D        \n",
              "Built Up     Air Exchng        2.0\n",
              "             Air-Oil           4.0\n",
              "             Elec Base Brd     4.0\n",
              "             Electric Rad      4.0\n",
              "             Evp Cool          2.0\n",
              "                              ... \n",
              "Typical      Water Base Brd    1.0\n",
              "Water Proof  Forced Air        3.0\n",
              "             Hot Water Rad     1.0\n",
              "Wood- FS     Forced Air        1.0\n",
              "             Warm Cool         2.0\n",
              "Name: KITCHENS, Length: 120, dtype: float64"
            ]
          },
          "metadata": {
            "tags": []
          },
          "execution_count": 10
        }
      ]
    },
    {
      "cell_type": "code",
      "metadata": {
        "id": "RU0dRytEsb2W",
        "outputId": "3bbc4d98-4f5e-44aa-8f54-2dac8caff9a7",
        "colab": {
          "base_uri": "https://localhost:8080/",
          "height": 485
        }
      },
      "source": [
        "temp=df.groupby([\"ROOF_D\",\"HEAT_D\",\"BEDRM\"])[\"PRICE\",\"AC\"].max()    \n",
        "temp\n"
      ],
      "execution_count": 11,
      "outputs": [
        {
          "output_type": "stream",
          "text": [
            "/usr/local/lib/python3.6/dist-packages/ipykernel_launcher.py:1: FutureWarning: Indexing with multiple keys (implicitly converted to a tuple of keys) will be deprecated, use a list instead.\n",
            "  \"\"\"Entry point for launching an IPython kernel.\n"
          ],
          "name": "stderr"
        },
        {
          "output_type": "execute_result",
          "data": {
            "text/html": [
              "<div>\n",
              "<style scoped>\n",
              "    .dataframe tbody tr th:only-of-type {\n",
              "        vertical-align: middle;\n",
              "    }\n",
              "\n",
              "    .dataframe tbody tr th {\n",
              "        vertical-align: top;\n",
              "    }\n",
              "\n",
              "    .dataframe thead th {\n",
              "        text-align: right;\n",
              "    }\n",
              "</style>\n",
              "<table border=\"1\" class=\"dataframe\">\n",
              "  <thead>\n",
              "    <tr style=\"text-align: right;\">\n",
              "      <th></th>\n",
              "      <th></th>\n",
              "      <th></th>\n",
              "      <th>PRICE</th>\n",
              "      <th>AC</th>\n",
              "    </tr>\n",
              "    <tr>\n",
              "      <th>ROOF_D</th>\n",
              "      <th>HEAT_D</th>\n",
              "      <th>BEDRM</th>\n",
              "      <th></th>\n",
              "      <th></th>\n",
              "    </tr>\n",
              "  </thead>\n",
              "  <tbody>\n",
              "    <tr>\n",
              "      <th rowspan=\"5\" valign=\"top\">Built Up</th>\n",
              "      <th rowspan=\"3\" valign=\"top\">Air Exchng</th>\n",
              "      <th>2.0</th>\n",
              "      <td>330000.0</td>\n",
              "      <td>Y</td>\n",
              "    </tr>\n",
              "    <tr>\n",
              "      <th>3.0</th>\n",
              "      <td>230000.0</td>\n",
              "      <td>Y</td>\n",
              "    </tr>\n",
              "    <tr>\n",
              "      <th>4.0</th>\n",
              "      <td>175000.0</td>\n",
              "      <td>Y</td>\n",
              "    </tr>\n",
              "    <tr>\n",
              "      <th rowspan=\"2\" valign=\"top\">Air-Oil</th>\n",
              "      <th>2.0</th>\n",
              "      <td>129000.0</td>\n",
              "      <td>Y</td>\n",
              "    </tr>\n",
              "    <tr>\n",
              "      <th>3.0</th>\n",
              "      <td>385000.0</td>\n",
              "      <td>Y</td>\n",
              "    </tr>\n",
              "    <tr>\n",
              "      <th>...</th>\n",
              "      <th>...</th>\n",
              "      <th>...</th>\n",
              "      <td>...</td>\n",
              "      <td>...</td>\n",
              "    </tr>\n",
              "    <tr>\n",
              "      <th rowspan=\"2\" valign=\"top\">Water Proof</th>\n",
              "      <th>Forced Air</th>\n",
              "      <th>6.0</th>\n",
              "      <td>NaN</td>\n",
              "      <td>Y</td>\n",
              "    </tr>\n",
              "    <tr>\n",
              "      <th>Hot Water Rad</th>\n",
              "      <th>3.0</th>\n",
              "      <td>705000.0</td>\n",
              "      <td>Y</td>\n",
              "    </tr>\n",
              "    <tr>\n",
              "      <th rowspan=\"3\" valign=\"top\">Wood- FS</th>\n",
              "      <th rowspan=\"2\" valign=\"top\">Forced Air</th>\n",
              "      <th>3.0</th>\n",
              "      <td>775000.0</td>\n",
              "      <td>Y</td>\n",
              "    </tr>\n",
              "    <tr>\n",
              "      <th>5.0</th>\n",
              "      <td>920000.0</td>\n",
              "      <td>Y</td>\n",
              "    </tr>\n",
              "    <tr>\n",
              "      <th>Warm Cool</th>\n",
              "      <th>5.0</th>\n",
              "      <td>1415000.0</td>\n",
              "      <td>Y</td>\n",
              "    </tr>\n",
              "  </tbody>\n",
              "</table>\n",
              "<p>567 rows × 2 columns</p>\n",
              "</div>"
            ],
            "text/plain": [
              "                                     PRICE AC\n",
              "ROOF_D      HEAT_D        BEDRM              \n",
              "Built Up    Air Exchng    2.0     330000.0  Y\n",
              "                          3.0     230000.0  Y\n",
              "                          4.0     175000.0  Y\n",
              "            Air-Oil       2.0     129000.0  Y\n",
              "                          3.0     385000.0  Y\n",
              "...                                    ... ..\n",
              "Water Proof Forced Air    6.0          NaN  Y\n",
              "            Hot Water Rad 3.0     705000.0  Y\n",
              "Wood- FS    Forced Air    3.0     775000.0  Y\n",
              "                          5.0     920000.0  Y\n",
              "            Warm Cool     5.0    1415000.0  Y\n",
              "\n",
              "[567 rows x 2 columns]"
            ]
          },
          "metadata": {
            "tags": []
          },
          "execution_count": 11
        }
      ]
    },
    {
      "cell_type": "code",
      "metadata": {
        "id": "MsChoNcRtCHa",
        "outputId": "1ef14bd2-4470-484a-a234-62b51960efa2",
        "colab": {
          "base_uri": "https://localhost:8080/",
          "height": 485
        }
      },
      "source": [
        "temp=df.groupby([\"ROOF_D\",\"EXTWALL_D\",\"STYLE_D\",\"BEDRM\"])[\"PRICE\",\"AC\"].max()    \n",
        "temp"
      ],
      "execution_count": 12,
      "outputs": [
        {
          "output_type": "stream",
          "text": [
            "/usr/local/lib/python3.6/dist-packages/ipykernel_launcher.py:1: FutureWarning: Indexing with multiple keys (implicitly converted to a tuple of keys) will be deprecated, use a list instead.\n",
            "  \"\"\"Entry point for launching an IPython kernel.\n"
          ],
          "name": "stderr"
        },
        {
          "output_type": "execute_result",
          "data": {
            "text/html": [
              "<div>\n",
              "<style scoped>\n",
              "    .dataframe tbody tr th:only-of-type {\n",
              "        vertical-align: middle;\n",
              "    }\n",
              "\n",
              "    .dataframe tbody tr th {\n",
              "        vertical-align: top;\n",
              "    }\n",
              "\n",
              "    .dataframe thead th {\n",
              "        text-align: right;\n",
              "    }\n",
              "</style>\n",
              "<table border=\"1\" class=\"dataframe\">\n",
              "  <thead>\n",
              "    <tr style=\"text-align: right;\">\n",
              "      <th></th>\n",
              "      <th></th>\n",
              "      <th></th>\n",
              "      <th></th>\n",
              "      <th>PRICE</th>\n",
              "      <th>AC</th>\n",
              "    </tr>\n",
              "    <tr>\n",
              "      <th>ROOF_D</th>\n",
              "      <th>EXTWALL_D</th>\n",
              "      <th>STYLE_D</th>\n",
              "      <th>BEDRM</th>\n",
              "      <th></th>\n",
              "      <th></th>\n",
              "    </tr>\n",
              "  </thead>\n",
              "  <tbody>\n",
              "    <tr>\n",
              "      <th rowspan=\"5\" valign=\"top\">Built Up</th>\n",
              "      <th rowspan=\"5\" valign=\"top\">Aluminum</th>\n",
              "      <th>1 Story</th>\n",
              "      <th>3.0</th>\n",
              "      <td>250000.0</td>\n",
              "      <td>Y</td>\n",
              "    </tr>\n",
              "    <tr>\n",
              "      <th rowspan=\"4\" valign=\"top\">2 Story</th>\n",
              "      <th>1.0</th>\n",
              "      <td>260600.0</td>\n",
              "      <td>N</td>\n",
              "    </tr>\n",
              "    <tr>\n",
              "      <th>2.0</th>\n",
              "      <td>949999.0</td>\n",
              "      <td>Y</td>\n",
              "    </tr>\n",
              "    <tr>\n",
              "      <th>3.0</th>\n",
              "      <td>595000.0</td>\n",
              "      <td>Y</td>\n",
              "    </tr>\n",
              "    <tr>\n",
              "      <th>4.0</th>\n",
              "      <td>90000.0</td>\n",
              "      <td>Y</td>\n",
              "    </tr>\n",
              "    <tr>\n",
              "      <th>...</th>\n",
              "      <th>...</th>\n",
              "      <th>...</th>\n",
              "      <th>...</th>\n",
              "      <td>...</td>\n",
              "      <td>...</td>\n",
              "    </tr>\n",
              "    <tr>\n",
              "      <th>Water Proof</th>\n",
              "      <th>Stucco Block</th>\n",
              "      <th>3 Story</th>\n",
              "      <th>6.0</th>\n",
              "      <td>NaN</td>\n",
              "      <td>Y</td>\n",
              "    </tr>\n",
              "    <tr>\n",
              "      <th rowspan=\"4\" valign=\"top\">Wood- FS</th>\n",
              "      <th rowspan=\"2\" valign=\"top\">Common Brick</th>\n",
              "      <th rowspan=\"2\" valign=\"top\">2 Story</th>\n",
              "      <th>3.0</th>\n",
              "      <td>775000.0</td>\n",
              "      <td>Y</td>\n",
              "    </tr>\n",
              "    <tr>\n",
              "      <th>5.0</th>\n",
              "      <td>0.0</td>\n",
              "      <td>Y</td>\n",
              "    </tr>\n",
              "    <tr>\n",
              "      <th>Stone</th>\n",
              "      <th>2 Story</th>\n",
              "      <th>5.0</th>\n",
              "      <td>1415000.0</td>\n",
              "      <td>Y</td>\n",
              "    </tr>\n",
              "    <tr>\n",
              "      <th>Stucco</th>\n",
              "      <th>2.5 Story Fin</th>\n",
              "      <th>5.0</th>\n",
              "      <td>920000.0</td>\n",
              "      <td>Y</td>\n",
              "    </tr>\n",
              "  </tbody>\n",
              "</table>\n",
              "<p>2103 rows × 2 columns</p>\n",
              "</div>"
            ],
            "text/plain": [
              "                                                  PRICE AC\n",
              "ROOF_D      EXTWALL_D    STYLE_D       BEDRM              \n",
              "Built Up    Aluminum     1 Story       3.0     250000.0  Y\n",
              "                         2 Story       1.0     260600.0  N\n",
              "                                       2.0     949999.0  Y\n",
              "                                       3.0     595000.0  Y\n",
              "                                       4.0      90000.0  Y\n",
              "...                                                 ... ..\n",
              "Water Proof Stucco Block 3 Story       6.0          NaN  Y\n",
              "Wood- FS    Common Brick 2 Story       3.0     775000.0  Y\n",
              "                                       5.0          0.0  Y\n",
              "            Stone        2 Story       5.0    1415000.0  Y\n",
              "            Stucco       2.5 Story Fin 5.0     920000.0  Y\n",
              "\n",
              "[2103 rows x 2 columns]"
            ]
          },
          "metadata": {
            "tags": []
          },
          "execution_count": 12
        }
      ]
    },
    {
      "cell_type": "code",
      "metadata": {
        "id": "AOvImTdyt0Gp",
        "outputId": "aeb35207-9ee8-444e-f518-a5a0b37fdf10",
        "colab": {
          "base_uri": "https://localhost:8080/",
          "height": 447
        }
      },
      "source": [
        "plt.figure(figsize = (10, 7))  \n",
        "df[['BATHRM','HF_BATHRM','NUM_UNITS']].boxplot() "
      ],
      "execution_count": 13,
      "outputs": [
        {
          "output_type": "execute_result",
          "data": {
            "text/plain": [
              "<matplotlib.axes._subplots.AxesSubplot at 0x7f4f0d833198>"
            ]
          },
          "metadata": {
            "tags": []
          },
          "execution_count": 13
        },
        {
          "output_type": "display_data",
          "data": {
            "image/png": "[encoded data removed]",
            "text/plain": [
              "<Figure size 720x504 with 1 Axes>"
            ]
          },
          "metadata": {
            "tags": [],
            "needs_background": "light"
          }
        }
      ]
    },
    {
      "cell_type": "code",
      "metadata": {
        "id": "1-szwPep9vLt",
        "outputId": "5b864de5-b1ef-4332-89d1-568ba029656a",
        "colab": {
          "base_uri": "https://localhost:8080/",
          "height": 293
        }
      },
      "source": [
        "df[['PRICE']].boxplot()"
      ],
      "execution_count": 14,
      "outputs": [
        {
          "output_type": "execute_result",
          "data": {
            "text/plain": [
              "<matplotlib.axes._subplots.AxesSubplot at 0x7f4f0d6f4470>"
            ]
          },
          "metadata": {
            "tags": []
          },
          "execution_count": 14
        },
        {
          "output_type": "display_data",
          "data": {
            "image/png": "[encoded data removed]",
            "text/plain": [
              "<Figure size 432x288 with 1 Axes>"
            ]
          },
          "metadata": {
            "tags": [],
            "needs_background": "light"
          }
        }
      ]
    },
    {
      "cell_type": "code",
      "metadata": {
        "id": "xBiT3nGWxR5-",
        "outputId": "93cd9c9f-fea0-42fa-a863-fa41e5bf6ccf",
        "colab": {
          "base_uri": "https://localhost:8080/",
          "height": 282
        }
      },
      "source": [
        "df[['BEDRM','KITCHENS','STORIES']].boxplot() "
      ],
      "execution_count": 15,
      "outputs": [
        {
          "output_type": "execute_result",
          "data": {
            "text/plain": [
              "<matplotlib.axes._subplots.AxesSubplot at 0x7f4f0d293518>"
            ]
          },
          "metadata": {
            "tags": []
          },
          "execution_count": 15
        },
        {
          "output_type": "display_data",
          "data": {
            "image/png": "[encoded data removed]",
            "text/plain": [
              "<Figure size 432x288 with 1 Axes>"
            ]
          },
          "metadata": {
            "tags": [],
            "needs_background": "light"
          }
        }
      ]
    },
    {
      "cell_type": "code",
      "metadata": {
        "id": "Fki7PnX_x82P"
      },
      "source": [
        "#df[['GBA','STYLE']].boxplot() "
      ],
      "execution_count": 16,
      "outputs": []
    },
    {
      "cell_type": "code",
      "metadata": {
        "id": "8XtsB30Ty4a9"
      },
      "source": [
        "mean =df['BATHRM'].mean()\n",
        "std = df['BATHRM'].std()\n",
        "#price_mean =df['PRICE'].mean()\n",
        "#price_std = df['PRICE'].std()\n"
      ],
      "execution_count": 17,
      "outputs": []
    },
    {
      "cell_type": "code",
      "metadata": {
        "id": "MfGJuyqJwncL",
        "outputId": "21bc6eac-3b71-4650-8027-c2adf320e90b",
        "colab": {
          "base_uri": "https://localhost:8080/"
        }
      },
      "source": [
        "for values in df[['PRICE','BATHRM','STORIES']]:\n",
        "  Q1=df[values].quantile(0.25)\n",
        "  Q3=df[values].quantile(0.75)\n",
        "  IQR=Q3-Q1\n",
        "  print(Q1)\n",
        "  print(Q3)\n",
        "  print(IQR)\n",
        "  Lower_Whisker = Q1-1.5 * IQR\n",
        "  Upper_Whisker =Q3 + 1.5 * IQR\n",
        "  print(Lower_Whisker, Upper_Whisker)\n",
        "  df = df[df[values]< Upper_Whisker]\n",
        "  "
      ],
      "execution_count": 18,
      "outputs": [
        {
          "output_type": "stream",
          "text": [
            "0.0\n",
            "580000.0\n",
            "580000.0\n",
            "-870000.0 1450000.0\n",
            "1.0\n",
            "3.0\n",
            "2.0\n",
            "-2.0 6.0\n",
            "2.0\n",
            "2.0\n",
            "0.0\n",
            "2.0 2.0\n"
          ],
          "name": "stdout"
        }
      ]
    },
    {
      "cell_type": "code",
      "metadata": {
        "id": "7Pv_FXjNz3fu"
      },
      "source": [
        "\n",
        "\n",
        "# Q1=df['PRICE'].quantile(0.25)\n",
        "# Q3=df['PRICE'].quantile(0.75)\n",
        "# IQR=Q3-Q1\n",
        "# print(Q1)\n",
        "# print(Q3)\n",
        "# print(IQR)\n",
        "# Lower_Whisker = Q1-1.5 * IQR\n",
        "# Upper_Whisker =Q3 + 1.5 * IQR\n",
        "# print(Lower_Whisker, Upper_Whisker)\n",
        "# df = df[df['PRICE']< Upper_Whisker]"
      ],
      "execution_count": 19,
      "outputs": []
    },
    {
      "cell_type": "code",
      "metadata": {
        "id": "nhoe8thv9k4V",
        "outputId": "3350853f-4d45-4654-86f9-e7e902ecd051",
        "colab": {
          "base_uri": "https://localhost:8080/",
          "height": 293
        }
      },
      "source": [
        "df[['PRICE']].boxplot()"
      ],
      "execution_count": 20,
      "outputs": [
        {
          "output_type": "execute_result",
          "data": {
            "text/plain": [
              "<matplotlib.axes._subplots.AxesSubplot at 0x7f4f0d1aa160>"
            ]
          },
          "metadata": {
            "tags": []
          },
          "execution_count": 20
        },
        {
          "output_type": "display_data",
          "data": {
            "image/png": "[encoded data removed]",
            "text/plain": [
              "<Figure size 432x288 with 1 Axes>"
            ]
          },
          "metadata": {
            "tags": [],
            "needs_background": "light"
          }
        }
      ]
    },
    {
      "cell_type": "code",
      "metadata": {
        "id": "eFgpHehew-Hl",
        "outputId": "4c3b35c0-d37d-4dc7-e492-5ac28c5e00c1",
        "colab": {
          "base_uri": "https://localhost:8080/",
          "height": 282
        }
      },
      "source": [
        "df[['BATHRM']].boxplot()"
      ],
      "execution_count": 21,
      "outputs": [
        {
          "output_type": "execute_result",
          "data": {
            "text/plain": [
              "<matplotlib.axes._subplots.AxesSubplot at 0x7f4f0be94828>"
            ]
          },
          "metadata": {
            "tags": []
          },
          "execution_count": 21
        },
        {
          "output_type": "display_data",
          "data": {
            "image/png": "[encoded data removed]",
            "text/plain": [
              "<Figure size 432x288 with 1 Axes>"
            ]
          },
          "metadata": {
            "tags": [],
            "needs_background": "light"
          }
        }
      ]
    },
    {
      "cell_type": "code",
      "metadata": {
        "id": "aOPfjgcNw_Cz",
        "outputId": "5eab2f46-66ff-4c5a-9d35-1633115cb593",
        "colab": {
          "base_uri": "https://localhost:8080/",
          "height": 282
        }
      },
      "source": [
        "df[['STORIES']].boxplot()"
      ],
      "execution_count": 22,
      "outputs": [
        {
          "output_type": "execute_result",
          "data": {
            "text/plain": [
              "<matplotlib.axes._subplots.AxesSubplot at 0x7f4f0be990b8>"
            ]
          },
          "metadata": {
            "tags": []
          },
          "execution_count": 22
        },
        {
          "output_type": "display_data",
          "data": {
            "image/png": "[encoded data removed]",
            "text/plain": [
              "<Figure size 432x288 with 1 Axes>"
            ]
          },
          "metadata": {
            "tags": [],
            "needs_background": "light"
          }
        }
      ]
    },
    {
      "cell_type": "code",
      "metadata": {
        "id": "yRIv2gxl1E3z",
        "outputId": "51be823f-1e60-4357-ab0a-0d7ec346a8b8",
        "colab": {
          "base_uri": "https://localhost:8080/"
        }
      },
      "source": [
        "df.dtypes"
      ],
      "execution_count": 23,
      "outputs": [
        {
          "output_type": "execute_result",
          "data": {
            "text/plain": [
              "BATHRM        float64\n",
              "HF_BATHRM     float64\n",
              "HEAT_D         object\n",
              "AC             object\n",
              "NUM_UNITS     float64\n",
              "ROOMS         float64\n",
              "BEDRM         float64\n",
              "STORIES       float64\n",
              "PRICE         float64\n",
              "SALE_NUM        int64\n",
              "STYLE         float64\n",
              "STYLE_D        object\n",
              "STRUCT_D       object\n",
              "GRADE         float64\n",
              "GRADE_D        object\n",
              "CNDTN         float64\n",
              "CNDTN_D        object\n",
              "EXTWALL       float64\n",
              "EXTWALL_D      object\n",
              "ROOF          float64\n",
              "ROOF_D         object\n",
              "INTWALL       float64\n",
              "INTWALL_D      object\n",
              "KITCHENS      float64\n",
              "FIREPLACES    float64\n",
              "USECODE         int64\n",
              "LANDAREA        int64\n",
              "QUALIFIED       int64\n",
              "dtype: object"
            ]
          },
          "metadata": {
            "tags": []
          },
          "execution_count": 23
        }
      ]
    },
    {
      "cell_type": "code",
      "metadata": {
        "id": "u9XJwkWFlCHn"
      },
      "source": [
        "#df.isnull().sum()\n",
        "from sklearn.preprocessing import MinMaxScaler\n",
        "scaler = MinMaxScaler()\n",
        "data=['BATHRM','HF_BATHRM','NUM_UNITS','ROOMS','BEDRM','STORIES','PRICE','SALE_NUM','STYLE','GRADE','CNDTN','EXTWALL',\n",
        "      'ROOF','INTWALL','KITCHENS','FIREPLACES','USECODE','LANDAREA','QUALIFIED']\n",
        "\n",
        "for null_values in data:\n",
        "  df[null_values].fillna(df[null_values].mean(), inplace=True)\n"
      ],
      "execution_count": 24,
      "outputs": []
    },
    {
      "cell_type": "code",
      "metadata": {
        "id": "8Q6qm4T1pgfv"
      },
      "source": [
        "#for new_val in data:\n",
        " #   x=df[[new_val]]\n",
        "  #  df[new_val]=scaler.fit_transform(x)"
      ],
      "execution_count": 25,
      "outputs": []
    },
    {
      "cell_type": "code",
      "metadata": {
        "id": "Ybu2Aahaovqf",
        "outputId": "faeed6b4-8f2b-4efe-bd1a-e9137e55a93b",
        "colab": {
          "base_uri": "https://localhost:8080/"
        }
      },
      "source": [
        "df.isnull().sum()"
      ],
      "execution_count": 26,
      "outputs": [
        {
          "output_type": "execute_result",
          "data": {
            "text/plain": [
              "BATHRM        0\n",
              "HF_BATHRM     0\n",
              "HEAT_D        0\n",
              "AC            0\n",
              "NUM_UNITS     0\n",
              "ROOMS         0\n",
              "BEDRM         0\n",
              "STORIES       0\n",
              "PRICE         0\n",
              "SALE_NUM      0\n",
              "STYLE         0\n",
              "STYLE_D       0\n",
              "STRUCT_D      0\n",
              "GRADE         0\n",
              "GRADE_D       0\n",
              "CNDTN         0\n",
              "CNDTN_D       0\n",
              "EXTWALL       0\n",
              "EXTWALL_D     0\n",
              "ROOF          0\n",
              "ROOF_D        0\n",
              "INTWALL       0\n",
              "INTWALL_D     0\n",
              "KITCHENS      0\n",
              "FIREPLACES    0\n",
              "USECODE       0\n",
              "LANDAREA      0\n",
              "QUALIFIED     0\n",
              "dtype: int64"
            ]
          },
          "metadata": {
            "tags": []
          },
          "execution_count": 26
        }
      ]
    },
    {
      "cell_type": "code",
      "metadata": {
        "id": "YJ-dkL4AlhQi"
      },
      "source": [
        "df = df.apply(lambda x: x.fillna(x.value_counts().index[0]))"
      ],
      "execution_count": 27,
      "outputs": []
    },
    {
      "cell_type": "code",
      "metadata": {
        "id": "Guvz_dCXll7A"
      },
      "source": [
        "from sklearn import preprocessing\n",
        "le = preprocessing.LabelEncoder()\n",
        "label_strings=['HEAT_D','AC','STYLE_D','STRUCT_D','GRADE_D','CNDTN_D','EXTWALL_D','ROOF_D','INTWALL_D']\n",
        "\n",
        "for values in label_strings:\n",
        "  df[values]=le.fit_transform(df[values])\n",
        "\n",
        "\n",
        "#df=le.fit()\n",
        "\n"
      ],
      "execution_count": 28,
      "outputs": []
    },
    {
      "cell_type": "code",
      "metadata": {
        "id": "DX02g08Jl_CI"
      },
      "source": [
        "Y=df['QUALIFIED'].astype(int)\n",
        "X=df.drop(['QUALIFIED'],axis=1)"
      ],
      "execution_count": 29,
      "outputs": []
    },
    {
      "cell_type": "code",
      "metadata": {
        "id": "eBGxkLMjddHD"
      },
      "source": [
        "from sklearn.datasets import load_iris\n",
        "from sklearn import preprocessing\n",
        "#X = preprocessing.normalize(X)"
      ],
      "execution_count": 30,
      "outputs": []
    },
    {
      "cell_type": "code",
      "metadata": {
        "id": "QrknI1grm5zp"
      },
      "source": [
        "import numpy as np\n",
        "from sklearn.model_selection import train_test_split\n",
        "X_train, X_test, y_train, y_test = train_test_split(X, Y, test_size=0.33, random_state=42)"
      ],
      "execution_count": 31,
      "outputs": []
    },
    {
      "cell_type": "code",
      "metadata": {
        "id": "EixopkjL--us",
        "outputId": "57e65b2c-2376-45dc-89c6-baa2aa3988c0",
        "colab": {
          "base_uri": "https://localhost:8080/"
        }
      },
      "source": [
        "print(X_train.shape)\n",
        "print(X_test.shape)\n"
      ],
      "execution_count": 32,
      "outputs": [
        {
          "output_type": "stream",
          "text": [
            "(3004, 27)\n",
            "(1481, 27)\n"
          ],
          "name": "stdout"
        }
      ]
    },
    {
      "cell_type": "code",
      "metadata": {
        "id": "_sOENw7s_A5a",
        "outputId": "c07cffb3-9640-4b86-c1a1-a8664c222ae0",
        "colab": {
          "base_uri": "https://localhost:8080/",
          "height": 422
        }
      },
      "source": [
        "X_train"
      ],
      "execution_count": 33,
      "outputs": [
        {
          "output_type": "execute_result",
          "data": {
            "text/html": [
              "<div>\n",
              "<style scoped>\n",
              "    .dataframe tbody tr th:only-of-type {\n",
              "        vertical-align: middle;\n",
              "    }\n",
              "\n",
              "    .dataframe tbody tr th {\n",
              "        vertical-align: top;\n",
              "    }\n",
              "\n",
              "    .dataframe thead th {\n",
              "        text-align: right;\n",
              "    }\n",
              "</style>\n",
              "<table border=\"1\" class=\"dataframe\">\n",
              "  <thead>\n",
              "    <tr style=\"text-align: right;\">\n",
              "      <th></th>\n",
              "      <th>BATHRM</th>\n",
              "      <th>HF_BATHRM</th>\n",
              "      <th>HEAT_D</th>\n",
              "      <th>AC</th>\n",
              "      <th>NUM_UNITS</th>\n",
              "      <th>ROOMS</th>\n",
              "      <th>BEDRM</th>\n",
              "      <th>STORIES</th>\n",
              "      <th>PRICE</th>\n",
              "      <th>SALE_NUM</th>\n",
              "      <th>STYLE</th>\n",
              "      <th>STYLE_D</th>\n",
              "      <th>STRUCT_D</th>\n",
              "      <th>GRADE</th>\n",
              "      <th>GRADE_D</th>\n",
              "      <th>CNDTN</th>\n",
              "      <th>CNDTN_D</th>\n",
              "      <th>EXTWALL</th>\n",
              "      <th>EXTWALL_D</th>\n",
              "      <th>ROOF</th>\n",
              "      <th>ROOF_D</th>\n",
              "      <th>INTWALL</th>\n",
              "      <th>INTWALL_D</th>\n",
              "      <th>KITCHENS</th>\n",
              "      <th>FIREPLACES</th>\n",
              "      <th>USECODE</th>\n",
              "      <th>LANDAREA</th>\n",
              "    </tr>\n",
              "  </thead>\n",
              "  <tbody>\n",
              "    <tr>\n",
              "      <th>68745</th>\n",
              "      <td>2.0</td>\n",
              "      <td>0.0</td>\n",
              "      <td>5</td>\n",
              "      <td>2</td>\n",
              "      <td>1.0</td>\n",
              "      <td>6.0</td>\n",
              "      <td>3.0</td>\n",
              "      <td>1.25</td>\n",
              "      <td>466000.0</td>\n",
              "      <td>4</td>\n",
              "      <td>1.0</td>\n",
              "      <td>0</td>\n",
              "      <td>5</td>\n",
              "      <td>3.0</td>\n",
              "      <td>1</td>\n",
              "      <td>4.0</td>\n",
              "      <td>4</td>\n",
              "      <td>4.0</td>\n",
              "      <td>20</td>\n",
              "      <td>1.0</td>\n",
              "      <td>2</td>\n",
              "      <td>6.0</td>\n",
              "      <td>3</td>\n",
              "      <td>1.0</td>\n",
              "      <td>0.0</td>\n",
              "      <td>12</td>\n",
              "      <td>3538</td>\n",
              "    </tr>\n",
              "    <tr>\n",
              "      <th>64981</th>\n",
              "      <td>1.0</td>\n",
              "      <td>0.0</td>\n",
              "      <td>7</td>\n",
              "      <td>1</td>\n",
              "      <td>1.0</td>\n",
              "      <td>6.0</td>\n",
              "      <td>2.0</td>\n",
              "      <td>1.00</td>\n",
              "      <td>200000.0</td>\n",
              "      <td>2</td>\n",
              "      <td>1.0</td>\n",
              "      <td>0</td>\n",
              "      <td>5</td>\n",
              "      <td>3.0</td>\n",
              "      <td>1</td>\n",
              "      <td>3.0</td>\n",
              "      <td>0</td>\n",
              "      <td>4.0</td>\n",
              "      <td>20</td>\n",
              "      <td>1.0</td>\n",
              "      <td>2</td>\n",
              "      <td>6.0</td>\n",
              "      <td>3</td>\n",
              "      <td>1.0</td>\n",
              "      <td>0.0</td>\n",
              "      <td>12</td>\n",
              "      <td>4125</td>\n",
              "    </tr>\n",
              "    <tr>\n",
              "      <th>39138</th>\n",
              "      <td>2.0</td>\n",
              "      <td>1.0</td>\n",
              "      <td>12</td>\n",
              "      <td>2</td>\n",
              "      <td>1.0</td>\n",
              "      <td>6.0</td>\n",
              "      <td>3.0</td>\n",
              "      <td>1.00</td>\n",
              "      <td>0.0</td>\n",
              "      <td>1</td>\n",
              "      <td>1.0</td>\n",
              "      <td>0</td>\n",
              "      <td>5</td>\n",
              "      <td>4.0</td>\n",
              "      <td>0</td>\n",
              "      <td>4.0</td>\n",
              "      <td>4</td>\n",
              "      <td>14.0</td>\n",
              "      <td>5</td>\n",
              "      <td>1.0</td>\n",
              "      <td>2</td>\n",
              "      <td>6.0</td>\n",
              "      <td>3</td>\n",
              "      <td>1.0</td>\n",
              "      <td>0.0</td>\n",
              "      <td>12</td>\n",
              "      <td>6815</td>\n",
              "    </tr>\n",
              "    <tr>\n",
              "      <th>67509</th>\n",
              "      <td>1.0</td>\n",
              "      <td>2.0</td>\n",
              "      <td>12</td>\n",
              "      <td>2</td>\n",
              "      <td>1.0</td>\n",
              "      <td>8.0</td>\n",
              "      <td>4.0</td>\n",
              "      <td>1.50</td>\n",
              "      <td>0.0</td>\n",
              "      <td>1</td>\n",
              "      <td>3.0</td>\n",
              "      <td>1</td>\n",
              "      <td>5</td>\n",
              "      <td>4.0</td>\n",
              "      <td>0</td>\n",
              "      <td>3.0</td>\n",
              "      <td>0</td>\n",
              "      <td>14.0</td>\n",
              "      <td>5</td>\n",
              "      <td>1.0</td>\n",
              "      <td>2</td>\n",
              "      <td>6.0</td>\n",
              "      <td>3</td>\n",
              "      <td>1.0</td>\n",
              "      <td>2.0</td>\n",
              "      <td>12</td>\n",
              "      <td>5750</td>\n",
              "    </tr>\n",
              "    <tr>\n",
              "      <th>63685</th>\n",
              "      <td>2.0</td>\n",
              "      <td>0.0</td>\n",
              "      <td>12</td>\n",
              "      <td>2</td>\n",
              "      <td>1.0</td>\n",
              "      <td>7.0</td>\n",
              "      <td>2.0</td>\n",
              "      <td>1.00</td>\n",
              "      <td>85000.0</td>\n",
              "      <td>1</td>\n",
              "      <td>1.0</td>\n",
              "      <td>0</td>\n",
              "      <td>5</td>\n",
              "      <td>3.0</td>\n",
              "      <td>1</td>\n",
              "      <td>3.0</td>\n",
              "      <td>0</td>\n",
              "      <td>19.0</td>\n",
              "      <td>0</td>\n",
              "      <td>1.0</td>\n",
              "      <td>2</td>\n",
              "      <td>3.0</td>\n",
              "      <td>9</td>\n",
              "      <td>1.0</td>\n",
              "      <td>0.0</td>\n",
              "      <td>12</td>\n",
              "      <td>4125</td>\n",
              "    </tr>\n",
              "    <tr>\n",
              "      <th>...</th>\n",
              "      <td>...</td>\n",
              "      <td>...</td>\n",
              "      <td>...</td>\n",
              "      <td>...</td>\n",
              "      <td>...</td>\n",
              "      <td>...</td>\n",
              "      <td>...</td>\n",
              "      <td>...</td>\n",
              "      <td>...</td>\n",
              "      <td>...</td>\n",
              "      <td>...</td>\n",
              "      <td>...</td>\n",
              "      <td>...</td>\n",
              "      <td>...</td>\n",
              "      <td>...</td>\n",
              "      <td>...</td>\n",
              "      <td>...</td>\n",
              "      <td>...</td>\n",
              "      <td>...</td>\n",
              "      <td>...</td>\n",
              "      <td>...</td>\n",
              "      <td>...</td>\n",
              "      <td>...</td>\n",
              "      <td>...</td>\n",
              "      <td>...</td>\n",
              "      <td>...</td>\n",
              "      <td>...</td>\n",
              "    </tr>\n",
              "    <tr>\n",
              "      <th>73753</th>\n",
              "      <td>2.0</td>\n",
              "      <td>0.0</td>\n",
              "      <td>5</td>\n",
              "      <td>1</td>\n",
              "      <td>1.0</td>\n",
              "      <td>9.0</td>\n",
              "      <td>4.0</td>\n",
              "      <td>1.50</td>\n",
              "      <td>0.0</td>\n",
              "      <td>1</td>\n",
              "      <td>3.0</td>\n",
              "      <td>1</td>\n",
              "      <td>5</td>\n",
              "      <td>4.0</td>\n",
              "      <td>0</td>\n",
              "      <td>3.0</td>\n",
              "      <td>0</td>\n",
              "      <td>14.0</td>\n",
              "      <td>5</td>\n",
              "      <td>1.0</td>\n",
              "      <td>2</td>\n",
              "      <td>6.0</td>\n",
              "      <td>3</td>\n",
              "      <td>1.0</td>\n",
              "      <td>1.0</td>\n",
              "      <td>12</td>\n",
              "      <td>6250</td>\n",
              "    </tr>\n",
              "    <tr>\n",
              "      <th>20613</th>\n",
              "      <td>3.0</td>\n",
              "      <td>0.0</td>\n",
              "      <td>12</td>\n",
              "      <td>2</td>\n",
              "      <td>1.0</td>\n",
              "      <td>6.0</td>\n",
              "      <td>4.0</td>\n",
              "      <td>1.50</td>\n",
              "      <td>0.0</td>\n",
              "      <td>3</td>\n",
              "      <td>3.0</td>\n",
              "      <td>1</td>\n",
              "      <td>5</td>\n",
              "      <td>6.0</td>\n",
              "      <td>8</td>\n",
              "      <td>3.0</td>\n",
              "      <td>0</td>\n",
              "      <td>14.0</td>\n",
              "      <td>5</td>\n",
              "      <td>11.0</td>\n",
              "      <td>11</td>\n",
              "      <td>6.0</td>\n",
              "      <td>3</td>\n",
              "      <td>1.0</td>\n",
              "      <td>2.0</td>\n",
              "      <td>12</td>\n",
              "      <td>3580</td>\n",
              "    </tr>\n",
              "    <tr>\n",
              "      <th>61413</th>\n",
              "      <td>1.0</td>\n",
              "      <td>1.0</td>\n",
              "      <td>7</td>\n",
              "      <td>1</td>\n",
              "      <td>1.0</td>\n",
              "      <td>5.0</td>\n",
              "      <td>2.0</td>\n",
              "      <td>1.00</td>\n",
              "      <td>70000.0</td>\n",
              "      <td>1</td>\n",
              "      <td>1.0</td>\n",
              "      <td>0</td>\n",
              "      <td>5</td>\n",
              "      <td>3.0</td>\n",
              "      <td>1</td>\n",
              "      <td>3.0</td>\n",
              "      <td>0</td>\n",
              "      <td>6.0</td>\n",
              "      <td>21</td>\n",
              "      <td>1.0</td>\n",
              "      <td>2</td>\n",
              "      <td>3.0</td>\n",
              "      <td>9</td>\n",
              "      <td>1.0</td>\n",
              "      <td>0.0</td>\n",
              "      <td>12</td>\n",
              "      <td>2750</td>\n",
              "    </tr>\n",
              "    <tr>\n",
              "      <th>66937</th>\n",
              "      <td>3.0</td>\n",
              "      <td>0.0</td>\n",
              "      <td>5</td>\n",
              "      <td>2</td>\n",
              "      <td>1.0</td>\n",
              "      <td>6.0</td>\n",
              "      <td>3.0</td>\n",
              "      <td>1.50</td>\n",
              "      <td>415800.0</td>\n",
              "      <td>4</td>\n",
              "      <td>3.0</td>\n",
              "      <td>1</td>\n",
              "      <td>5</td>\n",
              "      <td>4.0</td>\n",
              "      <td>0</td>\n",
              "      <td>4.0</td>\n",
              "      <td>4</td>\n",
              "      <td>6.0</td>\n",
              "      <td>21</td>\n",
              "      <td>1.0</td>\n",
              "      <td>2</td>\n",
              "      <td>11.0</td>\n",
              "      <td>4</td>\n",
              "      <td>1.0</td>\n",
              "      <td>0.0</td>\n",
              "      <td>12</td>\n",
              "      <td>2500</td>\n",
              "    </tr>\n",
              "    <tr>\n",
              "      <th>26616</th>\n",
              "      <td>3.0</td>\n",
              "      <td>0.0</td>\n",
              "      <td>12</td>\n",
              "      <td>2</td>\n",
              "      <td>1.0</td>\n",
              "      <td>6.0</td>\n",
              "      <td>3.0</td>\n",
              "      <td>1.75</td>\n",
              "      <td>320000.0</td>\n",
              "      <td>1</td>\n",
              "      <td>4.0</td>\n",
              "      <td>3</td>\n",
              "      <td>5</td>\n",
              "      <td>6.0</td>\n",
              "      <td>8</td>\n",
              "      <td>4.0</td>\n",
              "      <td>4</td>\n",
              "      <td>22.0</td>\n",
              "      <td>2</td>\n",
              "      <td>1.0</td>\n",
              "      <td>2</td>\n",
              "      <td>6.0</td>\n",
              "      <td>3</td>\n",
              "      <td>1.0</td>\n",
              "      <td>1.0</td>\n",
              "      <td>12</td>\n",
              "      <td>5000</td>\n",
              "    </tr>\n",
              "  </tbody>\n",
              "</table>\n",
              "<p>3004 rows × 27 columns</p>\n",
              "</div>"
            ],
            "text/plain": [
              "       BATHRM  HF_BATHRM  HEAT_D  AC  ...  KITCHENS  FIREPLACES  USECODE  LANDAREA\n",
              "68745     2.0        0.0       5   2  ...       1.0         0.0       12      3538\n",
              "64981     1.0        0.0       7   1  ...       1.0         0.0       12      4125\n",
              "39138     2.0        1.0      12   2  ...       1.0         0.0       12      6815\n",
              "67509     1.0        2.0      12   2  ...       1.0         2.0       12      5750\n",
              "63685     2.0        0.0      12   2  ...       1.0         0.0       12      4125\n",
              "...       ...        ...     ...  ..  ...       ...         ...      ...       ...\n",
              "73753     2.0        0.0       5   1  ...       1.0         1.0       12      6250\n",
              "20613     3.0        0.0      12   2  ...       1.0         2.0       12      3580\n",
              "61413     1.0        1.0       7   1  ...       1.0         0.0       12      2750\n",
              "66937     3.0        0.0       5   2  ...       1.0         0.0       12      2500\n",
              "26616     3.0        0.0      12   2  ...       1.0         1.0       12      5000\n",
              "\n",
              "[3004 rows x 27 columns]"
            ]
          },
          "metadata": {
            "tags": []
          },
          "execution_count": 33
        }
      ]
    },
    {
      "cell_type": "code",
      "metadata": {
        "id": "PynhwhSm_m7z"
      },
      "source": [
        "from sklearn.naive_bayes import GaussianNB\n",
        "gnb = GaussianNB()\n",
        "gnb=gnb.fit(X_train, y_train)\n"
      ],
      "execution_count": 46,
      "outputs": []
    },
    {
      "cell_type": "code",
      "metadata": {
        "id": "Os5K8UXQBUev"
      },
      "source": [
        "y_pred=gnb.predict(X_test)"
      ],
      "execution_count": 47,
      "outputs": []
    },
    {
      "cell_type": "code",
      "metadata": {
        "id": "b2z86uheB_WD",
        "outputId": "3da285a5-04bf-47b7-bbd0-9f0ea9f75204",
        "colab": {
          "base_uri": "https://localhost:8080/"
        }
      },
      "source": [
        "from sklearn.metrics import accuracy_score\n",
        "accuracy_score(y_test, y_pred)\n"
      ],
      "execution_count": 48,
      "outputs": [
        {
          "output_type": "execute_result",
          "data": {
            "text/plain": [
              "0.8035111411208643"
            ]
          },
          "metadata": {
            "tags": []
          },
          "execution_count": 48
        }
      ]
    },
    {
      "cell_type": "code",
      "metadata": {
        "id": "jqE2qO-SrTbm",
        "outputId": "5e78169c-04c9-4a14-936c-f3310800db0b",
        "colab": {
          "base_uri": "https://localhost:8080/",
          "height": 279
        }
      },
      "source": [
        "lr_probs = model.predict_proba(testX)\n",
        "lr_probs = lr_probs[:, 1]\n",
        "ns_auc = roc_auc_score(testy, ns_probs)\n",
        "lr_auc = roc_auc_score(testy, lr_probs)\n",
        "print('No Skill: ROC AUC=%.3f' % (ns_auc))\n",
        "print('Logistic: ROC AUC=%.3f' % (lr_auc))\n",
        "ns_fpr, ns_tpr, _ = roc_curve(testy, ns_probs)\n",
        "lr_fpr, lr_tpr, _ = roc_curve(testy, lr_probs)\n",
        "pyplot.plot(ns_fpr, ns_tpr, linestyle='--', label='No Skill')\n",
        "pyplot.plot(lr_fpr, lr_tpr, marker='.', label='Logistic')\n",
        "pyplot.xlabel('False Positive Rate')\n",
        "pyplot.ylabel('True Positive Rate')\n",
        "pyplot.legend()\n",
        "pyplot.show()"
      ],
      "execution_count": 50,
      "outputs": [
        {
          "output_type": "display_data",
          "data": {
            "image/png": "[encoded data removed]",
            "text/plain": [
              "<Figure size 432x288 with 1 Axes>"
            ]
          },
          "metadata": {
            "tags": [],
            "needs_background": "light"
          }
        }
      ]
    },
    {
      "cell_type": "code",
      "metadata": {
        "id": "CGW945ZvCDu3"
      },
      "source": [
        "from sklearn.ensemble import RandomForestClassifier\n",
        "from sklearn.datasets import make_classification\n",
        "from sklearn import preprocessing\n",
        "\n",
        "#classifier = RandomForestClassifier(n_estimators=20, random_state=0)\n",
        "#classifier.fit(X_train, y_train)\n",
        "#y_pred = classifier.predict(X_test)"
      ],
      "execution_count": 37,
      "outputs": []
    },
    {
      "cell_type": "code",
      "metadata": {
        "id": "u7GXbH--DPmy"
      },
      "source": [
        ""
      ],
      "execution_count": 37,
      "outputs": []
    },
    {
      "cell_type": "code",
      "metadata": {
        "id": "Rw3wq94Keq3s",
        "outputId": "e7efc895-b4f3-4382-9642-d9a2da66838d",
        "colab": {
          "base_uri": "https://localhost:8080/"
        }
      },
      "source": [
        "from sklearn.neighbors import KNeighborsClassifier\n",
        "neigh = KNeighborsClassifier(n_neighbors=3)\n",
        "neigh.fit(X_train, y_train)\n",
        "y_pred=neigh.predict(X_test)\n",
        "accuracy_score(y_test, y_pred)\n"
      ],
      "execution_count": 38,
      "outputs": [
        {
          "output_type": "execute_result",
          "data": {
            "text/plain": [
              "0.824442943956786"
            ]
          },
          "metadata": {
            "tags": []
          },
          "execution_count": 38
        }
      ]
    },
    {
      "cell_type": "code",
      "metadata": {
        "id": "zimvQyDZfdAJ",
        "outputId": "c5e8484a-5c53-4481-b3f7-47a1cd9de1ab",
        "colab": {
          "base_uri": "https://localhost:8080/"
        }
      },
      "source": [
        "from sklearn.pipeline import make_pipeline\n",
        "from sklearn.preprocessing import StandardScaler\n",
        "from sklearn.svm import SVC\n",
        "clf = SVC(kernel='rbf')\n",
        "clf.fit(X_train, y_train)\n",
        "y_pred=clf.predict(X_test)\n",
        "accuracy_score(y_test, y_pred)\n",
        "\n",
        "\n"
      ],
      "execution_count": 39,
      "outputs": [
        {
          "output_type": "execute_result",
          "data": {
            "text/plain": [
              "0.8460499662390277"
            ]
          },
          "metadata": {
            "tags": []
          },
          "execution_count": 39
        }
      ]
    },
    {
      "cell_type": "code",
      "metadata": {
        "id": "KdbXd2ZMgKsR",
        "outputId": "c3452abb-2845-4447-9f75-997688e196cf",
        "colab": {
          "base_uri": "https://localhost:8080/"
        }
      },
      "source": [
        "from sklearn.datasets import load_iris\n",
        "from sklearn.linear_model import LogisticRegression\n",
        "clf = LogisticRegression(random_state=0).fit(X_train, y_train)\n",
        "y_pred=clf.predict(X_test)\n",
        "print(clf.score(X_train,y_train))\n",
        "accuracy_score(y_test, y_pred)"
      ],
      "execution_count": 40,
      "outputs": [
        {
          "output_type": "stream",
          "text": [
            "0.8065912117177098\n"
          ],
          "name": "stdout"
        },
        {
          "output_type": "execute_result",
          "data": {
            "text/plain": [
              "0.812964213369345"
            ]
          },
          "metadata": {
            "tags": []
          },
          "execution_count": 40
        }
      ]
    },
    {
      "cell_type": "code",
      "metadata": {
        "id": "Fc0u-fSfjmHD"
      },
      "source": [
        "from sklearn.model_selection import GridSearchCV\n",
        "rfc=RandomForestClassifier(random_state=42)\n",
        "\n",
        "param_grid = { \n",
        "    'n_estimators': [200, 500],\n",
        "    'max_features': ['auto', 'sqrt', 'log2'],\n",
        "    'max_depth' : [4,5,6,7,8],\n",
        "    'criterion' :['gini', 'entropy']\n",
        "}\n",
        "#CV_rfc = GridSearchCV(estimator=rfc, param_grid=param_grid, cv= 5)\n",
        "#CV_rfc.fit(X_train, y_train)"
      ],
      "execution_count": 41,
      "outputs": []
    },
    {
      "cell_type": "code",
      "metadata": {
        "id": "ptNmOglbklWV"
      },
      "source": [
        "#CV_rfc.best_params_"
      ],
      "execution_count": 42,
      "outputs": []
    },
    {
      "cell_type": "code",
      "metadata": {
        "id": "Izp1cJkekzrQ"
      },
      "source": [
        "#rfc1=RandomForestClassifier(random_state=42, max_features='log2', n_estimators=500, max_depth=8, criterion='entropy')\n",
        "rfc1=RandomForestClassifier(random_state=42, max_features='auto', n_estimators=500, max_depth=8, criterion='gini')\n"
      ],
      "execution_count": 43,
      "outputs": []
    },
    {
      "cell_type": "code",
      "metadata": {
        "id": "Zjvr79BMk0lQ"
      },
      "source": [
        "rfc1.fit(X_train, y_train)\n",
        "pred=rfc1.predict(X_test)"
      ],
      "execution_count": 44,
      "outputs": []
    },
    {
      "cell_type": "code",
      "metadata": {
        "id": "-y4AD2_VlCb4",
        "outputId": "140d32e1-9719-4193-f275-909bda41dfc6",
        "colab": {
          "base_uri": "https://localhost:8080/"
        }
      },
      "source": [
        "accuracy_score(y_test,pred)"
      ],
      "execution_count": 45,
      "outputs": [
        {
          "output_type": "execute_result",
          "data": {
            "text/plain": [
              "0.850101282916948"
            ]
          },
          "metadata": {
            "tags": []
          },
          "execution_count": 45
        }
      ]
    },
    {
      "cell_type": "code",
      "metadata": {
        "id": "DL3TEW6RDXxD"
      },
      "source": [
        "unique=[]\n",
        "def display(filename):\n",
        "  test_data=pd.read_csv(filename)\n",
        "  test_data=drop(test_data)\n",
        "  # test_data=outliers(test_data)\n",
        "  # print(\"Dataset shape\",test_data.shape)\n",
        "  \n",
        "  test_data=null_values(test_data)\n",
        "  \n",
        "  unique=test_data['row ID']\n",
        "  test_data=test_data.drop(['row ID'],axis=1)\n",
        "  test_data=categorical(test_data)\n",
        "  test_data=transform(test_data)\n",
        "  return test_data,unique\n",
        "\n",
        "def drop(test_data):\n",
        "  test_data=test_data.drop(['SALEDATE','GIS_LAST_MOD_DTTM','AYB','YR_RMDL','BLDG_NUM','STRUCT','HEAT','EYB','GBA'],axis=1) \n",
        "  return test_data \n",
        "\n",
        "# def outliers(test_data):\n",
        "#   print(\"aas\",test_data.shape)\n",
        "#   Q1=test_data['PRICE'].quantile(0.25)\n",
        "#   Q3=test_data['PRICE'].quantile(0.75)\n",
        "#   IQR=Q3-Q1\n",
        "#   Lower_Whisker = Q1-1.5 * IQR\n",
        "#   Upper_Whisker =Q3 + 1.5 * IQR\n",
        "#   test_data = test_data[test_data['PRICE']< Upper_Whisker] \n",
        "#   print(\"aas\",test_data.shape)\n",
        "   \n",
        "#   return test_data\n",
        "  \n",
        "\n",
        "def null_values(test_data):\n",
        "  data=['BATHRM','HF_BATHRM','NUM_UNITS','ROOMS','BEDRM','STORIES','PRICE','SALE_NUM','STYLE','GRADE','CNDTN','EXTWALL',\n",
        "      'ROOF','INTWALL','KITCHENS','FIREPLACES','USECODE','LANDAREA']\n",
        "\n",
        "  for null_values in data:\n",
        "    test_data[null_values].fillna(test_data[null_values].mean(), inplace=True)  \n",
        "\n",
        "  return test_data\n",
        "\n",
        "\n",
        "def categorical(test_data):\n",
        "  test_data = test_data.apply(lambda x: x.fillna(x.value_counts().index[0]))\n",
        "  return test_data\n",
        "\n",
        "\n",
        "def transform(test_data):\n",
        "  le = preprocessing.LabelEncoder()\n",
        "  label_strings=['HEAT_D','AC','STYLE_D','STRUCT_D','GRADE_D','CNDTN_D','EXTWALL_D','ROOF_D','INTWALL_D']\n",
        "  for values in label_strings:\n",
        "    test_data[values]=le.fit_transform(test_data[values])\n",
        "\n",
        "  return test_data  \n",
        "      "
      ],
      "execution_count": null,
      "outputs": []
    },
    {
      "cell_type": "code",
      "metadata": {
        "id": "zxWNLVg8EhI5"
      },
      "source": [
        "def dataset(filename):\n",
        "  if filename=='Assignment3-UnknownData.csv':\n",
        "    test_data,unique=display(filename)\n",
        "    return test_data,unique\n",
        "     "
      ],
      "execution_count": null,
      "outputs": []
    },
    {
      "cell_type": "code",
      "metadata": {
        "id": "ey4rMf73W8Qn"
      },
      "source": [
        "test_data,unique=dataset('Assignment3-UnknownData.csv')"
      ],
      "execution_count": null,
      "outputs": []
    },
    {
      "cell_type": "code",
      "metadata": {
        "id": "Djity2pk2yyP",
        "outputId": "9a4a7709-60cf-4466-9dfb-4680eb610053",
        "colab": {
          "base_uri": "https://localhost:8080/",
          "height": 34
        }
      },
      "source": [
        "test_data.shape"
      ],
      "execution_count": null,
      "outputs": [
        {
          "output_type": "execute_result",
          "data": {
            "text/plain": [
              "(32147, 27)"
            ]
          },
          "metadata": {
            "tags": []
          },
          "execution_count": 49
        }
      ]
    },
    {
      "cell_type": "code",
      "metadata": {
        "id": "WDuZacmdXQaK"
      },
      "source": [
        "test_predict=rfc1.predict(test_data)"
      ],
      "execution_count": null,
      "outputs": []
    },
    {
      "cell_type": "code",
      "metadata": {
        "id": "puphmTR1ekpj"
      },
      "source": [
        "submission = pd.DataFrame({'Row ID':unique,'Predict-Qualified':test_predict})"
      ],
      "execution_count": null,
      "outputs": []
    },
    {
      "cell_type": "code",
      "metadata": {
        "id": "-sQgENwdvUlj",
        "outputId": "2263b380-b185-45a0-b5c6-582a9f9f6003",
        "colab": {
          "base_uri": "https://localhost:8080/",
          "height": 34
        }
      },
      "source": [
        "submission.shape"
      ],
      "execution_count": null,
      "outputs": [
        {
          "output_type": "execute_result",
          "data": {
            "text/plain": [
              "(32147, 2)"
            ]
          },
          "metadata": {
            "tags": []
          },
          "execution_count": 52
        }
      ]
    },
    {
      "cell_type": "code",
      "metadata": {
        "id": "4SMFofIOvzBP",
        "outputId": "ac3a3e75-1a3a-44fa-8e88-759a8ffd3201",
        "colab": {
          "base_uri": "https://localhost:8080/",
          "height": 34
        }
      },
      "source": [
        "#Convert DataFrame to a csv file that can be uploaded\n",
        "#This is saved in the same directory as your notebook\n",
        "filename = 'Submission.csv'\n",
        "\n",
        "submission.to_csv(filename,index=False)\n",
        "\n",
        "print('Saved file: ' + filename)"
      ],
      "execution_count": null,
      "outputs": [
        {
          "output_type": "stream",
          "text": [
            "Saved file: Submission.csv\n"
          ],
          "name": "stdout"
        }
      ]
    },
    {
      "cell_type": "code",
      "metadata": {
        "id": "funkUAgSv6Ak"
      },
      "source": [
        ""
      ],
      "execution_count": null,
      "outputs": []
    },
    {
      "cell_type": "code",
      "metadata": {
        "id": "bDBnlR1AWdu1"
      },
      "source": [
        ""
      ],
      "execution_count": null,
      "outputs": []
    },
    {
      "cell_type": "code",
      "metadata": {
        "id": "HioWmhDtWgO-"
      },
      "source": [
        ""
      ],
      "execution_count": null,
      "outputs": []
    }
  ]
}